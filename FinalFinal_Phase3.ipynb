{
  "nbformat": 4,
  "nbformat_minor": 0,
  "metadata": {
    "colab": {
      "name": "Phase3.ipynb",
      "provenance": [],
      "collapsed_sections": []
    },
    "kernelspec": {
      "name": "python3",
      "display_name": "Python 3"
    }
  },
  "cells": [
    {
      "cell_type": "code",
      "metadata": {
        "id": "UORHOkpF6e18",
        "colab_type": "code",
        "colab": {}
      },
      "source": [
        "import torch\n",
        "import torchtext\n",
        "\n",
        "# The first time you run this will download a ~823MB file\n",
        "glove = torchtext.vocab.GloVe(name=\"twitter.27B\", # trained on Twitter 2014 corpus\n",
        "                              dim=200)   # embedding size = 50"
      ],
      "execution_count": 0,
      "outputs": []
    },
    {
      "cell_type": "code",
      "metadata": {
        "id": "aNXtT6iCVsrY",
        "colab_type": "code",
        "outputId": "4ed93e40-764d-4ec1-b7b4-3ba32a730792",
        "colab": {
          "base_uri": "https://localhost:8080/",
          "height": 35
        }
      },
      "source": [
        "#setup Google Drive\n",
        "from google.colab import drive\n",
        "drive.mount('/content/drive')"
      ],
      "execution_count": 0,
      "outputs": [
        {
          "output_type": "stream",
          "text": [
            "Drive already mounted at /content/drive; to attempt to forcibly remount, call drive.mount(\"/content/drive\", force_remount=True).\n"
          ],
          "name": "stdout"
        }
      ]
    },
    {
      "cell_type": "code",
      "metadata": {
        "id": "bi_v650L6lAJ",
        "colab_type": "code",
        "colab": {}
      },
      "source": [
        "import csv\n",
        "import torch\n",
        "import torch.nn as nn\n",
        "import torch.nn.functional as F\n",
        "import torch.optim as optim\n",
        "import torchtext\n",
        "import numpy as np\n",
        "import matplotlib.pyplot as plt\n",
        "\n",
        "# file location (make sure to use your file location)\n",
        "#file_dir_sam = '/content/drive/My Drive/Colab Notebooks/aps360/Lectures/'\n",
        "file_dir = '/content/drive/My Drive/Colab Notebooks/aps360/Projects/'\n",
        "\n",
        "def get_data():\n",
        "    return csv.reader(open(file_dir + \"parsed_data.csv\"))\n",
        "\n",
        "def split_tweet(tweet,print_data):\n",
        "    # separate punctuations\n",
        "    \n",
        "    tweet = tweet.replace(\".\", \" . \") \\\n",
        "                 .replace(\",\", \" , \") \\\n",
        "                 .replace(\";\", \" ; \") \\\n",
        "                 .replace(\"?\", \" ? \")   \n",
        "\n",
        "    if(print_data < 2):\n",
        "      print(\"Original Data: \")\n",
        "      print(tweet)\n",
        "      print(\"Split and Normalized Data: \")\n",
        "      print(tweet.lower().split())\n",
        "    return tweet.lower().split()"
      ],
      "execution_count": 0,
      "outputs": []
    },
    {
      "cell_type": "code",
      "metadata": {
        "id": "Etna54zjmLsJ",
        "colab_type": "code",
        "colab": {}
      },
      "source": [
        "import pandas as pd\n",
        "\n",
        "columns = ['label', 'text']\n",
        "#columns = ['text']\n",
        "df_train = pd.DataFrame(columns=columns)\n",
        "df_val = pd.DataFrame(columns=columns)\n",
        "df_test = pd.DataFrame(columns=columns)"
      ],
      "execution_count": 0,
      "outputs": []
    },
    {
      "cell_type": "code",
      "metadata": {
        "id": "0MoEcSg66lAN",
        "colab_type": "code",
        "outputId": "c1467f7b-d2b2-43cf-e8df-8a47c0533edd",
        "colab": {
          "base_uri": "https://localhost:8080/",
          "height": 453
        }
      },
      "source": [
        "def get_tweet_words(glove_vector):\n",
        "    print_data = 0\n",
        "    train, valid, test = [], [], []\n",
        "    tr,vl,te = 0,0,0\n",
        "    num_pos, num_neg = 0, 0\n",
        "    pos_train,neg_train, pos_val,neg_val, pos_test,neg_test = 0,0,0,0,0,0\n",
        "    for i, line in enumerate(get_data()):\n",
        "        if i % 1 == 0:\n",
        "            tweet = line[-1]\n",
        "            #print(tweet)\n",
        "            idxs = [glove_vector.stoi[w]        # lookup the index of word\n",
        "                    for w in split_tweet(tweet,print_data)\n",
        "                    if w in glove_vector.stoi] # keep words that has an embedding\n",
        "            if not idxs: # ignore tweets without any word with an embedding\n",
        "                continue\n",
        "            \n",
        "            if (print_data < 2):\n",
        "              print(\"Glove indexed data: \")\n",
        "              print(idxs)\n",
        "\n",
        "            idxs = torch.tensor(idxs) # convert list to pytorch tensor \n",
        "\n",
        "            if (print_data < 2):\n",
        "              print(\"Tensor data: \")\n",
        "              print(idxs)\n",
        "\n",
        "            print_data +=1 \n",
        "\n",
        "            # label = torch.tensor(int(line[0] == \"4\")).long()\n",
        "            #label = torch.tensor(int(line[0] == \"0\")).long()\n",
        "            if (line[0] == '0'):\n",
        "              label = torch.tensor(int(1)).long()\n",
        "            else:\n",
        "              label = torch.tensor(int(0)).long() \n",
        "\n",
        "            label_panda = 'sdf'\n",
        "            if (label.item() == 0):\n",
        "                label_panda = 'neg'\n",
        "                num_neg +=1\n",
        "            elif(label.item() == 1):\n",
        "                label_panda = 'pos'\n",
        "                num_pos +=1\n",
        "\n",
        "            if i % 5 < 3:\n",
        "                s1 = [tweet, label.item()]\n",
        "                df_train.loc[tr, 'text'] = tweet\n",
        "                df_train.loc[tr, 'label'] = label_panda #label.item()\n",
        "                tr+=1\n",
        "                train.append((idxs, label))\n",
        "\n",
        "                if(label == 1):\n",
        "                  pos_train +=1\n",
        "\n",
        "                elif(label == 0): \n",
        "                  neg_train +=1\n",
        "\n",
        "            elif i % 5 == 4:\n",
        "                s1 = [tweet, label.item()]\n",
        "                df_val.loc[vl, 'text'] = tweet\n",
        "                df_val.loc[vl, 'label'] = label_panda           \n",
        "                vl+=1          \n",
        "                valid.append((idxs, label))\n",
        "\n",
        "                if(label == 1):\n",
        "                  pos_val +=1\n",
        "\n",
        "                elif(label == 0): \n",
        "                  neg_val +=1                \n",
        "            else:\n",
        "                s1 = [tweet, label.item()]\n",
        "                df_test.loc[te, 'text'] = tweet\n",
        "                df_test.loc[te, 'label'] = label_panda\n",
        "                te+=1           \n",
        "                test.append((idxs, label))\n",
        "                if(label == 1):\n",
        "                  pos_test +=1\n",
        "\n",
        "                elif(label == 0): \n",
        "                  neg_test +=1\n",
        "\n",
        "    print(\"num pos = \" + str(num_pos))    \n",
        "    print(\"num neg = \" + str(num_neg))  \n",
        "\n",
        "    print(\"num pos train = \" + str(pos_train))    \n",
        "    print(\"num neg  train = \" + str(neg_train))    \n",
        "\n",
        "    print(\"num pos val = \" + str(pos_val))    \n",
        "    print(\"num neg  val = \" + str(neg_val))    \n",
        "\n",
        "    print(\"num pos test = \" + str(pos_test))    \n",
        "    print(\"num neg  test = \" + str(neg_test))    \n",
        "\n",
        "    return train, valid, test\n",
        "\n",
        "train, valid, test = get_tweet_words(glove)\n"
      ],
      "execution_count": 0,
      "outputs": [
        {
          "output_type": "stream",
          "text": [
            "Original Data: \n",
            "Who is the biggest gossiper you know ? \n",
            "Split and Normalized Data: \n",
            "['who', 'is', 'the', 'biggest', 'gossiper', 'you', 'know', '?']\n",
            "Glove indexed data: \n",
            "[127, 32, 13, 1971, 519588, 15, 115, 14]\n",
            "Tensor data: \n",
            "tensor([   127,     32,     13,   1971, 519588,     15,    115,     14])\n",
            "Original Data: \n",
            "Get fucking real dude . \n",
            "Split and Normalized Data: \n",
            "['get', 'fucking', 'real', 'dude', '.']\n",
            "Glove indexed data: \n",
            "[87, 408, 312, 1052, 1]\n",
            "Tensor data: \n",
            "tensor([  87,  408,  312, 1052,    1])\n",
            "num pos = 12022\n",
            "num neg = 7800\n",
            "num pos train = 7211\n",
            "num neg  train = 4681\n",
            "num pos val = 2404\n",
            "num neg  val = 1559\n",
            "num pos test = 2407\n",
            "num neg  test = 1560\n"
          ],
          "name": "stdout"
        }
      ]
    },
    {
      "cell_type": "code",
      "metadata": {
        "id": "C45bQ0FmWcE6",
        "colab_type": "code",
        "outputId": "61833501-cb0b-463d-fe2d-56f44d559e93",
        "colab": {
          "base_uri": "https://localhost:8080/",
          "height": 72
        }
      },
      "source": [
        "print(len(train))\n",
        "print(len(valid))\n",
        "print(len(test))"
      ],
      "execution_count": 0,
      "outputs": [
        {
          "output_type": "stream",
          "text": [
            "11892\n",
            "3963\n",
            "3967\n"
          ],
          "name": "stdout"
        }
      ]
    },
    {
      "cell_type": "code",
      "metadata": {
        "id": "M8OxDAGckeWb",
        "colab_type": "code",
        "outputId": "9434bb8b-0c18-4963-fee2-6e08bb83e6b5",
        "colab": {
          "base_uri": "https://localhost:8080/",
          "height": 35
        }
      },
      "source": [
        "print(train[0])"
      ],
      "execution_count": 0,
      "outputs": [
        {
          "output_type": "stream",
          "text": [
            "(tensor([   127,     32,     13,   1971, 519588,     15,    115,     14]), tensor(0))\n"
          ],
          "name": "stdout"
        }
      ]
    },
    {
      "cell_type": "code",
      "metadata": {
        "id": "PeSCv2mhp4rc",
        "colab_type": "code",
        "outputId": "86b4c124-d3a6-40ea-9521-4dbd22747ac5",
        "colab": {
          "base_uri": "https://localhost:8080/",
          "height": 143
        }
      },
      "source": [
        "df_train[:3]"
      ],
      "execution_count": 0,
      "outputs": [
        {
          "output_type": "execute_result",
          "data": {
            "text/html": [
              "<div>\n",
              "<style scoped>\n",
              "    .dataframe tbody tr th:only-of-type {\n",
              "        vertical-align: middle;\n",
              "    }\n",
              "\n",
              "    .dataframe tbody tr th {\n",
              "        vertical-align: top;\n",
              "    }\n",
              "\n",
              "    .dataframe thead th {\n",
              "        text-align: right;\n",
              "    }\n",
              "</style>\n",
              "<table border=\"1\" class=\"dataframe\">\n",
              "  <thead>\n",
              "    <tr style=\"text-align: right;\">\n",
              "      <th></th>\n",
              "      <th>label</th>\n",
              "      <th>text</th>\n",
              "    </tr>\n",
              "  </thead>\n",
              "  <tbody>\n",
              "    <tr>\n",
              "      <th>0</th>\n",
              "      <td>neg</td>\n",
              "      <td>Who is the biggest gossiper you know?</td>\n",
              "    </tr>\n",
              "    <tr>\n",
              "      <th>1</th>\n",
              "      <td>neg</td>\n",
              "      <td>that sucks... she should prolly just change he...</td>\n",
              "    </tr>\n",
              "    <tr>\n",
              "      <th>2</th>\n",
              "      <td>neg</td>\n",
              "      <td>dig deep and find that special Christmas hate!</td>\n",
              "    </tr>\n",
              "  </tbody>\n",
              "</table>\n",
              "</div>"
            ],
            "text/plain": [
              "  label                                               text\n",
              "0   neg              Who is the biggest gossiper you know?\n",
              "1   neg  that sucks... she should prolly just change he...\n",
              "2   neg     dig deep and find that special Christmas hate!"
            ]
          },
          "metadata": {
            "tags": []
          },
          "execution_count": 18
        }
      ]
    },
    {
      "cell_type": "code",
      "metadata": {
        "id": "fAZ928tH6lAv",
        "colab_type": "code",
        "colab": {}
      },
      "source": [
        "class TweetRNN(nn.Module):\n",
        "    def __init__(self, input_size, hidden_size, num_classes):\n",
        "        super(TweetRNN, self).__init__()\n",
        "        self.emb = nn.Embedding.from_pretrained(glove.vectors)\n",
        "        self.hidden_size = hidden_size\n",
        "        self.rnn = nn.LSTM(input_size, hidden_size, batch_first=True)#nn.RNN(input_size, hidden_size, batch_first=True)\n",
        "        self.fc = nn.Linear(hidden_size, num_classes)\n",
        "    \n",
        "    def forward(self, x):\n",
        "        # Look up the embedding\n",
        "        x = self.emb(x)\n",
        "        # Set an initial hidden state\n",
        "        h0 = torch.zeros(1, x.size(0), self.hidden_size)\n",
        "        c0 = torch.zeros(1, x.size(0), self.hidden_size)\n",
        "        # Forward propagate the RNN\n",
        "        out, _ = self.rnn(x, (h0,c0))\n",
        "        # Pass the output of the last time step to the classifier\n",
        "        out = self.fc(out[:, -1, :])\n",
        "        return out"
      ],
      "execution_count": 0,
      "outputs": []
    },
    {
      "cell_type": "code",
      "metadata": {
        "id": "5LRGIAPtLlWg",
        "colab_type": "code",
        "colab": {}
      },
      "source": [
        "class TweetRNN_GRU(nn.Module):\n",
        "    def __init__(self, input_size, hidden_size, num_classes):\n",
        "        super(TweetRNN_GRU, self).__init__()\n",
        "        self.emb = nn.Embedding.from_pretrained(glove.vectors)\n",
        "        self.hidden_size = hidden_size\n",
        "        self.rnn = nn.GRU(input_size, hidden_size, batch_first=True)#nn.RNN(input_size, hidden_size, batch_first=True)\n",
        "        self.fc = nn.Linear(hidden_size, num_classes)\n",
        "    \n",
        "    def forward(self, x):\n",
        "        # Look up the embedding\n",
        "        x = self.emb(x)\n",
        "        # Set an initial hidden state\n",
        "        h0 = torch.zeros(1, x.size(0), self.hidden_size)\n",
        "        # Forward propagate the RNN\n",
        "        out, _ = self.rnn(x, h0)\n",
        "        # Pass the output of the last time step to the classifier\n",
        "        out = self.fc(out[:, -1, :])\n",
        "        return out"
      ],
      "execution_count": 0,
      "outputs": []
    },
    {
      "cell_type": "code",
      "metadata": {
        "id": "td8JCx6H6lA6",
        "colab_type": "code",
        "outputId": "9e1165c8-cf27-4015-c3b5-bfde709289ed",
        "colab": {
          "base_uri": "https://localhost:8080/",
          "height": 35
        }
      },
      "source": [
        "from torch.nn.utils.rnn import pad_sequence\n",
        "\n",
        "tweet_padded = pad_sequence([tweet for tweet, label in train[:10]],\n",
        "                            batch_first=True)\n",
        "print(tweet_padded.shape)"
      ],
      "execution_count": 0,
      "outputs": [
        {
          "output_type": "stream",
          "text": [
            "torch.Size([10, 26])\n"
          ],
          "name": "stdout"
        }
      ]
    },
    {
      "cell_type": "code",
      "metadata": {
        "id": "JhS_q3E_6lBB",
        "colab_type": "code",
        "colab": {}
      },
      "source": [
        "import random\n",
        "\n",
        "class TweetBatcher:\n",
        "    def __init__(self, tweets, batch_size=32, drop_last=False):\n",
        "        # store tweets by length\n",
        "        self.tweets_by_length = {}\n",
        "        for words, label in tweets:\n",
        "            # compute the length of the tweet\n",
        "            wlen = words.shape[0]\n",
        "            # put the tweet in the correct key inside self.tweet_by_length\n",
        "            if wlen not in self.tweets_by_length:\n",
        "                self.tweets_by_length[wlen] = []\n",
        "            self.tweets_by_length[wlen].append((words, label),)\n",
        "         \n",
        "        #  create a DataLoader for each set of tweets of the same length\n",
        "        self.loaders = {wlen : torch.utils.data.DataLoader(\n",
        "                                    tweets,\n",
        "                                    batch_size=batch_size,\n",
        "                                    shuffle=True,\n",
        "                                    drop_last=drop_last) # omit last batch if smaller than batch_size\n",
        "            for wlen, tweets in self.tweets_by_length.items()}\n",
        "        \n",
        "    def __iter__(self): # called by Python to create an iterator\n",
        "        # make an iterator for every tweet length\n",
        "        iters = [iter(loader) for loader in self.loaders.values()]\n",
        "        while iters:\n",
        "            # pick an iterator (a length)\n",
        "            im = random.choice(iters)\n",
        "            try:\n",
        "                yield next(im)\n",
        "            except StopIteration:\n",
        "                # no more elements in the iterator, remove it\n",
        "                iters.remove(im)"
      ],
      "execution_count": 0,
      "outputs": []
    },
    {
      "cell_type": "code",
      "metadata": {
        "id": "V5XM9ewr6lBN",
        "colab_type": "code",
        "colab": {}
      },
      "source": [
        "def get_accuracy(model, data_loader):\n",
        "    correct, total = 0, 0\n",
        "    for tweets, labels in data_loader:\n",
        "        output = model(tweets)\n",
        "        pred = output.max(1, keepdim=True)[1]\n",
        "        correct += pred.eq(labels.view_as(pred)).sum().item()\n",
        "        total += labels.shape[0]\n",
        "    return correct / total"
      ],
      "execution_count": 0,
      "outputs": []
    },
    {
      "cell_type": "code",
      "metadata": {
        "id": "dR548M_QeARC",
        "colab_type": "code",
        "colab": {}
      },
      "source": [
        "def get_loss(model, data_loader, criterion):\n",
        "    total_loss = 0.0\n",
        "\n",
        "    for i, batch in enumerate(data_loader):\n",
        "    # for tweets, labels in data_loader:\n",
        "        tweets = batch[0]\n",
        "        labels = batch[1]\n",
        "        output = model(tweets)\n",
        "        loss = criterion(output, labels)\n",
        "        total_loss += loss.item()      \n",
        "            \n",
        "    loss = float(total_loss)/ (i + 1)\n",
        "    return loss"
      ],
      "execution_count": 0,
      "outputs": []
    },
    {
      "cell_type": "code",
      "metadata": {
        "id": "4tPj9gwy6lBQ",
        "colab_type": "code",
        "colab": {}
      },
      "source": [
        "def train_rnn_network(model, train, valid, num_epochs=5, learning_rate=1e-5):\n",
        "    criterion = nn.CrossEntropyLoss()\n",
        "    optimizer = torch.optim.Adam(model.parameters(), lr=learning_rate) #optim.SGD(model.parameters(),lr=learning_rate,momentum=0.9)\n",
        "    losses, train_acc, valid_acc, val_loss = [], [], [],[]\n",
        "    epochs = []\n",
        "    for epoch in range(num_epochs):\n",
        "        i = 0\n",
        "        for tweets, labels in train:\n",
        "            optimizer.zero_grad()\n",
        "    \n",
        "            pred = model(tweets)\n",
        "\n",
        "            loss = criterion(pred, labels)\n",
        "            loss.backward()\n",
        "            optimizer.step()\n",
        "            i+=1\n",
        "\n",
        "\n",
        "        losses.append(float(loss))#/(i+1))\n",
        "\n",
        "        epochs.append(epoch)\n",
        "        train_acc.append(get_accuracy(model, train_loader))\n",
        "        valid_acc.append(get_accuracy(model, valid_loader))\n",
        "        val_loss.append(get_loss(model, valid_loader, criterion))\n",
        "        print(\"Epoch %d; Train Loss %f; Train Acc %f; Val Loss %f; Val Acc %f\" % (\n",
        "              epoch+1, losses[-1], train_acc[-1], val_loss[-1], valid_acc[-1]))\n",
        "        \n",
        "\n",
        "    # plotting\n",
        "    plt.title(\"Training Curve\")\n",
        "    plt.plot(epochs, losses, label=\"Train\")\n",
        "    plt.plot(epochs, val_loss, label=\"Validation\")    \n",
        "    plt.xlabel(\"Epoch\")\n",
        "    plt.ylabel(\"Loss\")\n",
        "    plt.legend(loc='best')\n",
        "    plt.show()\n",
        "\n",
        "    plt.title(\"Training Curve\")\n",
        "    plt.plot(epochs, train_acc, label=\"Train\")\n",
        "    plt.plot(epochs, valid_acc, label=\"Validation\")\n",
        "    plt.xlabel(\"Epoch\")\n",
        "    plt.ylabel(\"Accuracy\")\n",
        "    plt.legend(loc='best')\n",
        "    plt.show()"
      ],
      "execution_count": 0,
      "outputs": []
    },
    {
      "cell_type": "code",
      "metadata": {
        "id": "Xx8fM1pygy1S",
        "colab_type": "code",
        "outputId": "b4e4f859-daf8-408d-a2a7-5b3334b7d0fe",
        "colab": {
          "base_uri": "https://localhost:8080/",
          "height": 700
        }
      },
      "source": [
        "model = TweetRNN_GRU(200, 100, 2)#lstm\n",
        "train_loader = TweetBatcher(train, batch_size=100, drop_last=True)\n",
        "valid_loader = TweetBatcher(valid, batch_size=100, drop_last=False)\n",
        "train_rnn_network(model, train_loader, valid_loader, num_epochs=7, learning_rate=0.003)"
      ],
      "execution_count": 98,
      "outputs": [
        {
          "output_type": "stream",
          "text": [
            "Epoch 1; Train Loss 0.487989; Train Acc 0.701165; Val Loss 0.548734; Val Acc 0.689629\n",
            "Epoch 2; Train Loss 0.484567; Train Acc 0.746990; Val Loss 0.542859; Val Acc 0.720161\n",
            "Epoch 3; Train Loss 0.368674; Train Acc 0.777864; Val Loss 0.517169; Val Acc 0.733535\n",
            "Epoch 4; Train Loss 0.284601; Train Acc 0.810583; Val Loss 0.471717; Val Acc 0.736311\n",
            "Epoch 5; Train Loss 0.377751; Train Acc 0.885243; Val Loss 0.413765; Val Acc 0.789301\n",
            "Epoch 6; Train Loss 0.230525; Train Acc 0.929126; Val Loss 0.396685; Val Acc 0.821600\n",
            "Epoch 7; Train Loss 0.114571; Train Acc 0.960097; Val Loss 0.380983; Val Acc 0.844815\n"
          ],
          "name": "stdout"
        },
        {
          "output_type": "display_data",
          "data": {
            "image/png": "[encoded data removed]",
            "text/plain": [
              "<Figure size 432x288 with 1 Axes>"
            ]
          },
          "metadata": {
            "tags": []
          }
        },
        {
          "output_type": "display_data",
          "data": {
            "image/png": "[encoded data removed]",
            "text/plain": [
              "<Figure size 432x288 with 1 Axes>"
            ]
          },
          "metadata": {
            "tags": []
          }
        }
      ]
    },
    {
      "cell_type": "code",
      "metadata": {
        "colab_type": "code",
        "id": "Pi61Uk3lz0Ju",
        "colab": {}
      },
      "source": [
        "def get_new_tweet(glove_vector, sample_tweet):\n",
        "    tweet = sample_tweet\n",
        "    idxs = [glove_vector.stoi[w]        # lookup the index of word\n",
        "            for w in split_tweet(tweet,3)\n",
        "            if w in glove_vector.stoi] # keep words that has an embedding\n",
        "    idxs = torch.tensor(idxs) # convert list to pytorch tensor\n",
        "    return idxs"
      ],
      "execution_count": 0,
      "outputs": []
    },
    {
      "cell_type": "code",
      "metadata": {
        "id": "kLEIMbmj2qI5",
        "colab_type": "code",
        "outputId": "45d71393-f67a-4d9b-a663-5614e6ed6dad",
        "colab": {
          "base_uri": "https://localhost:8080/",
          "height": 35
        }
      },
      "source": [
        "new_tweet = get_new_tweet(glove, \"you'r fat\")\n",
        "#print(new_tweet.shape)\n",
        "\n",
        "out = torch.sigmoid(model(new_tweet.unsqueeze(0)))\n",
        "pred = out.max(1, keepdim=True)[1]\n",
        "print(pred)"
      ],
      "execution_count": 0,
      "outputs": [
        {
          "output_type": "stream",
          "text": [
            "tensor([[0]])\n"
          ],
          "name": "stdout"
        }
      ]
    },
    {
      "cell_type": "code",
      "metadata": {
        "id": "vA8lcWDLh_wV",
        "colab_type": "code",
        "colab": {}
      },
      "source": [
        "from sklearn.feature_extraction.text import TfidfVectorizer\n",
        "# Create feature vectors\n",
        "vectorizer = TfidfVectorizer(sublinear_tf = True,\n",
        "                             use_idf = True)\n",
        "train_vectors = vectorizer.fit_transform(df_train['text'])\n",
        "test_vectors = vectorizer.transform(df_test['text'])"
      ],
      "execution_count": 0,
      "outputs": []
    },
    {
      "cell_type": "code",
      "metadata": {
        "id": "4aU3SetSBlKo",
        "colab_type": "code",
        "outputId": "c71eb82a-51e2-4a7e-a5bd-bae5280ee54e",
        "colab": {
          "base_uri": "https://localhost:8080/",
          "height": 290
        }
      },
      "source": [
        "import time\n",
        "from sklearn import svm\n",
        "from sklearn.metrics import classification_report\n",
        "# Perform classification with SVM, kernel=linear\n",
        "classifier_linear = svm.SVC(kernel='linear')\n",
        "t0 = time.time()\n",
        "print(df_train['label'])\n",
        "classifier_linear.fit(train_vectors, df_train['label'])\n",
        "t1 = time.time()\n",
        "prediction_linear = classifier_linear.predict(test_vectors)\n",
        "t2 = time.time()\n",
        "time_linear_train = t1-t0\n",
        "time_linear_predict = t2-t1\n",
        "# results\n",
        "print(\"Training time: %fs; Prediction time: %fs\" % (time_linear_train, time_linear_predict))\n",
        "report = classification_report(df_test['label'], prediction_linear, output_dict=True)\n",
        "print('positive: ', report['pos'])\n",
        "print('negative: ', report['neg'])"
      ],
      "execution_count": 102,
      "outputs": [
        {
          "output_type": "stream",
          "text": [
            "0        pos\n",
            "1        neg\n",
            "2        neg\n",
            "3        neg\n",
            "4        neg\n",
            "        ... \n",
            "11887    pos\n",
            "11888    pos\n",
            "11889    pos\n",
            "11890    pos\n",
            "11891    pos\n",
            "Name: label, Length: 11892, dtype: object\n",
            "Training time: 17.817012s; Prediction time: 4.311406s\n",
            "positive:  {'precision': 0.854416333777186, 'recall': 0.7997507270461155, 'f1-score': 0.8261802575107297, 'support': 2407}\n",
            "negative:  {'precision': 0.7187864644107351, 'recall': 0.7897435897435897, 'f1-score': 0.752596212583995, 'support': 1560}\n"
          ],
          "name": "stdout"
        }
      ]
    },
    {
      "cell_type": "code",
      "metadata": {
        "id": "4r2rN3UhExm3",
        "colab_type": "code",
        "colab": {}
      },
      "source": [
        "test_loader = TweetBatcher(test, batch_size=600, drop_last=False)"
      ],
      "execution_count": 0,
      "outputs": []
    },
    {
      "cell_type": "code",
      "metadata": {
        "id": "E4qJdKbtEbpb",
        "colab_type": "code",
        "outputId": "de3fe524-eab5-4e34-ff5c-ebcde469bfe9",
        "colab": {
          "base_uri": "https://localhost:8080/",
          "height": 35
        }
      },
      "source": [
        "test_accuracy = get_accuracy(model, test_loader)\n",
        "print(test_accuracy)"
      ],
      "execution_count": 100,
      "outputs": [
        {
          "output_type": "stream",
          "text": [
            "0.8578270733551803\n"
          ],
          "name": "stdout"
        }
      ]
    },
    {
      "cell_type": "code",
      "metadata": {
        "id": "VPXakKhP27FZ",
        "colab_type": "code",
        "colab": {}
      },
      "source": [
        "if(pred_text == '0' && pred_img == 'angry'):\n",
        "  print('Bullying')\n",
        "elif (pred_text == '0' && pred_img == 'disgusted'):\n",
        "  print('Bullying')\n",
        "elif (pred_text == '0' && pred_img == 'neutral'):\n",
        "  ###TO DO ARRAY\n",
        "  #array of size blank\n",
        "  #if len(array) == full drop the last one(first one inserted)\n",
        "  #append(result of tensor into array)\n",
        "else:\n",
        "  print(\"pass!\")\n"
      ],
      "execution_count": 0,
      "outputs": []
    }
  ]
}