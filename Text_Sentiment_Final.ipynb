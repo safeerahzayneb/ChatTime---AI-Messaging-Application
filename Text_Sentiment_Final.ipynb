{
  "nbformat": 4,
  "nbformat_minor": 0,
  "metadata": {
    "colab": {
      "name": "Text_Sentiment_Final.ipynb",
      "provenance": [],
      "collapsed_sections": [],
      "include_colab_link": true
    },
    "kernelspec": {
      "name": "python3",
      "display_name": "Python 3"
    }
  },
  "cells": [
    {
      "cell_type": "markdown",
      "metadata": {
        "id": "view-in-github",
        "colab_type": "text"
      },
      "source": [
        "<a href=\"https://colab.research.google.com/github/yanli499/ChatTime/blob/master/Text_Sentiment_Final.ipynb\" target=\"_parent\"><img src=\"https://colab.research.google.com/assets/colab-badge.svg\" alt=\"Open In Colab\"/></a>"
      ]
    },
    {
      "cell_type": "code",
      "metadata": {
        "id": "UORHOkpF6e18",
        "colab_type": "code",
        "colab": {}
      },
      "source": [
        "import torch\n",
        "import torchtext\n",
        "\n",
        "# The first time you run this will download a ~823MB file\n",
        "glove = torchtext.vocab.GloVe(name=\"twitter.27B\", # trained on Twitter 2014 corpus\n",
        "                              dim=200)   # embedding size = 50"
      ],
      "execution_count": 0,
      "outputs": []
    },
    {
      "cell_type": "code",
      "metadata": {
        "id": "aNXtT6iCVsrY",
        "colab_type": "code",
        "outputId": "68606579-45a0-4c42-ce15-9086b28587ab",
        "colab": {
          "base_uri": "https://localhost:8080/",
          "height": 34
        }
      },
      "source": [
        "#setup Google Drive\n",
        "from google.colab import drive\n",
        "drive.mount('/content/drive')"
      ],
      "execution_count": 30,
      "outputs": [
        {
          "output_type": "stream",
          "text": [
            "Drive already mounted at /content/drive; to attempt to forcibly remount, call drive.mount(\"/content/drive\", force_remount=True).\n"
          ],
          "name": "stdout"
        }
      ]
    },
    {
      "cell_type": "code",
      "metadata": {
        "id": "bi_v650L6lAJ",
        "colab_type": "code",
        "colab": {}
      },
      "source": [
        "#get text data \n",
        "#split text data \n",
        "\n",
        "import csv\n",
        "import torch\n",
        "import torch.nn as nn\n",
        "import torch.nn.functional as F\n",
        "import torch.optim as optim\n",
        "import torchtext\n",
        "import numpy as np\n",
        "import matplotlib.pyplot as plt\n",
        "\n",
        "# file location (make sure to use your file location)\n",
        "#file_dir = '/content/drive/My Drive/Colab Notebooks/aps360/Projects/'\n",
        "file_dir = '/content/drive/My Drive/Colab Notebooks/'\n",
        "\n",
        "def get_data():\n",
        "    return csv.reader(open(file_dir + \"parsed_data.csv\"))\n",
        "\n",
        "def split_tweet(tweet,print_data):\n",
        "    # separate punctuations\n",
        "    \n",
        "    tweet = tweet.replace(\".\", \" . \") \\\n",
        "                 .replace(\",\", \" , \") \\\n",
        "                 .replace(\";\", \" ; \") \\\n",
        "                 .replace(\"?\", \" ? \")   \n",
        "\n",
        "    if(print_data < 2):\n",
        "      print(\"Original Data: \")\n",
        "      print(tweet)\n",
        "      print(\"Split and Normalized Data: \")\n",
        "      print(tweet.lower().split())\n",
        "    return tweet.lower().split()"
      ],
      "execution_count": 0,
      "outputs": []
    },
    {
      "cell_type": "code",
      "metadata": {
        "id": "Etna54zjmLsJ",
        "colab_type": "code",
        "colab": {}
      },
      "source": [
        "#convert to pandas for baseline model\n",
        "import pandas as pd\n",
        "\n",
        "columns = ['label', 'text']\n",
        "df_train = pd.DataFrame(columns=columns)\n",
        "df_val = pd.DataFrame(columns=columns)\n",
        "df_test = pd.DataFrame(columns=columns)"
      ],
      "execution_count": 0,
      "outputs": []
    },
    {
      "cell_type": "code",
      "metadata": {
        "id": "0MoEcSg66lAN",
        "colab_type": "code",
        "outputId": "f9999b4d-d13e-44ba-9623-603307401447",
        "colab": {
          "base_uri": "https://localhost:8080/",
          "height": 425
        }
      },
      "source": [
        "#split the sentence to words and distribute it into train, test, validation equally \n",
        "def get_tweet_words(glove_vector):\n",
        "    print_data = 0\n",
        "    train, valid, test = [], [], []\n",
        "    tr,vl,te = 0,0,0\n",
        "    num_pos, num_neg = 0, 0\n",
        "    pos_train,neg_train, pos_val,neg_val, pos_test,neg_test = 0,0,0,0,0,0\n",
        "    for i, line in enumerate(get_data()):\n",
        "        if i % 1 == 0:\n",
        "            tweet = line[-1]\n",
        "            #print(tweet)\n",
        "            idxs = [glove_vector.stoi[w]        # lookup the index of word\n",
        "                    for w in split_tweet(tweet,print_data)\n",
        "                    if w in glove_vector.stoi] # keep words that has an embedding\n",
        "            if not idxs: # ignore tweets without any word with an embedding\n",
        "                continue\n",
        "            \n",
        "            if (print_data < 2):\n",
        "              print(\"Glove indexed data: \")\n",
        "              print(idxs)\n",
        "\n",
        "            idxs = torch.tensor(idxs) # convert list to pytorch tensor \n",
        "\n",
        "            if (print_data < 2):\n",
        "              print(\"Tensor data: \")\n",
        "              print(idxs)\n",
        "\n",
        "            print_data +=1 \n",
        "            if (line[0] == '0'):\n",
        "              label = torch.tensor(int(1)).long()\n",
        "            else:\n",
        "              label = torch.tensor(int(0)).long() \n",
        "\n",
        "            label_panda = 'sdf'\n",
        "            if (label.item() == 0):# create labels for panda dataset\n",
        "                label_panda = 'neg'\n",
        "                num_neg +=1\n",
        "            elif(label.item() == 1):\n",
        "                label_panda = 'pos'\n",
        "                num_pos +=1\n",
        "\n",
        "            if i % 5 < 3:\n",
        "                s1 = [tweet, label.item()] \n",
        "                #insert the data in panda train dataset\n",
        "                df_train.loc[tr, 'text'] = tweet \n",
        "                df_train.loc[tr, 'label'] = label_panda \n",
        "                tr+=1\n",
        "                train.append((idxs, label))\n",
        "\n",
        "                if(label == 1):\n",
        "                  pos_train +=1\n",
        "\n",
        "                elif(label == 0): \n",
        "                  neg_train +=1\n",
        "\n",
        "            elif i % 5 == 4:\n",
        "               #insert the data in panda validation dataset\n",
        "                s1 = [tweet, label.item()]\n",
        "                df_val.loc[vl, 'text'] = tweet\n",
        "                df_val.loc[vl, 'label'] = label_panda           \n",
        "                vl+=1          \n",
        "                valid.append((idxs, label))\n",
        "\n",
        "                if(label == 1):\n",
        "                  pos_val +=1\n",
        "\n",
        "                elif(label == 0): \n",
        "                  neg_val +=1                \n",
        "            else:\n",
        "               #insert the data in panda test dataset\n",
        "                s1 = [tweet, label.item()]\n",
        "                df_test.loc[te, 'text'] = tweet\n",
        "                df_test.loc[te, 'label'] = label_panda\n",
        "                te+=1           \n",
        "                test.append((idxs, label))\n",
        "                if(label == 1):\n",
        "                  pos_test +=1\n",
        "\n",
        "                elif(label == 0): \n",
        "                  neg_test +=1\n",
        "\n",
        "    print(\"num pos = \" + str(num_pos))    \n",
        "    print(\"num neg = \" + str(num_neg))  \n",
        "\n",
        "    print(\"num pos train = \" + str(pos_train))    \n",
        "    print(\"num neg  train = \" + str(neg_train))    \n",
        "\n",
        "    print(\"num pos val = \" + str(pos_val))    \n",
        "    print(\"num neg  val = \" + str(neg_val))    \n",
        "\n",
        "    print(\"num pos test = \" + str(pos_test))    \n",
        "    print(\"num neg  test = \" + str(neg_test))    \n",
        "\n",
        "    return train, valid, test\n",
        "\n",
        "train, valid, test = get_tweet_words(glove)\n"
      ],
      "execution_count": 33,
      "outputs": [
        {
          "output_type": "stream",
          "text": [
            "Original Data: \n",
            "Who is the biggest gossiper you know ? \n",
            "Split and Normalized Data: \n",
            "['who', 'is', 'the', 'biggest', 'gossiper', 'you', 'know', '?']\n",
            "Glove indexed data: \n",
            "[127, 32, 13, 1971, 519588, 15, 115, 14]\n",
            "Tensor data: \n",
            "tensor([   127,     32,     13,   1971, 519588,     15,    115,     14])\n",
            "Original Data: \n",
            "Get fucking real dude . \n",
            "Split and Normalized Data: \n",
            "['get', 'fucking', 'real', 'dude', '.']\n",
            "Glove indexed data: \n",
            "[87, 408, 312, 1052, 1]\n",
            "Tensor data: \n",
            "tensor([  87,  408,  312, 1052,    1])\n",
            "num pos = 12022\n",
            "num neg = 7800\n",
            "num pos train = 7211\n",
            "num neg  train = 4681\n",
            "num pos val = 2404\n",
            "num neg  val = 1559\n",
            "num pos test = 2407\n",
            "num neg  test = 1560\n"
          ],
          "name": "stdout"
        }
      ]
    },
    {
      "cell_type": "code",
      "metadata": {
        "id": "C45bQ0FmWcE6",
        "colab_type": "code",
        "outputId": "9519b84e-af20-415f-9fdf-90cb1818574d",
        "colab": {
          "base_uri": "https://localhost:8080/",
          "height": 68
        }
      },
      "source": [
        "print(len(train))\n",
        "print(len(valid))\n",
        "print(len(test))"
      ],
      "execution_count": 34,
      "outputs": [
        {
          "output_type": "stream",
          "text": [
            "11892\n",
            "3963\n",
            "3967\n"
          ],
          "name": "stdout"
        }
      ]
    },
    {
      "cell_type": "code",
      "metadata": {
        "id": "M8OxDAGckeWb",
        "colab_type": "code",
        "outputId": "99d23692-120e-4a93-a075-4de4fceedcb0",
        "colab": {
          "base_uri": "https://localhost:8080/",
          "height": 34
        }
      },
      "source": [
        "print(train[0])"
      ],
      "execution_count": 35,
      "outputs": [
        {
          "output_type": "stream",
          "text": [
            "(tensor([   127,     32,     13,   1971, 519588,     15,    115,     14]), tensor(1))\n"
          ],
          "name": "stdout"
        }
      ]
    },
    {
      "cell_type": "code",
      "metadata": {
        "id": "PeSCv2mhp4rc",
        "colab_type": "code",
        "outputId": "d68c632d-f46c-4649-f026-84bfd20eeaa4",
        "colab": {
          "base_uri": "https://localhost:8080/",
          "height": 142
        }
      },
      "source": [
        "df_train[:3]"
      ],
      "execution_count": 36,
      "outputs": [
        {
          "output_type": "execute_result",
          "data": {
            "text/html": [
              "<div>\n",
              "<style scoped>\n",
              "    .dataframe tbody tr th:only-of-type {\n",
              "        vertical-align: middle;\n",
              "    }\n",
              "\n",
              "    .dataframe tbody tr th {\n",
              "        vertical-align: top;\n",
              "    }\n",
              "\n",
              "    .dataframe thead th {\n",
              "        text-align: right;\n",
              "    }\n",
              "</style>\n",
              "<table border=\"1\" class=\"dataframe\">\n",
              "  <thead>\n",
              "    <tr style=\"text-align: right;\">\n",
              "      <th></th>\n",
              "      <th>label</th>\n",
              "      <th>text</th>\n",
              "    </tr>\n",
              "  </thead>\n",
              "  <tbody>\n",
              "    <tr>\n",
              "      <th>0</th>\n",
              "      <td>pos</td>\n",
              "      <td>Who is the biggest gossiper you know?</td>\n",
              "    </tr>\n",
              "    <tr>\n",
              "      <th>1</th>\n",
              "      <td>neg</td>\n",
              "      <td>Get fucking real dude.</td>\n",
              "    </tr>\n",
              "    <tr>\n",
              "      <th>2</th>\n",
              "      <td>neg</td>\n",
              "      <td>She is as dirty as they come  and that crook R...</td>\n",
              "    </tr>\n",
              "  </tbody>\n",
              "</table>\n",
              "</div>"
            ],
            "text/plain": [
              "  label                                               text\n",
              "0   pos              Who is the biggest gossiper you know?\n",
              "1   neg                             Get fucking real dude.\n",
              "2   neg  She is as dirty as they come  and that crook R..."
            ]
          },
          "metadata": {
            "tags": []
          },
          "execution_count": 36
        }
      ]
    },
    {
      "cell_type": "code",
      "metadata": {
        "id": "fAZ928tH6lAv",
        "colab_type": "code",
        "colab": {}
      },
      "source": [
        "class TweetRNN(nn.Module):\n",
        "    def __init__(self, input_size, hidden_size, num_classes):\n",
        "        super(TweetRNN, self).__init__()\n",
        "        self.emb = nn.Embedding.from_pretrained(glove.vectors)\n",
        "        self.hidden_size = hidden_size\n",
        "        self.rnn = nn.LSTM(input_size, hidden_size, batch_first=True)#nn.RNN(input_size, hidden_size, batch_first=True)\n",
        "        self.fc = nn.Linear(hidden_size, num_classes)\n",
        "    \n",
        "    def forward(self, x):\n",
        "        # Look up the embedding\n",
        "        x = self.emb(x)\n",
        "        # Set an initial hidden state\n",
        "        h0 = torch.zeros(1, x.size(0), self.hidden_size)\n",
        "        c0 = torch.zeros(1, x.size(0), self.hidden_size)\n",
        "        # Forward propagate the RNN\n",
        "        out, _ = self.rnn(x, (h0,c0))\n",
        "        # Pass the output of the last time step to the classifier\n",
        "        out = self.fc(out[:, -1, :])\n",
        "        return out"
      ],
      "execution_count": 0,
      "outputs": []
    },
    {
      "cell_type": "code",
      "metadata": {
        "id": "5LRGIAPtLlWg",
        "colab_type": "code",
        "colab": {}
      },
      "source": [
        "class TweetRNN_GRU(nn.Module):\n",
        "    def __init__(self, input_size, hidden_size, num_classes):\n",
        "        super(TweetRNN_GRU, self).__init__()\n",
        "        self.emb = nn.Embedding.from_pretrained(glove.vectors)\n",
        "        self.hidden_size = hidden_size\n",
        "        self.rnn = nn.GRU(input_size, hidden_size, batch_first=True)#nn.RNN(input_size, hidden_size, batch_first=True)\n",
        "        self.fc = nn.Linear(hidden_size, num_classes)\n",
        "    \n",
        "    def forward(self, x):\n",
        "        # Look up the embedding\n",
        "        x = self.emb(x)\n",
        "        # Set an initial hidden state\n",
        "        h0 = torch.zeros(1, x.size(0), self.hidden_size)\n",
        "        # Forward propagate the RNN\n",
        "        out, _ = self.rnn(x, h0)\n",
        "        # Pass the output of the last time step to the classifier\n",
        "        out = self.fc(out[:, -1, :])\n",
        "        return out"
      ],
      "execution_count": 0,
      "outputs": []
    },
    {
      "cell_type": "code",
      "metadata": {
        "id": "JhS_q3E_6lBB",
        "colab_type": "code",
        "colab": {}
      },
      "source": [
        "import random\n",
        "#referenced from tutorial \n",
        "class TweetBatcher:\n",
        "    def __init__(self, tweets, batch_size=32, drop_last=False):\n",
        "        # store tweets by length\n",
        "        self.tweets_by_length = {}\n",
        "        for words, label in tweets:\n",
        "            # compute the length of the tweet\n",
        "            wlen = words.shape[0]\n",
        "            # put the tweet in the correct key inside self.tweet_by_length\n",
        "            if wlen not in self.tweets_by_length:\n",
        "                self.tweets_by_length[wlen] = []\n",
        "            self.tweets_by_length[wlen].append((words, label),)\n",
        "         \n",
        "        #  create a DataLoader for each set of tweets of the same length\n",
        "        self.loaders = {wlen : torch.utils.data.DataLoader(\n",
        "                                    tweets,\n",
        "                                    batch_size=batch_size,\n",
        "                                    shuffle=True,\n",
        "                                    drop_last=drop_last) # omit last batch if smaller than batch_size\n",
        "            for wlen, tweets in self.tweets_by_length.items()}\n",
        "        \n",
        "    def __iter__(self): # called by Python to create an iterator\n",
        "        # make an iterator for every tweet length\n",
        "        iters = [iter(loader) for loader in self.loaders.values()]\n",
        "        while iters:\n",
        "            # pick an iterator (a length)\n",
        "            im = random.choice(iters)\n",
        "            try:\n",
        "                yield next(im)\n",
        "            except StopIteration:\n",
        "                # no more elements in the iterator, remove it\n",
        "                iters.remove(im)"
      ],
      "execution_count": 0,
      "outputs": []
    },
    {
      "cell_type": "code",
      "metadata": {
        "id": "V5XM9ewr6lBN",
        "colab_type": "code",
        "colab": {}
      },
      "source": [
        "def get_accuracy(model, data_loader):\n",
        "  #get accuracy from model \n",
        "    correct, total = 0, 0\n",
        "    for tweets, labels in data_loader:\n",
        "        output = model(tweets) \n",
        "        pred = output.max(1, keepdim=True)[1] \n",
        "        correct += pred.eq(labels.view_as(pred)).sum().item()\n",
        "        total += labels.shape[0]\n",
        "    return correct / total"
      ],
      "execution_count": 0,
      "outputs": []
    },
    {
      "cell_type": "code",
      "metadata": {
        "id": "dR548M_QeARC",
        "colab_type": "code",
        "colab": {}
      },
      "source": [
        "def get_loss(model, data_loader, criterion):\n",
        "  #get loss\n",
        "    total_loss = 0.0\n",
        "    for i, batch in enumerate(data_loader):\n",
        "        tweets = batch[0]\n",
        "        labels = batch[1]\n",
        "        output = model(tweets)\n",
        "        loss = criterion(output, labels)\n",
        "        total_loss += loss.item()      \n",
        "            \n",
        "    loss = float(total_loss)/ (i + 1)\n",
        "    return loss"
      ],
      "execution_count": 0,
      "outputs": []
    },
    {
      "cell_type": "code",
      "metadata": {
        "id": "4tPj9gwy6lBQ",
        "colab_type": "code",
        "colab": {}
      },
      "source": [
        "def train_rnn_network(model, train, valid, num_epochs=5, learning_rate=1e-5):\n",
        "    criterion = nn.CrossEntropyLoss() #the loss function\n",
        "    optimizer = torch.optim.Adam(model.parameters(), lr=learning_rate) #the optimizer\n",
        "    losses, train_acc, valid_acc, val_loss = [], [], [],[]\n",
        "    epochs = []\n",
        "    for epoch in range(num_epochs):\n",
        "        i = 0\n",
        "        for tweets, labels in train:\n",
        "            optimizer.zero_grad() #setting the optimizer to zero\n",
        "    \n",
        "            pred = model(tweets) #get the prediction from the model\n",
        "\n",
        "            loss = criterion(pred, labels) #calculate the loss based on the prediction\n",
        "            loss.backward() #computes changes to weight\n",
        "            optimizer.step() #optimization step\n",
        "            i+=1\n",
        "\n",
        "\n",
        "        losses.append(float(loss))\n",
        "\n",
        "        epochs.append(epoch)\n",
        "        train_acc.append(get_accuracy(model, train_loader))\n",
        "        valid_acc.append(get_accuracy(model, valid_loader))\n",
        "        val_loss.append(get_loss(model, valid_loader, criterion))\n",
        "        print(\"Epoch %d; Train Loss %f; Train Acc %f; Val Loss %f; Val Acc %f\" % (\n",
        "              epoch+1, losses[-1], train_acc[-1], val_loss[-1], valid_acc[-1]))\n",
        "        \n",
        "\n",
        "    # plotting\n",
        "    plt.title(\"Training Curve\")\n",
        "    plt.plot(epochs, losses, label=\"Train\")\n",
        "    plt.plot(epochs, val_loss, label=\"Validation\")    \n",
        "    plt.xlabel(\"Epoch\")\n",
        "    plt.ylabel(\"Loss\")\n",
        "    plt.legend(loc='best')\n",
        "    plt.show()\n",
        "\n",
        "    plt.title(\"Training Curve\")\n",
        "    plt.plot(epochs, train_acc, label=\"Train\")\n",
        "    plt.plot(epochs, valid_acc, label=\"Validation\")\n",
        "    plt.xlabel(\"Epoch\")\n",
        "    plt.ylabel(\"Accuracy\")\n",
        "    plt.legend(loc='best')\n",
        "    plt.show()"
      ],
      "execution_count": 0,
      "outputs": []
    },
    {
      "cell_type": "code",
      "metadata": {
        "id": "Xx8fM1pygy1S",
        "colab_type": "code",
        "outputId": "627d1b20-4d08-4a79-b558-b4ce6406e4b4",
        "colab": {
          "base_uri": "https://localhost:8080/",
          "height": 692
        }
      },
      "source": [
        "model = TweetRNN_GRU(200, 100, 2)#GRU optimal parameters\n",
        "train_loader = TweetBatcher(train, batch_size=100, drop_last=True)\n",
        "valid_loader = TweetBatcher(valid, batch_size=100, drop_last=False)\n",
        "train_rnn_network(model, train_loader, valid_loader, num_epochs=7, learning_rate=0.003)"
      ],
      "execution_count": 43,
      "outputs": [
        {
          "output_type": "stream",
          "text": [
            "Epoch 1; Train Loss 0.550462; Train Acc 0.706019; Val Loss 0.497306; Val Acc 0.694676\n",
            "Epoch 2; Train Loss 0.670470; Train Acc 0.725825; Val Loss 0.625065; Val Acc 0.696442\n",
            "Epoch 3; Train Loss 0.345928; Train Acc 0.774563; Val Loss 0.510584; Val Acc 0.725461\n",
            "Epoch 4; Train Loss 0.409840; Train Acc 0.821359; Val Loss 0.478834; Val Acc 0.755741\n",
            "Epoch 5; Train Loss 0.418378; Train Acc 0.889709; Val Loss 0.459111; Val Acc 0.787030\n",
            "Epoch 6; Train Loss 0.239428; Train Acc 0.929417; Val Loss 0.466129; Val Acc 0.827656\n",
            "Epoch 7; Train Loss 0.117940; Train Acc 0.957184; Val Loss 0.502575; Val Acc 0.840273\n"
          ],
          "name": "stdout"
        },
        {
          "output_type": "display_data",
          "data": {
            "image/png": "[encoded data removed]",
            "text/plain": [
              "<Figure size 432x288 with 1 Axes>"
            ]
          },
          "metadata": {
            "tags": []
          }
        },
        {
          "output_type": "display_data",
          "data": {
            "image/png": "[encoded data removed]",
            "text/plain": [
              "<Figure size 432x288 with 1 Axes>"
            ]
          },
          "metadata": {
            "tags": []
          }
        }
      ]
    },
    {
      "cell_type": "code",
      "metadata": {
        "colab_type": "code",
        "id": "Pi61Uk3lz0Ju",
        "colab": {}
      },
      "source": [
        "def get_new_tweet(glove_vector, sample_tweet):\n",
        "    tweet = sample_tweet\n",
        "    idxs = [glove_vector.stoi[w]        # lookup the index of word\n",
        "            for w in split_tweet(tweet, 3)\n",
        "            if w in glove_vector.stoi] # keep words that has an embedding\n",
        "    idxs = torch.tensor(idxs) # convert list to pytorch tensor\n",
        "    return idxs"
      ],
      "execution_count": 0,
      "outputs": []
    },
    {
      "cell_type": "code",
      "metadata": {
        "id": "kLEIMbmj2qI5",
        "colab_type": "code",
        "outputId": "58bd9872-8730-472a-b156-d2bf8344d7fe",
        "colab": {
          "base_uri": "https://localhost:8080/",
          "height": 34
        }
      },
      "source": [
        "new_tweet = get_new_tweet(glove, \"Can you pleaaassseeeee give us a 100 on this course\")\n",
        "\n",
        "out = torch.sigmoid(model(new_tweet.unsqueeze(0)))\n",
        "pred = out.max(1, keepdim=True)[1]\n",
        "print(pred)"
      ],
      "execution_count": 45,
      "outputs": [
        {
          "output_type": "stream",
          "text": [
            "tensor([[1]])\n"
          ],
          "name": "stdout"
        }
      ]
    },
    {
      "cell_type": "code",
      "metadata": {
        "id": "vA8lcWDLh_wV",
        "colab_type": "code",
        "colab": {}
      },
      "source": [
        "from sklearn.feature_extraction.text import TfidfVectorizer\n",
        "# Create feature vectors\n",
        "vectorizer = TfidfVectorizer(sublinear_tf = True,\n",
        "                             use_idf = True)\n",
        "train_vecti = vectorizer.fit_transform(df_train['text'])\n",
        "test_vecti = vectorizer.transform(df_test['text'])"
      ],
      "execution_count": 0,
      "outputs": []
    },
    {
      "cell_type": "code",
      "metadata": {
        "id": "4aU3SetSBlKo",
        "colab_type": "code",
        "outputId": "b9958a68-53cc-424c-e32f-8da194b3476b",
        "colab": {
          "base_uri": "https://localhost:8080/",
          "height": 255
        }
      },
      "source": [
        "import time\n",
        "from sklearn import svm\n",
        "from sklearn.metrics import classification_report\n",
        "\n",
        "#svm calculation\n",
        "classifier_linear = svm.SVC(kernel='linear')\n",
        "print(df_train['label'])\n",
        "classifier_linear.fit(train_vecti, df_train['label'])\n",
        "prediction_linear = classifier_linear.predict(test_vecti)\n",
        "\n",
        "out_rep = classification_report(df_test['label'], prediction_linear, output_dict=True)\n",
        "print('positive: ', out_rep['pos'])\n",
        "print('negative: ', out_rep['neg'])"
      ],
      "execution_count": 48,
      "outputs": [
        {
          "output_type": "stream",
          "text": [
            "0        pos\n",
            "1        neg\n",
            "2        neg\n",
            "3        neg\n",
            "4        neg\n",
            "        ... \n",
            "11887    pos\n",
            "11888    pos\n",
            "11889    pos\n",
            "11890    pos\n",
            "11891    pos\n",
            "Name: label, Length: 11892, dtype: object\n",
            "positive:  {'precision': 0.854416333777186, 'recall': 0.7997507270461155, 'f1-score': 0.8261802575107297, 'support': 2407}\n",
            "negative:  {'precision': 0.7187864644107351, 'recall': 0.7897435897435897, 'f1-score': 0.752596212583995, 'support': 1560}\n"
          ],
          "name": "stdout"
        }
      ]
    },
    {
      "cell_type": "code",
      "metadata": {
        "id": "WU03Wm8OeYWt",
        "colab_type": "code",
        "colab": {}
      },
      "source": [
        "#lists for true negative and true positive creation\n",
        "actual= []\n",
        "predicted = []"
      ],
      "execution_count": 0,
      "outputs": []
    },
    {
      "cell_type": "code",
      "metadata": {
        "id": "0rfA_YRMY4AH",
        "colab_type": "code",
        "colab": {}
      },
      "source": [
        "#Test accuracy to save actual and predicted labels for the test dataset for confusion matrix calculations\n",
        "\n",
        "def test_get_accuracy(model, data_loader):\n",
        "    correct, total = 0, 0\n",
        "    for tweets, labels in data_loader:\n",
        "        output = model(tweets)\n",
        "        pred = output.max(1, keepdim=True)[1]\n",
        "        #print(pred.item())\n",
        "        predicted.append(int(pred.item()))\n",
        "        correct += pred.eq(labels.view_as(pred)).sum().item()\n",
        "        #print(labels.item())\n",
        "        actual.append(int(labels.item()))\n",
        "        total += labels.shape[0]\n",
        "    return correct / total"
      ],
      "execution_count": 0,
      "outputs": []
    },
    {
      "cell_type": "code",
      "metadata": {
        "id": "4r2rN3UhExm3",
        "colab_type": "code",
        "colab": {}
      },
      "source": [
        "\n",
        "test_loader = TweetBatcher(test, batch_size=1, drop_last=False)\n"
      ],
      "execution_count": 0,
      "outputs": []
    },
    {
      "cell_type": "code",
      "metadata": {
        "id": "E4qJdKbtEbpb",
        "colab_type": "code",
        "outputId": "d7eb5cd0-dc60-491a-8dd8-edb39eb6842d",
        "colab": {
          "base_uri": "https://localhost:8080/",
          "height": 34
        }
      },
      "source": [
        "test_accuracy = test_get_accuracy(model, test_loader)\n",
        "print(test_accuracy)\n"
      ],
      "execution_count": 52,
      "outputs": [
        {
          "output_type": "stream",
          "text": [
            "0.8479959667254853\n"
          ],
          "name": "stdout"
        }
      ]
    },
    {
      "cell_type": "code",
      "metadata": {
        "id": "klbgg2h5lggv",
        "colab_type": "code",
        "colab": {}
      },
      "source": [
        " #change list to array for actual and predicted\n",
        "actual = np.array(actual)\n",
        "predicted = np.array(predicted)"
      ],
      "execution_count": 0,
      "outputs": []
    },
    {
      "cell_type": "code",
      "metadata": {
        "id": "D0tIjW01e0W0",
        "colab_type": "code",
        "outputId": "1e42ff7c-ef04-420a-a783-b4132a01809b",
        "colab": {
          "base_uri": "https://localhost:8080/",
          "height": 333
        }
      },
      "source": [
        "from pandas import DataFrame\n",
        "import numpy as np\n",
        "import seaborn as sea\n",
        "from sklearn.metrics import confusion_matrix\n",
        "import matplotlib.pyplot as plt\n",
        "\n",
        "col = ['Bully', 'Non-Bully']\n",
        "\n",
        "fm = confusion_matrix(actual, predicted)\n",
        "com = DataFrame(fm, index=col, columns=col)\n",
        "print(com)\n",
        "\n",
        "ax = sea.heatmap(com, cmap='Oranges', annot=True, fmt = 'g')\n",
        "ax.set_ylim(len(com), 0)"
      ],
      "execution_count": 59,
      "outputs": [
        {
          "output_type": "stream",
          "text": [
            "           Bully  Non-Bully\n",
            "Bully       1412        148\n",
            "Non-Bully    455       1952\n"
          ],
          "name": "stdout"
        },
        {
          "output_type": "execute_result",
          "data": {
            "text/plain": [
              "(2, 0)"
            ]
          },
          "metadata": {
            "tags": []
          },
          "execution_count": 59
        },
        {
          "output_type": "display_data",
          "data": {
            "image/png": "[encoded data removed]",
            "text/plain": [
              "<Figure size 432x288 with 2 Axes>"
            ]
          },
          "metadata": {
            "tags": []
          }
        }
      ]
    },
    {
      "cell_type": "code",
      "metadata": {
        "id": "78zg60x4p-NH",
        "colab_type": "code",
        "colab": {}
      },
      "source": [
        "actual_comb =  [[5,0,0,0,0,0,0,0,0,0], \n",
        "                [0,5,0,0,0,0,0,0,0,0], \n",
        "                [0,0,5,0,0,0,0,0,0,0], \n",
        "                [0,0,0,5,0,0,0,0,0,0], \n",
        "                [0,0,0,0,5,0,0,0,0,0], \n",
        "                [0,0,0,0,0,5,0,0,0,0], \n",
        "                [0,0,0,0,0,0,5,0,0,0], \n",
        "                [0,0,0,0,0,0,0,5,0,0], \n",
        "                [0,0,0,0,0,0,0,0,5,0],\n",
        "                [0,0,0,0,0,0,0,0,0,5]]\n",
        "\n",
        "\n",
        "predicted_comb = [[1,0,0,0,3,0,1,0,0,0], \n",
        "                  [0,1,0,0,0,3,0,1,0,0], \n",
        "                  [0,0,2,0,3,0,0,0,0,0], \n",
        "                  [0,0,0,2,0,3,0,0,0,0], \n",
        "                  [0,0,0,0,5,0,0,0,0,0], \n",
        "                  [0,0,0,0,0,5,0,0,0,0], \n",
        "                  [0,0,0,0,0,0,5,0,0,0], \n",
        "                  [0,0,0,0,0,0,0,5,0,0], \n",
        "                  [0,0,0,0,2,0,0,0,3,0],\n",
        "                  [0,0,0,0,0,2,0,0,0,3]]"
      ],
      "execution_count": 0,
      "outputs": []
    },
    {
      "cell_type": "code",
      "metadata": {
        "id": "mXIAVmASwVS_",
        "colab_type": "code",
        "outputId": "2d0442c1-045b-4feb-9580-aab722411112",
        "colab": {
          "base_uri": "https://localhost:8080/",
          "height": 627
        }
      },
      "source": [
        "col = ['Happy - Bully', 'Happy - Non-Bully', 'Sad - Bully', 'Sad- Non-Bully', 'Anger/Disgust - Bully', 'Anger/Disgust - Non-Bully', 'Surprised - Bully', 'Surprised - Non-Bully','Neutral - Bully','Neutral - Non-Bully']\n",
        "\n",
        "fram_cm = DataFrame(predicted_comb, index=col, columns=col)\n",
        "print(fram_cm)\n",
        "\n",
        "ax = sea.heatmap(fram_cm, cmap='Oranges', annot=True)\n",
        "ax.set_ylim(len(fram_cm), 0)"
      ],
      "execution_count": 63,
      "outputs": [
        {
          "output_type": "stream",
          "text": [
            "                           Happy - Bully  ...  Neutral - Non-Bully\n",
            "Happy - Bully                          1  ...                    0\n",
            "Happy - Non-Bully                      0  ...                    0\n",
            "Sad - Bully                            0  ...                    0\n",
            "Sad- Non-Bully                         0  ...                    0\n",
            "Anger/Disgust - Bully                  0  ...                    0\n",
            "Anger/Disgust - Non-Bully              0  ...                    0\n",
            "Surprised - Bully                      0  ...                    0\n",
            "Surprised - Non-Bully                  0  ...                    0\n",
            "Neutral - Bully                        0  ...                    0\n",
            "Neutral - Non-Bully                    0  ...                    3\n",
            "\n",
            "[10 rows x 10 columns]\n"
          ],
          "name": "stdout"
        },
        {
          "output_type": "execute_result",
          "data": {
            "text/plain": [
              "(10, 0)"
            ]
          },
          "metadata": {
            "tags": []
          },
          "execution_count": 63
        },
        {
          "output_type": "display_data",
          "data": {
            "image/png": "[encoded data removed]",
            "text/plain": [
              "<Figure size 432x288 with 2 Axes>"
            ]
          },
          "metadata": {
            "tags": []
          }
        }
      ]
    }
  ]
}