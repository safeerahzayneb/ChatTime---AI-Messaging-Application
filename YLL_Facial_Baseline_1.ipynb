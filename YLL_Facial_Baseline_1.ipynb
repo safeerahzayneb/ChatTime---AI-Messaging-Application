{
  "nbformat": 4,
  "nbformat_minor": 0,
  "metadata": {
    "colab": {
      "name": "YLL_Facial_Baseline.ipynb",
      "provenance": [],
      "collapsed_sections": [],
      "include_colab_link": true
    },
    "kernelspec": {
      "name": "python3",
      "display_name": "Python 3"
    },
    "accelerator": "GPU"
  },
  "cells": [
    {
      "cell_type": "markdown",
      "metadata": {
        "id": "view-in-github",
        "colab_type": "text"
      },
      "source": [
        "<a href=\"https://colab.research.google.com/github/yanli499/APS360-Project/blob/Lucy_1/YLL_Facial_Baseline_1.ipynb\" target=\"_parent\"><img src=\"https://colab.research.google.com/assets/colab-badge.svg\" alt=\"Open In Colab\"/></a>"
      ]
    },
    {
      "cell_type": "markdown",
      "metadata": {
        "id": "VjgnvX4mFamT",
        "colab_type": "text"
      },
      "source": [
        "Bayesian Model https://towardsdatascience.com/estimating-probabilities-with-bayesian-modeling-in-python-7144be007815"
      ]
    },
    {
      "cell_type": "markdown",
      "metadata": {
        "id": "XsjEYxTZGZ2p",
        "colab_type": "text"
      },
      "source": [
        "Bayesian Linear Regression https://towardsdatascience.com/bayesian-linear-regression-in-python-using-machine-learning-to-predict-student-grades-part-2-b72059a8ac7e"
      ]
    },
    {
      "cell_type": "markdown",
      "metadata": {
        "id": "z2-M3nMh3F75",
        "colab_type": "text"
      },
      "source": [
        "Sklearn Naive Bayes https://towardsdatascience.com/naive-bayes-document-classification-in-python-e33ff50f937e"
      ]
    },
    {
      "cell_type": "markdown",
      "metadata": {
        "id": "qVH4o4GnuJZS",
        "colab_type": "text"
      },
      "source": [
        "Geeks for Geeks https://www.geeksforgeeks.org/multiclass-classification-using-scikit-learn/ "
      ]
    },
    {
      "cell_type": "code",
      "metadata": {
        "id": "0ph67Rh_ZtMp",
        "colab_type": "code",
        "colab": {}
      },
      "source": [
        "import os\n",
        "import shutil\n",
        "import copy\n",
        "import time\n",
        "import random\n",
        "import numpy as np\n",
        "import torch\n",
        "import torch.nn as nn\n",
        "import torch.nn.functional as F\n",
        "import torch.optim as optim\n",
        "import torchvision\n",
        "import torchvision.models\n",
        "import torchvision.transforms as transforms\n",
        "import matplotlib.pyplot as plt\n",
        "\n",
        "from PIL import Image\n",
        "from torchvision import datasets, models, transforms\n",
        "from torch.optim import lr_scheduler\n",
        "from torch.autograd import Variable"
      ],
      "execution_count": 0,
      "outputs": []
    },
    {
      "cell_type": "code",
      "metadata": {
        "id": "txTe4uI1Vlcj",
        "colab_type": "code",
        "colab": {
          "base_uri": "https://localhost:8080/",
          "height": 123
        },
        "outputId": "fef09c39-6db8-4338-e8e1-f29055d2fad7"
      },
      "source": [
        "# Mount our Google Drive\n",
        "# re-run whenever needed\n",
        "from google.colab import drive\n",
        "drive.mount('/content/drive')"
      ],
      "execution_count": 3,
      "outputs": [
        {
          "output_type": "stream",
          "text": [
            "Go to this URL in a browser: https://accounts.google.com/o/oauth2/auth?client_id=947318989803-6bn6qk8qdgf4n4g3pfee6491hc0brc4i.apps.googleusercontent.com&redirect_uri=urn%3Aietf%3Awg%3Aoauth%3A2.0%3Aoob&scope=email%20https%3A%2F%2Fwww.googleapis.com%2Fauth%2Fdocs.test%20https%3A%2F%2Fwww.googleapis.com%2Fauth%2Fdrive%20https%3A%2F%2Fwww.googleapis.com%2Fauth%2Fdrive.photos.readonly%20https%3A%2F%2Fwww.googleapis.com%2Fauth%2Fpeopleapi.readonly&response_type=code\n",
            "\n",
            "Enter your authorization code:\n",
            "··········\n",
            "Mounted at /content/drive\n"
          ],
          "name": "stdout"
        }
      ]
    },
    {
      "cell_type": "code",
      "metadata": {
        "id": "yHHrxjjGWxBq",
        "colab_type": "code",
        "colab": {}
      },
      "source": [
        "# re-run when needed\n",
        "# classes are folders in each directory with these names\n",
        "classes = ['afraid','angry','disgusted','happy','neutral','sad','surprised']\n",
        "\n",
        "# emotion label for KDEF photos\n",
        "emotion_code = {\"AF\":\"afraid\", \"AN\":\"angry\", \"DI\":\"disgusted\", \"HA\":\"happy\", \n",
        "                \"NE\":\"neutral\", \"SA\":\"sad\", \"SU\":\"surprised\"}\n",
        "emotion_enum = {\"afraid\":1, \"angry\":2, \"disgusted\":3, \"happy\":4, \n",
        "                \"neutral\":5, \"sad\":6, \"surprised\":7}\n",
        "\n",
        "data_dir='/content/drive/My Drive/Colab Notebooks/Faces/train'"
      ],
      "execution_count": 0,
      "outputs": []
    },
    {
      "cell_type": "code",
      "metadata": {
        "id": "5MiQJGXGWxyT",
        "colab_type": "code",
        "colab": {
          "base_uri": "https://localhost:8080/",
          "height": 137
        },
        "outputId": "01c6cad9-52db-472c-9163-f0fb38c35fc0"
      },
      "source": [
        "data = []\n",
        "target = []\n",
        "\n",
        "for c in classes:\n",
        "    filepath = data_dir + '/' + c\n",
        "    print(filepath)\n",
        "    for file in os.listdir(filepath):\n",
        "        target.append(emotion_enum[c])\n",
        "        im = Image.open(filepath + \"/\" + file)\n",
        "        im = im.crop((16, 16, 240, 240))\n",
        "        np_im = np.array(im)\n",
        "        np_im = np.ravel(np_im)\n",
        "        data.append(np_im)"
      ],
      "execution_count": 18,
      "outputs": [
        {
          "output_type": "stream",
          "text": [
            "/content/drive/My Drive/Colab Notebooks/Faces/train/afraid\n",
            "/content/drive/My Drive/Colab Notebooks/Faces/train/angry\n",
            "/content/drive/My Drive/Colab Notebooks/Faces/train/disgusted\n",
            "/content/drive/My Drive/Colab Notebooks/Faces/train/happy\n",
            "/content/drive/My Drive/Colab Notebooks/Faces/train/neutral\n",
            "/content/drive/My Drive/Colab Notebooks/Faces/train/sad\n",
            "/content/drive/My Drive/Colab Notebooks/Faces/train/surprised\n"
          ],
          "name": "stdout"
        }
      ]
    },
    {
      "cell_type": "code",
      "metadata": {
        "id": "CUX8VFe0uIBb",
        "colab_type": "code",
        "outputId": "152de6ac-e02c-4f38-ee43-0e6b15acdcfd",
        "colab": {
          "base_uri": "https://localhost:8080/",
          "height": 189
        }
      },
      "source": [
        "# importing necessary libraries \n",
        "from sklearn import datasets \n",
        "from sklearn.metrics import confusion_matrix \n",
        "from sklearn.model_selection import train_test_split \n",
        "\n",
        "# # loading the dataset\n",
        "# faces = datasets.fetch_olivetti_faces()\n",
        "# X = faces.data\n",
        "# y = faces.target\n",
        "X = np.array(data)\n",
        "y = np.array(target)\n",
        "\n",
        "print(X.shape)\n",
        "print(y.shape)\n",
        "\n",
        "# thus, need to create data w shape (7 * 140, 224 * 224) for total # of samples\n",
        "# and each row = pixel of photo\n",
        "# target = labels of all samples\n",
        "\n",
        "# dividing X, y into train and test data \n",
        "X_train, X_test, y_train, y_test = train_test_split(X, y, random_state = 0) \n",
        "\n",
        "# training a Naive Bayes classifier \n",
        "from sklearn.naive_bayes import GaussianNB \n",
        "gnb = GaussianNB().fit(X_train, y_train) \n",
        "gnb_predictions = gnb.predict(X_test) \n",
        "\n",
        "# accuracy on X_test \n",
        "accuracy = gnb.score(X_test, y_test) \n",
        "print(accuracy)\n",
        "\n",
        "# creating a confusion matrix \n",
        "cm = confusion_matrix(y_test, gnb_predictions) \n",
        "print(cm)"
      ],
      "execution_count": 19,
      "outputs": [
        {
          "output_type": "stream",
          "text": [
            "(490, 50176)\n",
            "(490,)\n",
            "0.2682926829268293\n",
            "[[10  2  1  3  0  0  1]\n",
            " [ 3  6  1  5  0  0  0]\n",
            " [ 6  2  3  6  2  0  0]\n",
            " [ 4  1  1 10  0  0  1]\n",
            " [ 4  1  2  9  1  0  0]\n",
            " [ 5  5  3  5  3  0  0]\n",
            " [ 8  1  0  4  1  0  3]]\n"
          ],
          "name": "stdout"
        }
      ]
    }
  ]
}