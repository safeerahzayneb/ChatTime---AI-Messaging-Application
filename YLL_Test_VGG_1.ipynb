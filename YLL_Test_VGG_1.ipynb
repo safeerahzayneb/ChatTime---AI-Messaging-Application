{
  "nbformat": 4,
  "nbformat_minor": 0,
  "metadata": {
    "colab": {
      "name": "YLL_Test_VGG.ipynb",
      "provenance": [],
      "collapsed_sections": [],
      "machine_shape": "hm",
      "include_colab_link": true
    },
    "kernelspec": {
      "name": "python3",
      "display_name": "Python 3"
    },
    "accelerator": "GPU"
  },
  "cells": [
    {
      "cell_type": "markdown",
      "metadata": {
        "id": "view-in-github",
        "colab_type": "text"
      },
      "source": [
        "<a href=\"https://colab.research.google.com/github/yanli499/ChatTime/blob/Lucy_1/YLL_Test_VGG_1.ipynb\" target=\"_parent\"><img src=\"https://colab.research.google.com/assets/colab-badge.svg\" alt=\"Open In Colab\"/></a>"
      ]
    },
    {
      "cell_type": "code",
      "metadata": {
        "id": "Ne2bpo2avzHS",
        "colab_type": "code",
        "colab": {}
      },
      "source": [
        "# ALL import statements\n",
        "import os\n",
        "import shutil\n",
        "import copy\n",
        "import time\n",
        "import math\n",
        "import random\n",
        "import numpy as np\n",
        "import torch\n",
        "import torch.nn as nn\n",
        "import torch.nn.functional as F\n",
        "import torch.optim as optim\n",
        "import torchvision\n",
        "import torchvision.models\n",
        "import torchvision.transforms as transforms\n",
        "import matplotlib.pyplot as plt\n",
        "\n",
        "from PIL import Image\n",
        "from torchvision import datasets, models, transforms\n",
        "from torch.optim import lr_scheduler\n",
        "from torch.autograd import Variable"
      ],
      "execution_count": 0,
      "outputs": []
    },
    {
      "cell_type": "code",
      "metadata": {
        "id": "eCdCgvkgiqYw",
        "colab_type": "code",
        "outputId": "b01d3cc0-d21a-4895-cf6c-e47d9b7a5fc6",
        "colab": {
          "base_uri": "https://localhost:8080/",
          "height": 34
        }
      },
      "source": [
        "# Mount our Google Drive\n",
        "# re-run whenever needed\n",
        "from google.colab import drive\n",
        "drive.mount('/content/drive')"
      ],
      "execution_count": 8,
      "outputs": [
        {
          "output_type": "stream",
          "text": [
            "Drive already mounted at /content/drive; to attempt to forcibly remount, call drive.mount(\"/content/drive\", force_remount=True).\n"
          ],
          "name": "stdout"
        }
      ]
    },
    {
      "cell_type": "code",
      "metadata": {
        "id": "Ir_dLCntisAH",
        "colab_type": "code",
        "colab": {}
      },
      "source": [
        "# Global variables\n",
        "# classes are folders in each directory with these names\n",
        "classes = ['afraid','angry','disgusted','happy','neutral','sad','surprised']\n",
        "\n",
        "# emotion label for KDEF photos\n",
        "emotion_code = {\"AF\":\"afraid\", \"AN\":\"angry\", \"DI\":\"disgusted\", \"HA\":\"happy\", \n",
        "                \"NE\":\"neutral\", \"SA\":\"sad\", \"SU\":\"surprised\"}\n",
        "\n",
        "data_dir='/content/drive/My Drive/Colab Notebooks/Faces'"
      ],
      "execution_count": 0,
      "outputs": []
    },
    {
      "cell_type": "code",
      "metadata": {
        "id": "dLljEYqZAWVz",
        "colab_type": "code",
        "colab": {}
      },
      "source": [
        "# Call this function once only!\n",
        "\"\"\"\n",
        "Logic for sorting thru dataseta for desired images:\n",
        "KDEF:\n",
        "- Example file name: AF01ANS.JPG\n",
        "- Check:\n",
        "    - length of name = 7, for straight profile only, ends with \"S.jpg\"\n",
        "    - str[4:5] = {\"AF\":\"afraid\", \"AN\":\"angry\", \"DI\":\"disgusted\", \"HA\":\"happy\",\n",
        "    \"NE\":\"neutral\", \"SA\":sad\", \"SU\":\"surprised\"}\n",
        "\"\"\"\n",
        "\n",
        "def create_useful_dataset(): \n",
        "    # delete existing folder\n",
        "    if os.path.exists(data_dir+'/'):\n",
        "        shutil.rmtree(data_dir+'/')\n",
        "\n",
        "    # make new directories for each emotion class + train, val, test\n",
        "    try:\n",
        "        os.mkdir(data_dir)\n",
        "\n",
        "        for i in range(len(classes)):\n",
        "            os.mkdir(data_dir+'/'+classes[i])\n",
        "\n",
        "        os.mkdir(data_dir+'/train')\n",
        "        for i in range(len(classes)):\n",
        "            os.mkdir(data_dir+'/train/'+classes[i])\n",
        "        \n",
        "        os.mkdir(data_dir+'/val')\n",
        "        for i in range(len(classes)):\n",
        "            os.mkdir(data_dir+'/val/'+classes[i])\n",
        "\n",
        "        os.mkdir(data_dir+'/test')\n",
        "        for i in range(len(classes)):\n",
        "            os.mkdir(data_dir+'/test/'+classes[i])\n",
        "\n",
        "    except OSError:\n",
        "        print (\"Creation of the directories failed!\")\n",
        "    else:\n",
        "        print (\"Successfully created the directories!\")\n",
        "\n",
        "    # rootdir = path to KDEF main folder\n",
        "    rootdir = '/content/drive/My Drive/Colab Notebooks/PROJECT/KDEF/'\n",
        "\n",
        "    # go thru KDEF data + sort out desired photos\n",
        "    for subdir, dirs, files in os.walk(rootdir):\n",
        "        for file in files:\n",
        "            filename = subdir + os.sep + file\n",
        "            if (file.endswith(\"S.jpg\") or file.endswith(\"S.JPG\")): \n",
        "                \"\"\"\n",
        "                For each straight profile photo:\n",
        "                    - convert RGB --> Grayscale\n",
        "                    - make 4 copies of photo: original orientation, rotate 5 degrees\n",
        "                        clockwise (cw), rotate counter-clockwise (ccw), flip horizontally\n",
        "                    - resize all to 256 x 256 pixels, b/c will center crop to 224 x 224 later\n",
        "                    - then save in the corresponding emotion class folder\n",
        "                \"\"\"\n",
        "                img = Image.open(filename).convert('L')\n",
        "                img_cw = img.rotate(355)\n",
        "                img_ccw = img.rotate(5)\n",
        "                img_flip = img.transpose(Image.FLIP_LEFT_RIGHT)\n",
        "\n",
        "                new_img = img.resize((256, 256))\n",
        "                new_img_cw = img_cw.resize((256, 256))\n",
        "                new_img_ccw = img_ccw.resize((256, 256))\n",
        "                new_img_flip = img_flip.resize((256, 256))\n",
        "\n",
        "                label = file[4:6]\n",
        "                new_img.save(data_dir+'/'+emotion_code[label]+'/'+file)\n",
        "                new_img_cw.save(data_dir+'/'+emotion_code[label]+'/'+'1'+file)\n",
        "                new_img_ccw.save(data_dir+'/'+emotion_code[label]+'/'+'2'+file)\n",
        "                new_img_flip.save(data_dir+'/'+emotion_code[label]+'/'+'3'+file)"
      ],
      "execution_count": 0,
      "outputs": []
    },
    {
      "cell_type": "code",
      "metadata": {
        "id": "_ONtGEPi4oIH",
        "colab_type": "code",
        "colab": {}
      },
      "source": [
        "def split_data_to_subsets():   \n",
        "    # Split data into train, val, test datasets (60:20:20)\n",
        "    # each class = ~568 images --> ~340 train, ~114 val, ~114 test\n",
        "\n",
        "    # divide data into train, val, + test\n",
        "    # for each emotion class, get filenames, shuffle, \n",
        "    # divide, move to corresponding folders\n",
        "    for cla in classes:\n",
        "        filepath = data_dir+'/'+cla\n",
        "        names = []\n",
        "\n",
        "        for file in os.listdir(filepath):\n",
        "            names.append(file)\n",
        "\n",
        "        random.shuffle(names)\n",
        "        num_files = len(names)\n",
        "\n",
        "        for ind, name in enumerate(names):\n",
        "            if(ind <= math.ceil(0.6 * num_files)):\n",
        "                # Move to train\n",
        "                shutil.move(filepath+'/'+name, data_dir+'/train/'+cla+'/'+name)\n",
        "            elif(ind <= math.ceil(0.8 * num_files)):\n",
        "                # Move to val\n",
        "                shutil.move(filepath+'/'+name, data_dir+'/val/'+cla+'/'+name)\n",
        "            else:\n",
        "                # Move to test\n",
        "                shutil.move(filepath+'/'+name, data_dir+'/test/'+cla+'/'+name)"
      ],
      "execution_count": 0,
      "outputs": []
    },
    {
      "cell_type": "code",
      "metadata": {
        "id": "t2Fuh2e3nsyt",
        "colab_type": "code",
        "colab": {
          "base_uri": "https://localhost:8080/",
          "height": 34
        },
        "outputId": "a6617384-2bfc-4a60-ca85-bbe7ec0381bf"
      },
      "source": [
        "# Run only when necessary\n",
        "create_useful_dataset()\n",
        "split_data_to_subsets()"
      ],
      "execution_count": 12,
      "outputs": [
        {
          "output_type": "stream",
          "text": [
            "Successfully created the directories!\n"
          ],
          "name": "stdout"
        }
      ]
    },
    {
      "cell_type": "code",
      "metadata": {
        "id": "qhMNWF1POQR7",
        "colab_type": "code",
        "outputId": "72e7a41f-6eb4-4841-b181-eb9e1ccb9ae2",
        "colab": {
          "base_uri": "https://localhost:8080/",
          "height": 120
        }
      },
      "source": [
        "alexnet = torchvision.models.alexnet(pretrained=True)\n",
        "vgg16 = torchvision.models.vgg16(pretrained=True)\n",
        "\n",
        "torch.manual_seed(1) # set the random seed\n",
        "\n",
        "classes = ['afraid','angry','disgusted','happy','neutral','sad','surprised']\n",
        "\n",
        "data_dir='/content/drive/My Drive/Colab Notebooks/Faces/'\n",
        "\n",
        "batch_size=1\n",
        "\n",
        "# define training and test data directories\n",
        "train_dir = os.path.join(data_dir, 'train/')\n",
        "val_dir = os.path.join(data_dir, 'val/')\n",
        "test_dir = os.path.join(data_dir, 'test/')\n",
        "\n",
        "data_transform = transforms.Compose([transforms.CenterCrop(224), \n",
        "                                      transforms.ToTensor()])\n",
        "\n",
        "train_data = datasets.ImageFolder(train_dir, transform=data_transform)\n",
        "val_data = datasets.ImageFolder(val_dir, transform=data_transform)\n",
        "test_data = datasets.ImageFolder(test_dir, transform=data_transform)\n",
        "    \n",
        "train_loader = torch.utils.data.DataLoader(train_data, batch_size=batch_size)\n",
        "val_loader = torch.utils.data.DataLoader(val_data, batch_size=batch_size)\n",
        "test_loader = torch.utils.data.DataLoader(test_data, batch_size=batch_size)\n",
        "\n",
        "# delete existing folder\n",
        "if os.path.exists(data_dir+'vgg16'):\n",
        "    shutil.rmtree(data_dir+'vgg16')\n",
        "\n",
        "try:\n",
        "    os.mkdir(data_dir+'vgg16')\n",
        "\n",
        "    os.mkdir(data_dir+'vgg16/train')\n",
        "    for i in range(len(classes)):\n",
        "        os.mkdir(data_dir+'vgg16/train/'+classes[i])\n",
        "    \n",
        "    os.mkdir(data_dir+'vgg16/val')\n",
        "    for i in range(len(classes)):\n",
        "        os.mkdir(data_dir+'vgg16/val/'+classes[i])\n",
        "\n",
        "    os.mkdir(data_dir+'vgg16/test')\n",
        "    for i in range(len(classes)):\n",
        "        os.mkdir(data_dir+'vgg16/test/'+classes[i])\n",
        "\n",
        "except OSError:\n",
        "    print (\"Creation of the directories failed!\")\n",
        "else:\n",
        "    print (\"Successfully created the directories!\")\n",
        "\n",
        "\n",
        "# delete existing folder\n",
        "if os.path.exists(data_dir+'alexnet'):\n",
        "    shutil.rmtree(data_dir+'alexnet')\n",
        "\n",
        "try:\n",
        "    os.mkdir(data_dir+'alexnet')\n",
        "\n",
        "    os.mkdir(data_dir+'alexnet/train')\n",
        "    for i in range(len(classes)):\n",
        "        os.mkdir(data_dir+'alexnet/train/'+classes[i])\n",
        "    \n",
        "    os.mkdir(data_dir+'alexnet/val')\n",
        "    for i in range(len(classes)):\n",
        "        os.mkdir(data_dir+'alexnet/val/'+classes[i])\n",
        "\n",
        "    os.mkdir(data_dir+'alexnet/test')\n",
        "    for i in range(len(classes)):\n",
        "        os.mkdir(data_dir+'alexnet/test/'+classes[i])\n",
        "\n",
        "except OSError:\n",
        "    print (\"Creation of the directories failed!\")\n",
        "else:\n",
        "    print (\"Successfully created the directories!\")\n",
        "\n",
        "\n",
        "\n",
        "def save_tensor(dir_name, features, label, img_num):\n",
        "  path='/content/drive/My Drive/Colab Notebooks/Faces/'+dir_name\n",
        "  if (label.item() == 0):\n",
        "    torch.save(features, path + '/afraid/features_' + str(img_num) + '.tensor')\n",
        "  if (label.item() == 1):\n",
        "    torch.save(features, path + '/angry/features_' + str(img_num) + '.tensor')\n",
        "  if (label.item() == 2):\n",
        "    torch.save(features, path + '/disgusted/features_' + str(img_num) + '.tensor')\n",
        "  if (label.item() == 3):\n",
        "    torch.save(features, path + '/happy/features_' + str(img_num) + '.tensor')\n",
        "  if (label.item() == 4):\n",
        "    torch.save(features, path + '/neutral/features_' + str(img_num) + '.tensor')\n",
        "  if (label.item() == 5):\n",
        "    torch.save(features, path + '/sad/features_' + str(img_num) + '.tensor')\n",
        "  if (label.item() == 6):\n",
        "    torch.save(features, path + '/surprised/features_' + str(img_num) + '.tensor')\n",
        "  \n",
        "\n",
        "i = 0\n",
        "for img, label in train_loader:\n",
        "    features = vgg16.features(img)\n",
        "    save_tensor('vgg16/train', features, label, i)\n",
        "    i+=1\n",
        "\n",
        "i = 0\n",
        "for img, label in val_loader:\n",
        "    features = vgg16.features(img)\n",
        "    save_tensor('vgg16/val', features, label, i)\n",
        "    i+=1\n",
        "\n",
        "i = 0\n",
        "for img, label in test_loader:\n",
        "    features = vgg16.features(img)\n",
        "    save_tensor('vgg16/test', features, label, i)\n",
        "    i+=1\n",
        "\n",
        "\n",
        "\n",
        "\n",
        "i = 0\n",
        "for img, label in train_loader:\n",
        "    features = alexnet.features(img)\n",
        "    save_tensor('alexnet/train', features, label, i)\n",
        "    i+=1\n",
        "\n",
        "i = 0\n",
        "for img, label in val_loader:\n",
        "    features = alexnet.features(img)\n",
        "    save_tensor('alexnet/val', features, label, i)\n",
        "    i+=1\n",
        "\n",
        "i = 0\n",
        "for img, label in test_loader:\n",
        "    features = alexnet.features(img)\n",
        "    save_tensor('alexnet/test', features, label, i)\n",
        "    i+=1\n",
        "    \n"
      ],
      "execution_count": 13,
      "outputs": [
        {
          "output_type": "stream",
          "text": [
            "Downloading: \"https://download.pytorch.org/models/alexnet-owt-4df8aa71.pth\" to /root/.cache/torch/checkpoints/alexnet-owt-4df8aa71.pth\n",
            "100%|██████████| 233M/233M [00:01<00:00, 190MB/s]\n",
            "Downloading: \"https://download.pytorch.org/models/vgg16-397923af.pth\" to /root/.cache/torch/checkpoints/vgg16-397923af.pth\n",
            "100%|██████████| 528M/528M [00:02<00:00, 216MB/s]\n"
          ],
          "name": "stderr"
        },
        {
          "output_type": "stream",
          "text": [
            "Successfully created the directories!\n",
            "Successfully created the directories!\n"
          ],
          "name": "stdout"
        }
      ]
    },
    {
      "cell_type": "code",
      "metadata": {
        "id": "2jRGd1Pml3rp",
        "colab_type": "code",
        "colab": {}
      },
      "source": [
        "#Artifical Neural Network Architecture\n",
        "class ANNClassifier_Alexnet(nn.Module):\n",
        "    def __init__(self):\n",
        "        super(ANNClassifier_Alexnet, self).__init__()\n",
        "        self.name = \"alexnet_ann\"\n",
        "        self.fc1 = nn.Linear(256 * 6 * 6, 300)\n",
        "        self.fc2 = nn.Linear(300, 7)\n",
        "\n",
        "    def forward(self, x):\n",
        "        x = x.view(-1, 256 * 6 * 6) #flatten feature data\n",
        "        x = F.relu(self.fc1(x))\n",
        "        x = self.fc2(x)\n",
        "        return x\n",
        "\n",
        "#Artifical Neural Network Architecture\n",
        "class ANNClassifier_VGG16(nn.Module):\n",
        "    def __init__(self):\n",
        "        super(ANNClassifier_VGG16, self).__init__()\n",
        "        self.name = \"vgg16_ann\"\n",
        "        self.fc1 = nn.Linear(512*7*7, 300)\n",
        "        self.fc2 = nn.Linear(300, 7)\n",
        "\n",
        "    def forward(self, x):\n",
        "        x = x.view(-1, 512*7*7) #flatten feature data\n",
        "        x = F.relu(self.fc1(x))\n",
        "        x = self.fc2(x)\n",
        "        return x\n",
        "      \n",
        "#output = model(features)\n",
        "#prob = F.softmax(output)"
      ],
      "execution_count": 0,
      "outputs": []
    },
    {
      "cell_type": "code",
      "metadata": {
        "id": "rgA7U1k0mFfO",
        "colab_type": "code",
        "colab": {}
      },
      "source": [
        "def load_feature(loc): \n",
        "    return torch.load(loc)\n",
        "\n",
        "# Data Loading\n",
        "def get_data_loader(data_dir, batch_size):\n",
        "  \n",
        "    # mount our Google Drive\n",
        "    from google.colab import drive\n",
        "    drive.mount('/content/drive')\n",
        "\n",
        "    # define training and test data directories\n",
        "    train_dir = os.path.join(data_dir, 'train/')\n",
        "    val_dir = os.path.join(data_dir, 'val/')\n",
        "    test_dir = os.path.join(data_dir, 'test/')\n",
        "\n",
        "    # resize all images to 224 x 224\n",
        "    #data_transform = transforms.Compose([transforms.CenterCrop(224), \n",
        "    #                                  transforms.ToTensor()])\n",
        "\n",
        "    train_data = datasets.DatasetFolder(train_dir, loader = load_feature, extensions = '.tensor')\n",
        "    val_data = datasets.DatasetFolder(val_dir, loader = load_feature, extensions = '.tensor')\n",
        "    test_data = datasets.DatasetFolder(test_dir, loader = load_feature, extensions = '.tensor')\n",
        "\n",
        "    train_loader = torch.utils.data.DataLoader(train_data, batch_size=batch_size)\n",
        "    val_loader = torch.utils.data.DataLoader(val_data, batch_size=batch_size)\n",
        "    test_loader = torch.utils.data.DataLoader(test_data, batch_size=batch_size)\n",
        "    \n",
        "    return train_loader, val_loader, test_loader\n",
        "\n",
        "\n",
        "# Training\n",
        "def get_model_name(name, batch_size, learning_rate, epoch):\n",
        "    \"\"\" Generate a name for the model consisting of all the hyperparameter values\n",
        "\n",
        "    Args:\n",
        "        config: Configuration object containing the hyperparameters\n",
        "    Returns:\n",
        "        path: A string with the hyperparameter name and value concatenated\n",
        "    \"\"\"\n",
        "    path = \"model_{0}_bs{1}_lr{2}_epoch{3}\".format(name,\n",
        "                                                   batch_size,\n",
        "                                                   learning_rate,\n",
        "                                                   epoch)\n",
        "    return path\n",
        "  \n",
        "def get_accuracy(model, loader):\n",
        "\n",
        "    correct = 0\n",
        "    total = 0\n",
        "    for imgs, labels in loader:\n",
        "\n",
        "        imgs = torch.from_numpy(imgs.detach().numpy())\n",
        "        \n",
        "        output = model(imgs)\n",
        "        prob = F.softmax(output)\n",
        "        \n",
        "        #select index with maximum prediction score\n",
        "        pred = prob.max(1, keepdim=True)[1]\n",
        "        correct += pred.eq(labels.view_as(pred)).sum().item()\n",
        "        total += imgs.shape[0]\n",
        "        \n",
        "    return correct / total\n",
        "\n",
        "def evaluate(net, loader, criterion):\n",
        "    \"\"\" Evaluate the network on the validation set.\n",
        "\n",
        "     Args:\n",
        "         net: PyTorch neural network object\n",
        "         loader: PyTorch data loader for the validation set\n",
        "         criterion: The loss function\n",
        "     Returns:\n",
        "         acc: A scalar for the avg classification acc over the validation set\n",
        "         loss: A scalar for the average loss function over the validation set\n",
        "     \"\"\"\n",
        "    total_loss = 0.0\n",
        "    total_epoch = 0\n",
        "    correct = 0\n",
        "    total = 0\n",
        "    for i, data in enumerate(loader, 0):\n",
        "        imgs, labels = data\n",
        "        \n",
        "        imgs = torch.from_numpy(imgs.detach().numpy())\n",
        "              \n",
        "        out = model(imgs)             # forward pass\n",
        "        prob = F.softmax(out)\n",
        "        loss = criterion(prob, labels)\n",
        "        \n",
        "        #select index with maximum prediction score\n",
        "        pred = prob.max(1, keepdim=True)[1]\n",
        "        correct += pred.eq(labels.view_as(pred)).sum().item()\n",
        "        total += imgs.shape[0]\n",
        "        \n",
        "        total_loss += loss\n",
        "        total_epoch += len(labels)\n",
        "    \n",
        "    acc = correct / total\n",
        "    loss = float(total_loss) / (i + 1)\n",
        "    \n",
        "    return acc, loss\n",
        "\n",
        "# Training Curve\n",
        "def plot_training_curve(path):\n",
        "    \"\"\" Plots the training curve for a model run, given the csv files\n",
        "    containing the train/validation accuracy/loss.\n",
        "\n",
        "    Args:\n",
        "        path: The base path of the csv files produced during training\n",
        "    \"\"\"\n",
        "    import matplotlib.pyplot as plt\n",
        "    \n",
        "    train_acc = np.loadtxt(\"{}_train_acc.csv\".format(path))\n",
        "    val_acc = np.loadtxt(\"{}_val_acc.csv\".format(path))\n",
        "    train_loss = np.loadtxt(\"{}_train_loss.csv\".format(path))\n",
        "    val_loss = np.loadtxt(\"{}_val_loss.csv\".format(path))\n",
        "    \n",
        "    n = len(train_acc) # number of epochs\n",
        "    \n",
        "    plt.title(\"Train vs Validation Loss\")\n",
        "    plt.plot(range(1,n+1), train_loss, label=\"Train\")\n",
        "    plt.plot(range(1,n+1), val_loss, label=\"Validation\")\n",
        "    plt.xlabel(\"Epoch\")\n",
        "    plt.ylabel(\"Loss\")\n",
        "    plt.legend(loc='best')\n",
        "    plt.show()\n",
        "    \n",
        "    plt.title(\"Train vs Validation Accuracy\")\n",
        "    plt.plot(range(1,n+1), train_acc, label=\"Train\")\n",
        "    plt.plot(range(1,n+1), val_acc, label=\"Validation\")\n",
        "    plt.xlabel(\"Epoch\")\n",
        "    plt.ylabel(\"Accuracy\")\n",
        "    plt.legend(loc='best')\n",
        "    plt.show()\n",
        "    \n",
        "    print(\"Final Training Accuracy: {}\".format(train_acc[-1]))\n",
        "    print(\"Final Validation Accuracy: {}\".format(val_acc[-1]))\n",
        "\n",
        "    \n",
        "def train_net(net, batch_size=64, learning_rate=0.01, num_epochs=30,\n",
        "    data_dir='/content/drive/My Drive/Colab Notebooks/Faces/'):\n",
        "\n",
        "    # Fixed PyTorch random seed for reproducible result\n",
        "    torch.manual_seed(1000)\n",
        "    \n",
        "    # Obtain the PyTorch data loader objects to load batches of the datasets\n",
        "    train_loader, val_loader, test_loader = get_data_loader(data_dir, batch_size)\n",
        "\n",
        "    criterion = nn.CrossEntropyLoss()\n",
        "    optimizer = optim.SGD(model.parameters(), lr=learning_rate, momentum=0.9)\n",
        "    \n",
        "    # Set up some numpy arrays to store the training/test loss/erruracy\n",
        "    train_acc = np.zeros(num_epochs)\n",
        "    train_loss = np.zeros(num_epochs)\n",
        "    val_acc = np.zeros(num_epochs)\n",
        "    val_loss = np.zeros(num_epochs)\n",
        "    \n",
        "    # Train the network\n",
        "    # Loop over the data iterator and sample a new batch of training data\n",
        "    # Get the output from the network, and optimize our loss function.\n",
        "    \n",
        "    for epoch in range(num_epochs):  # loop over the dataset multiple times\n",
        "        total_train_loss = 0.0\n",
        "        total_train_acc = 0.0\n",
        "        total_epoch = 0\n",
        "        for i, data in enumerate(train_loader, 0):\n",
        "            \n",
        "            # Get the inputs\n",
        "            imgs, labels = data\n",
        "            \n",
        "            # Zero the parameter gradients\n",
        "            optimizer.zero_grad()\n",
        "            # Forward pass, backward pass, and optimize\n",
        "            imgs = torch.from_numpy(imgs.detach().numpy())\n",
        "              \n",
        "            out = model(imgs)             # forward pass\n",
        "            prob = F.softmax(out)\n",
        "            loss = criterion(prob, labels)\n",
        "            loss.backward()\n",
        "            optimizer.step()\n",
        "            \n",
        "            total_train_loss += loss\n",
        "            total_epoch += len(labels)\n",
        "        train_acc[epoch] = get_accuracy(net, train_loader)\n",
        "        train_loss[epoch] = float(total_train_loss) / (i+1)\n",
        "        val_acc[epoch], val_loss[epoch] = evaluate(net, val_loader, criterion)\n",
        "        \n",
        "        print((\"Epoch {}: Train acc: {}, Train loss: {} |\"+\n",
        "               \"Validation acc: {}, Validation loss: {}\").format(\n",
        "                   epoch + 1,\n",
        "                   train_acc[epoch],\n",
        "                   train_loss[epoch],\n",
        "                   val_acc[epoch],\n",
        "                   val_loss[epoch]))\n",
        "        \n",
        "        # Save the current model (checkpoint) to a file\n",
        "        model_path = get_model_name(net.name, batch_size, learning_rate, epoch)\n",
        "        torch.save(net.state_dict(), model_path)\n",
        "    \n",
        "    print('Finished Training')\n",
        "    \n",
        "    # Write the train/test loss/accuracy into CSV file for plotting later\n",
        "    epochs = np.arange(1, num_epochs + 1)\n",
        "    np.savetxt(\"{}_train_acc.csv\".format(model_path), train_acc)\n",
        "    np.savetxt(\"{}_train_loss.csv\".format(model_path), train_loss)\n",
        "    np.savetxt(\"{}_val_acc.csv\".format(model_path), val_acc)\n",
        "    np.savetxt(\"{}_val_loss.csv\".format(model_path), val_loss)"
      ],
      "execution_count": 0,
      "outputs": []
    },
    {
      "cell_type": "code",
      "metadata": {
        "id": "E2LLQ05lObdX",
        "colab_type": "code",
        "colab": {}
      },
      "source": [
        "# from lab 3b tutorial\n",
        "\n",
        "import matplotlib.pyplot as plt\n",
        "\n",
        "def get_accuracy_alexnet(model, loader):\n",
        "\n",
        "    correct = 0\n",
        "    total = 0\n",
        "    for imgs, labels in loader:\n",
        "        \n",
        "        imgs = torch.from_numpy(imgs.detach().numpy())\n",
        "        \n",
        "        output = model(imgs)\n",
        "        \n",
        "        #select index with maximum prediction score\n",
        "        pred = output.max(1, keepdim=True)[1]\n",
        "        correct += pred.eq(labels.view_as(pred)).sum().item()\n",
        "        total += imgs.shape[0]\n",
        "    return correct / total\n",
        "\n",
        "def train(model, train_data, val_data, batch_size=20, num_epochs=1, learning_rate = 0.01):\n",
        "    train_loader = torch.utils.data.DataLoader(train_data, batch_size=batch_size)\n",
        "    val_loader = torch.utils.data.DataLoader(val_data, batch_size=batch_size)\n",
        "    criterion = nn.CrossEntropyLoss()\n",
        "    optimizer = optim.SGD(model.parameters(), lr=learning_rate, momentum=0.9)\n",
        "\n",
        "    iters, losses, train_acc, val_acc = [], [], [], []\n",
        "\n",
        "    # training\n",
        "    n = 0 # the number of iterations\n",
        "    for epoch in range(num_epochs):\n",
        "        for imgs, labels in iter(train_loader):\n",
        "            \n",
        "            print(n)\n",
        "            imgs = torch.from_numpy(imgs.detach().numpy())\n",
        "              \n",
        "            out = model(imgs)             # forward pass\n",
        "            #prob = F.softmax(out)\n",
        "            loss = criterion(out, labels) # compute the total loss\n",
        "            loss.backward()               # backward pass (compute parameter updates)\n",
        "            optimizer.step()              # make the updates for each parameter\n",
        "            optimizer.zero_grad()         # a clean up step for PyTorch\n",
        "\n",
        "            # save the current training information\n",
        "            iters.append(n)\n",
        "            losses.append(float(loss)/batch_size)             # compute *average* loss\n",
        "            train_acc.append(get_accuracy_alexnet(model, train_loader)) # compute training accuracy \n",
        "            val_acc.append(get_accuracy_alexnet(model, val_loader))  # compute validation accuracy\n",
        "            n += 1\n",
        "\n",
        "    # plotting\n",
        "    plt.title(\"Training Curve\")\n",
        "    plt.plot(iters, losses, label=\"Train\")\n",
        "    plt.xlabel(\"Iterations\")\n",
        "    plt.ylabel(\"Loss\")\n",
        "    plt.show()\n",
        "\n",
        "    plt.title(\"Training Curve\")\n",
        "    plt.plot(iters, train_acc, label=\"Train\")\n",
        "    plt.plot(iters, val_acc, label=\"Validation\")\n",
        "    plt.xlabel(\"Iterations\")\n",
        "    plt.ylabel(\"Training Accuracy\")\n",
        "    plt.legend(loc='best')\n",
        "    plt.show()\n",
        "    \n",
        "    print(\"Final Training Accuracy: {}\".format(train_acc[-1]))\n",
        "    print(\"Final Validation Accuracy: {}\".format(val_acc[-1]))\n",
        "\n",
        "#Artifical Neural Network Architecture\n",
        "class ANNClassifier2(nn.Module):\n",
        "    def __init__(self):\n",
        "        super(ANNClassifier2, self).__init__()\n",
        "        self.fc1 = nn.Linear(512*7*7, 300)\n",
        "        self.fc2 = nn.Linear(300, 7)\n",
        "\n",
        "    def forward(self, x):\n",
        "        x = x.view(-1, 512*7*7) #flatten feature data\n",
        "        x = F.relu(self.fc1(x))\n",
        "        x = F.softmax(self.fc2(x))\n",
        "        return x"
      ],
      "execution_count": 0,
      "outputs": []
    },
    {
      "cell_type": "code",
      "metadata": {
        "id": "HiAM8AkZiu4s",
        "colab_type": "code",
        "outputId": "9c4aca21-a501-4a35-922e-811145930fdc",
        "colab": {
          "base_uri": "https://localhost:8080/",
          "height": 519
        }
      },
      "source": [
        "data_dir='/content/drive/My Drive/Colab Notebooks/Faces/alexnet/'\n",
        "\n",
        "model = ANNClassifier_Alexnet()\n",
        "train_net(model, batch_size=128, learning_rate=0.01, num_epochs=100,\n",
        "    data_dir='/content/drive/My Drive/Colab Notebooks/Faces/alexnet')"
      ],
      "execution_count": 31,
      "outputs": [
        {
          "output_type": "stream",
          "text": [
            "Drive already mounted at /content/drive; to attempt to forcibly remount, call drive.mount(\"/content/drive\", force_remount=True).\n"
          ],
          "name": "stdout"
        },
        {
          "output_type": "stream",
          "text": [
            "/usr/local/lib/python3.6/dist-packages/ipykernel_launcher.py:175: UserWarning: Implicit dimension choice for softmax has been deprecated. Change the call to include dim=X as an argument.\n",
            "/usr/local/lib/python3.6/dist-packages/ipykernel_launcher.py:55: UserWarning: Implicit dimension choice for softmax has been deprecated. Change the call to include dim=X as an argument.\n",
            "/usr/local/lib/python3.6/dist-packages/ipykernel_launcher.py:85: UserWarning: Implicit dimension choice for softmax has been deprecated. Change the call to include dim=X as an argument.\n"
          ],
          "name": "stderr"
        },
        {
          "output_type": "stream",
          "text": [
            "Epoch 1: Train acc: 0.14285714285714285, Train loss: 2.095678630628084 |Validation acc: 0.14285714285714285, Validation loss: 2.038189615522112\n",
            "Epoch 2: Train acc: 0.14285714285714285, Train loss: 2.0247969376413444 |Validation acc: 0.14285714285714285, Validation loss: 2.038189615522112\n",
            "Epoch 3: Train acc: 0.14285714285714285, Train loss: 2.0247969376413444 |Validation acc: 0.14285714285714285, Validation loss: 2.038189615522112\n",
            "Epoch 4: Train acc: 0.14285714285714285, Train loss: 2.0247969376413444 |Validation acc: 0.14285714285714285, Validation loss: 2.038189615522112\n",
            "Epoch 5: Train acc: 0.14285714285714285, Train loss: 2.0247969376413444 |Validation acc: 0.14285714285714285, Validation loss: 2.038189615522112\n"
          ],
          "name": "stdout"
        },
        {
          "output_type": "error",
          "ename": "KeyboardInterrupt",
          "evalue": "ignored",
          "traceback": [
            "\u001b[0;31m---------------------------------------------------------------------------\u001b[0m",
            "\u001b[0;31mKeyboardInterrupt\u001b[0m                         Traceback (most recent call last)",
            "\u001b[0;32m<ipython-input-31-fe67842a7941>\u001b[0m in \u001b[0;36m<module>\u001b[0;34m()\u001b[0m\n\u001b[1;32m      3\u001b[0m \u001b[0mmodel\u001b[0m \u001b[0;34m=\u001b[0m \u001b[0mANNClassifier_Alexnet\u001b[0m\u001b[0;34m(\u001b[0m\u001b[0;34m)\u001b[0m\u001b[0;34m\u001b[0m\u001b[0;34m\u001b[0m\u001b[0m\n\u001b[1;32m      4\u001b[0m train_net(model, batch_size=128, learning_rate=0.01, num_epochs=100,\n\u001b[0;32m----> 5\u001b[0;31m     data_dir='/content/drive/My Drive/Colab Notebooks/Faces/alexnet')\n\u001b[0m",
            "\u001b[0;32m<ipython-input-29-18c491a5c8b3>\u001b[0m in \u001b[0;36mtrain_net\u001b[0;34m(net, batch_size, learning_rate, num_epochs, data_dir)\u001b[0m\n\u001b[1;32m    182\u001b[0m         \u001b[0mtrain_acc\u001b[0m\u001b[0;34m[\u001b[0m\u001b[0mepoch\u001b[0m\u001b[0;34m]\u001b[0m \u001b[0;34m=\u001b[0m \u001b[0mget_accuracy\u001b[0m\u001b[0;34m(\u001b[0m\u001b[0mnet\u001b[0m\u001b[0;34m,\u001b[0m \u001b[0mtrain_loader\u001b[0m\u001b[0;34m)\u001b[0m\u001b[0;34m\u001b[0m\u001b[0;34m\u001b[0m\u001b[0m\n\u001b[1;32m    183\u001b[0m         \u001b[0mtrain_loss\u001b[0m\u001b[0;34m[\u001b[0m\u001b[0mepoch\u001b[0m\u001b[0;34m]\u001b[0m \u001b[0;34m=\u001b[0m \u001b[0mfloat\u001b[0m\u001b[0;34m(\u001b[0m\u001b[0mtotal_train_loss\u001b[0m\u001b[0;34m)\u001b[0m \u001b[0;34m/\u001b[0m \u001b[0;34m(\u001b[0m\u001b[0mi\u001b[0m\u001b[0;34m+\u001b[0m\u001b[0;36m1\u001b[0m\u001b[0;34m)\u001b[0m\u001b[0;34m\u001b[0m\u001b[0;34m\u001b[0m\u001b[0m\n\u001b[0;32m--> 184\u001b[0;31m         \u001b[0mval_acc\u001b[0m\u001b[0;34m[\u001b[0m\u001b[0mepoch\u001b[0m\u001b[0;34m]\u001b[0m\u001b[0;34m,\u001b[0m \u001b[0mval_loss\u001b[0m\u001b[0;34m[\u001b[0m\u001b[0mepoch\u001b[0m\u001b[0;34m]\u001b[0m \u001b[0;34m=\u001b[0m \u001b[0mevaluate\u001b[0m\u001b[0;34m(\u001b[0m\u001b[0mnet\u001b[0m\u001b[0;34m,\u001b[0m \u001b[0mval_loader\u001b[0m\u001b[0;34m,\u001b[0m \u001b[0mcriterion\u001b[0m\u001b[0;34m)\u001b[0m\u001b[0;34m\u001b[0m\u001b[0;34m\u001b[0m\u001b[0m\n\u001b[0m\u001b[1;32m    185\u001b[0m \u001b[0;34m\u001b[0m\u001b[0m\n\u001b[1;32m    186\u001b[0m         print((\"Epoch {}: Train acc: {}, Train loss: {} |\"+\n",
            "\u001b[0;32m<ipython-input-29-18c491a5c8b3>\u001b[0m in \u001b[0;36mevaluate\u001b[0;34m(net, loader, criterion)\u001b[0m\n\u001b[1;32m     77\u001b[0m     \u001b[0mcorrect\u001b[0m \u001b[0;34m=\u001b[0m \u001b[0;36m0\u001b[0m\u001b[0;34m\u001b[0m\u001b[0;34m\u001b[0m\u001b[0m\n\u001b[1;32m     78\u001b[0m     \u001b[0mtotal\u001b[0m \u001b[0;34m=\u001b[0m \u001b[0;36m0\u001b[0m\u001b[0;34m\u001b[0m\u001b[0;34m\u001b[0m\u001b[0m\n\u001b[0;32m---> 79\u001b[0;31m     \u001b[0;32mfor\u001b[0m \u001b[0mi\u001b[0m\u001b[0;34m,\u001b[0m \u001b[0mdata\u001b[0m \u001b[0;32min\u001b[0m \u001b[0menumerate\u001b[0m\u001b[0;34m(\u001b[0m\u001b[0mloader\u001b[0m\u001b[0;34m,\u001b[0m \u001b[0;36m0\u001b[0m\u001b[0;34m)\u001b[0m\u001b[0;34m:\u001b[0m\u001b[0;34m\u001b[0m\u001b[0;34m\u001b[0m\u001b[0m\n\u001b[0m\u001b[1;32m     80\u001b[0m         \u001b[0mimgs\u001b[0m\u001b[0;34m,\u001b[0m \u001b[0mlabels\u001b[0m \u001b[0;34m=\u001b[0m \u001b[0mdata\u001b[0m\u001b[0;34m\u001b[0m\u001b[0;34m\u001b[0m\u001b[0m\n\u001b[1;32m     81\u001b[0m \u001b[0;34m\u001b[0m\u001b[0m\n",
            "\u001b[0;32m/usr/local/lib/python3.6/dist-packages/torch/utils/data/dataloader.py\u001b[0m in \u001b[0;36m__next__\u001b[0;34m(self)\u001b[0m\n\u001b[1;32m    344\u001b[0m     \u001b[0;32mdef\u001b[0m \u001b[0m__next__\u001b[0m\u001b[0;34m(\u001b[0m\u001b[0mself\u001b[0m\u001b[0;34m)\u001b[0m\u001b[0;34m:\u001b[0m\u001b[0;34m\u001b[0m\u001b[0;34m\u001b[0m\u001b[0m\n\u001b[1;32m    345\u001b[0m         \u001b[0mindex\u001b[0m \u001b[0;34m=\u001b[0m \u001b[0mself\u001b[0m\u001b[0;34m.\u001b[0m\u001b[0m_next_index\u001b[0m\u001b[0;34m(\u001b[0m\u001b[0;34m)\u001b[0m  \u001b[0;31m# may raise StopIteration\u001b[0m\u001b[0;34m\u001b[0m\u001b[0;34m\u001b[0m\u001b[0m\n\u001b[0;32m--> 346\u001b[0;31m         \u001b[0mdata\u001b[0m \u001b[0;34m=\u001b[0m \u001b[0mself\u001b[0m\u001b[0;34m.\u001b[0m\u001b[0m_dataset_fetcher\u001b[0m\u001b[0;34m.\u001b[0m\u001b[0mfetch\u001b[0m\u001b[0;34m(\u001b[0m\u001b[0mindex\u001b[0m\u001b[0;34m)\u001b[0m  \u001b[0;31m# may raise StopIteration\u001b[0m\u001b[0;34m\u001b[0m\u001b[0;34m\u001b[0m\u001b[0m\n\u001b[0m\u001b[1;32m    347\u001b[0m         \u001b[0;32mif\u001b[0m \u001b[0mself\u001b[0m\u001b[0;34m.\u001b[0m\u001b[0m_pin_memory\u001b[0m\u001b[0;34m:\u001b[0m\u001b[0;34m\u001b[0m\u001b[0;34m\u001b[0m\u001b[0m\n\u001b[1;32m    348\u001b[0m             \u001b[0mdata\u001b[0m \u001b[0;34m=\u001b[0m \u001b[0m_utils\u001b[0m\u001b[0;34m.\u001b[0m\u001b[0mpin_memory\u001b[0m\u001b[0;34m.\u001b[0m\u001b[0mpin_memory\u001b[0m\u001b[0;34m(\u001b[0m\u001b[0mdata\u001b[0m\u001b[0;34m)\u001b[0m\u001b[0;34m\u001b[0m\u001b[0;34m\u001b[0m\u001b[0m\n",
            "\u001b[0;32m/usr/local/lib/python3.6/dist-packages/torch/utils/data/_utils/fetch.py\u001b[0m in \u001b[0;36mfetch\u001b[0;34m(self, possibly_batched_index)\u001b[0m\n\u001b[1;32m     42\u001b[0m     \u001b[0;32mdef\u001b[0m \u001b[0mfetch\u001b[0m\u001b[0;34m(\u001b[0m\u001b[0mself\u001b[0m\u001b[0;34m,\u001b[0m \u001b[0mpossibly_batched_index\u001b[0m\u001b[0;34m)\u001b[0m\u001b[0;34m:\u001b[0m\u001b[0;34m\u001b[0m\u001b[0;34m\u001b[0m\u001b[0m\n\u001b[1;32m     43\u001b[0m         \u001b[0;32mif\u001b[0m \u001b[0mself\u001b[0m\u001b[0;34m.\u001b[0m\u001b[0mauto_collation\u001b[0m\u001b[0;34m:\u001b[0m\u001b[0;34m\u001b[0m\u001b[0;34m\u001b[0m\u001b[0m\n\u001b[0;32m---> 44\u001b[0;31m             \u001b[0mdata\u001b[0m \u001b[0;34m=\u001b[0m \u001b[0;34m[\u001b[0m\u001b[0mself\u001b[0m\u001b[0;34m.\u001b[0m\u001b[0mdataset\u001b[0m\u001b[0;34m[\u001b[0m\u001b[0midx\u001b[0m\u001b[0;34m]\u001b[0m \u001b[0;32mfor\u001b[0m \u001b[0midx\u001b[0m \u001b[0;32min\u001b[0m \u001b[0mpossibly_batched_index\u001b[0m\u001b[0;34m]\u001b[0m\u001b[0;34m\u001b[0m\u001b[0;34m\u001b[0m\u001b[0m\n\u001b[0m\u001b[1;32m     45\u001b[0m         \u001b[0;32melse\u001b[0m\u001b[0;34m:\u001b[0m\u001b[0;34m\u001b[0m\u001b[0;34m\u001b[0m\u001b[0m\n\u001b[1;32m     46\u001b[0m             \u001b[0mdata\u001b[0m \u001b[0;34m=\u001b[0m \u001b[0mself\u001b[0m\u001b[0;34m.\u001b[0m\u001b[0mdataset\u001b[0m\u001b[0;34m[\u001b[0m\u001b[0mpossibly_batched_index\u001b[0m\u001b[0;34m]\u001b[0m\u001b[0;34m\u001b[0m\u001b[0;34m\u001b[0m\u001b[0m\n",
            "\u001b[0;32m/usr/local/lib/python3.6/dist-packages/torch/utils/data/_utils/fetch.py\u001b[0m in \u001b[0;36m<listcomp>\u001b[0;34m(.0)\u001b[0m\n\u001b[1;32m     42\u001b[0m     \u001b[0;32mdef\u001b[0m \u001b[0mfetch\u001b[0m\u001b[0;34m(\u001b[0m\u001b[0mself\u001b[0m\u001b[0;34m,\u001b[0m \u001b[0mpossibly_batched_index\u001b[0m\u001b[0;34m)\u001b[0m\u001b[0;34m:\u001b[0m\u001b[0;34m\u001b[0m\u001b[0;34m\u001b[0m\u001b[0m\n\u001b[1;32m     43\u001b[0m         \u001b[0;32mif\u001b[0m \u001b[0mself\u001b[0m\u001b[0;34m.\u001b[0m\u001b[0mauto_collation\u001b[0m\u001b[0;34m:\u001b[0m\u001b[0;34m\u001b[0m\u001b[0;34m\u001b[0m\u001b[0m\n\u001b[0;32m---> 44\u001b[0;31m             \u001b[0mdata\u001b[0m \u001b[0;34m=\u001b[0m \u001b[0;34m[\u001b[0m\u001b[0mself\u001b[0m\u001b[0;34m.\u001b[0m\u001b[0mdataset\u001b[0m\u001b[0;34m[\u001b[0m\u001b[0midx\u001b[0m\u001b[0;34m]\u001b[0m \u001b[0;32mfor\u001b[0m \u001b[0midx\u001b[0m \u001b[0;32min\u001b[0m \u001b[0mpossibly_batched_index\u001b[0m\u001b[0;34m]\u001b[0m\u001b[0;34m\u001b[0m\u001b[0;34m\u001b[0m\u001b[0m\n\u001b[0m\u001b[1;32m     45\u001b[0m         \u001b[0;32melse\u001b[0m\u001b[0;34m:\u001b[0m\u001b[0;34m\u001b[0m\u001b[0;34m\u001b[0m\u001b[0m\n\u001b[1;32m     46\u001b[0m             \u001b[0mdata\u001b[0m \u001b[0;34m=\u001b[0m \u001b[0mself\u001b[0m\u001b[0;34m.\u001b[0m\u001b[0mdataset\u001b[0m\u001b[0;34m[\u001b[0m\u001b[0mpossibly_batched_index\u001b[0m\u001b[0;34m]\u001b[0m\u001b[0;34m\u001b[0m\u001b[0;34m\u001b[0m\u001b[0m\n",
            "\u001b[0;32m/usr/local/lib/python3.6/dist-packages/torchvision/datasets/folder.py\u001b[0m in \u001b[0;36m__getitem__\u001b[0;34m(self, index)\u001b[0m\n\u001b[1;32m    136\u001b[0m         \"\"\"\n\u001b[1;32m    137\u001b[0m         \u001b[0mpath\u001b[0m\u001b[0;34m,\u001b[0m \u001b[0mtarget\u001b[0m \u001b[0;34m=\u001b[0m \u001b[0mself\u001b[0m\u001b[0;34m.\u001b[0m\u001b[0msamples\u001b[0m\u001b[0;34m[\u001b[0m\u001b[0mindex\u001b[0m\u001b[0;34m]\u001b[0m\u001b[0;34m\u001b[0m\u001b[0;34m\u001b[0m\u001b[0m\n\u001b[0;32m--> 138\u001b[0;31m         \u001b[0msample\u001b[0m \u001b[0;34m=\u001b[0m \u001b[0mself\u001b[0m\u001b[0;34m.\u001b[0m\u001b[0mloader\u001b[0m\u001b[0;34m(\u001b[0m\u001b[0mpath\u001b[0m\u001b[0;34m)\u001b[0m\u001b[0;34m\u001b[0m\u001b[0;34m\u001b[0m\u001b[0m\n\u001b[0m\u001b[1;32m    139\u001b[0m         \u001b[0;32mif\u001b[0m \u001b[0mself\u001b[0m\u001b[0;34m.\u001b[0m\u001b[0mtransform\u001b[0m \u001b[0;32mis\u001b[0m \u001b[0;32mnot\u001b[0m \u001b[0;32mNone\u001b[0m\u001b[0;34m:\u001b[0m\u001b[0;34m\u001b[0m\u001b[0;34m\u001b[0m\u001b[0m\n\u001b[1;32m    140\u001b[0m             \u001b[0msample\u001b[0m \u001b[0;34m=\u001b[0m \u001b[0mself\u001b[0m\u001b[0;34m.\u001b[0m\u001b[0mtransform\u001b[0m\u001b[0;34m(\u001b[0m\u001b[0msample\u001b[0m\u001b[0;34m)\u001b[0m\u001b[0;34m\u001b[0m\u001b[0;34m\u001b[0m\u001b[0m\n",
            "\u001b[0;32m<ipython-input-29-18c491a5c8b3>\u001b[0m in \u001b[0;36mload_feature\u001b[0;34m(loc)\u001b[0m\n\u001b[1;32m      1\u001b[0m \u001b[0;32mdef\u001b[0m \u001b[0mload_feature\u001b[0m\u001b[0;34m(\u001b[0m\u001b[0mloc\u001b[0m\u001b[0;34m)\u001b[0m\u001b[0;34m:\u001b[0m\u001b[0;34m\u001b[0m\u001b[0;34m\u001b[0m\u001b[0m\n\u001b[0;32m----> 2\u001b[0;31m     \u001b[0;32mreturn\u001b[0m \u001b[0mtorch\u001b[0m\u001b[0;34m.\u001b[0m\u001b[0mload\u001b[0m\u001b[0;34m(\u001b[0m\u001b[0mloc\u001b[0m\u001b[0;34m)\u001b[0m\u001b[0;34m\u001b[0m\u001b[0;34m\u001b[0m\u001b[0m\n\u001b[0m\u001b[1;32m      3\u001b[0m \u001b[0;34m\u001b[0m\u001b[0m\n\u001b[1;32m      4\u001b[0m \u001b[0;31m# Data Loading\u001b[0m\u001b[0;34m\u001b[0m\u001b[0;34m\u001b[0m\u001b[0;34m\u001b[0m\u001b[0m\n\u001b[1;32m      5\u001b[0m \u001b[0;32mdef\u001b[0m \u001b[0mget_data_loader\u001b[0m\u001b[0;34m(\u001b[0m\u001b[0mdata_dir\u001b[0m\u001b[0;34m,\u001b[0m \u001b[0mbatch_size\u001b[0m\u001b[0;34m)\u001b[0m\u001b[0;34m:\u001b[0m\u001b[0;34m\u001b[0m\u001b[0;34m\u001b[0m\u001b[0m\n",
            "\u001b[0;32m/usr/local/lib/python3.6/dist-packages/torch/serialization.py\u001b[0m in \u001b[0;36mload\u001b[0;34m(f, map_location, pickle_module, **pickle_load_args)\u001b[0m\n\u001b[1;32m    424\u001b[0m         \u001b[0;32mif\u001b[0m \u001b[0msys\u001b[0m\u001b[0;34m.\u001b[0m\u001b[0mversion_info\u001b[0m \u001b[0;34m>=\u001b[0m \u001b[0;34m(\u001b[0m\u001b[0;36m3\u001b[0m\u001b[0;34m,\u001b[0m \u001b[0;36m0\u001b[0m\u001b[0;34m)\u001b[0m \u001b[0;32mand\u001b[0m \u001b[0;34m'encoding'\u001b[0m \u001b[0;32mnot\u001b[0m \u001b[0;32min\u001b[0m \u001b[0mpickle_load_args\u001b[0m\u001b[0;34m.\u001b[0m\u001b[0mkeys\u001b[0m\u001b[0;34m(\u001b[0m\u001b[0;34m)\u001b[0m\u001b[0;34m:\u001b[0m\u001b[0;34m\u001b[0m\u001b[0;34m\u001b[0m\u001b[0m\n\u001b[1;32m    425\u001b[0m             \u001b[0mpickle_load_args\u001b[0m\u001b[0;34m[\u001b[0m\u001b[0;34m'encoding'\u001b[0m\u001b[0;34m]\u001b[0m \u001b[0;34m=\u001b[0m \u001b[0;34m'utf-8'\u001b[0m\u001b[0;34m\u001b[0m\u001b[0;34m\u001b[0m\u001b[0m\n\u001b[0;32m--> 426\u001b[0;31m         \u001b[0;32mreturn\u001b[0m \u001b[0m_load\u001b[0m\u001b[0;34m(\u001b[0m\u001b[0mf\u001b[0m\u001b[0;34m,\u001b[0m \u001b[0mmap_location\u001b[0m\u001b[0;34m,\u001b[0m \u001b[0mpickle_module\u001b[0m\u001b[0;34m,\u001b[0m \u001b[0;34m**\u001b[0m\u001b[0mpickle_load_args\u001b[0m\u001b[0;34m)\u001b[0m\u001b[0;34m\u001b[0m\u001b[0;34m\u001b[0m\u001b[0m\n\u001b[0m\u001b[1;32m    427\u001b[0m     \u001b[0;32mfinally\u001b[0m\u001b[0;34m:\u001b[0m\u001b[0;34m\u001b[0m\u001b[0;34m\u001b[0m\u001b[0m\n\u001b[1;32m    428\u001b[0m         \u001b[0;32mif\u001b[0m \u001b[0mnew_fd\u001b[0m\u001b[0;34m:\u001b[0m\u001b[0;34m\u001b[0m\u001b[0;34m\u001b[0m\u001b[0m\n",
            "\u001b[0;32m/usr/local/lib/python3.6/dist-packages/torch/serialization.py\u001b[0m in \u001b[0;36m_load\u001b[0;34m(f, map_location, pickle_module, **pickle_load_args)\u001b[0m\n\u001b[1;32m    593\u001b[0m         \u001b[0;31m# only if offset is zero we can attempt the legacy tar file loader\u001b[0m\u001b[0;34m\u001b[0m\u001b[0;34m\u001b[0m\u001b[0;34m\u001b[0m\u001b[0m\n\u001b[1;32m    594\u001b[0m         \u001b[0;32mtry\u001b[0m\u001b[0;34m:\u001b[0m\u001b[0;34m\u001b[0m\u001b[0;34m\u001b[0m\u001b[0m\n\u001b[0;32m--> 595\u001b[0;31m             \u001b[0;32mreturn\u001b[0m \u001b[0mlegacy_load\u001b[0m\u001b[0;34m(\u001b[0m\u001b[0mf\u001b[0m\u001b[0;34m)\u001b[0m\u001b[0;34m\u001b[0m\u001b[0;34m\u001b[0m\u001b[0m\n\u001b[0m\u001b[1;32m    596\u001b[0m         \u001b[0;32mexcept\u001b[0m \u001b[0mtarfile\u001b[0m\u001b[0;34m.\u001b[0m\u001b[0mTarError\u001b[0m\u001b[0;34m:\u001b[0m\u001b[0;34m\u001b[0m\u001b[0;34m\u001b[0m\u001b[0m\n\u001b[1;32m    597\u001b[0m             \u001b[0;32mif\u001b[0m \u001b[0m_is_zipfile\u001b[0m\u001b[0;34m(\u001b[0m\u001b[0mf\u001b[0m\u001b[0;34m)\u001b[0m\u001b[0;34m:\u001b[0m\u001b[0;34m\u001b[0m\u001b[0;34m\u001b[0m\u001b[0m\n",
            "\u001b[0;32m/usr/local/lib/python3.6/dist-packages/torch/serialization.py\u001b[0m in \u001b[0;36mlegacy_load\u001b[0;34m(f)\u001b[0m\n\u001b[1;32m    504\u001b[0m             \u001b[0;32mreturn\u001b[0m \u001b[0mdeserialized_objects\u001b[0m\u001b[0;34m[\u001b[0m\u001b[0mint\u001b[0m\u001b[0;34m(\u001b[0m\u001b[0msaved_id\u001b[0m\u001b[0;34m)\u001b[0m\u001b[0;34m]\u001b[0m\u001b[0;34m\u001b[0m\u001b[0;34m\u001b[0m\u001b[0m\n\u001b[1;32m    505\u001b[0m \u001b[0;34m\u001b[0m\u001b[0m\n\u001b[0;32m--> 506\u001b[0;31m         \u001b[0;32mwith\u001b[0m \u001b[0mclosing\u001b[0m\u001b[0;34m(\u001b[0m\u001b[0mtarfile\u001b[0m\u001b[0;34m.\u001b[0m\u001b[0mopen\u001b[0m\u001b[0;34m(\u001b[0m\u001b[0mfileobj\u001b[0m\u001b[0;34m=\u001b[0m\u001b[0mf\u001b[0m\u001b[0;34m,\u001b[0m \u001b[0mmode\u001b[0m\u001b[0;34m=\u001b[0m\u001b[0;34m'r:'\u001b[0m\u001b[0;34m,\u001b[0m \u001b[0mformat\u001b[0m\u001b[0;34m=\u001b[0m\u001b[0mtarfile\u001b[0m\u001b[0;34m.\u001b[0m\u001b[0mPAX_FORMAT\u001b[0m\u001b[0;34m)\u001b[0m\u001b[0;34m)\u001b[0m \u001b[0;32mas\u001b[0m \u001b[0mtar\u001b[0m\u001b[0;34m,\u001b[0m\u001b[0;31m \u001b[0m\u001b[0;31m\\\u001b[0m\u001b[0;34m\u001b[0m\u001b[0;34m\u001b[0m\u001b[0m\n\u001b[0m\u001b[1;32m    507\u001b[0m                 \u001b[0mmkdtemp\u001b[0m\u001b[0;34m(\u001b[0m\u001b[0;34m)\u001b[0m \u001b[0;32mas\u001b[0m \u001b[0mtmpdir\u001b[0m\u001b[0;34m:\u001b[0m\u001b[0;34m\u001b[0m\u001b[0;34m\u001b[0m\u001b[0m\n\u001b[1;32m    508\u001b[0m \u001b[0;34m\u001b[0m\u001b[0m\n",
            "\u001b[0;32m/usr/lib/python3.6/tarfile.py\u001b[0m in \u001b[0;36mopen\u001b[0;34m(cls, name, mode, fileobj, bufsize, **kwargs)\u001b[0m\n\u001b[1;32m   1587\u001b[0m             \u001b[0;32melse\u001b[0m\u001b[0;34m:\u001b[0m\u001b[0;34m\u001b[0m\u001b[0;34m\u001b[0m\u001b[0m\n\u001b[1;32m   1588\u001b[0m                 \u001b[0;32mraise\u001b[0m \u001b[0mCompressionError\u001b[0m\u001b[0;34m(\u001b[0m\u001b[0;34m\"unknown compression type %r\"\u001b[0m \u001b[0;34m%\u001b[0m \u001b[0mcomptype\u001b[0m\u001b[0;34m)\u001b[0m\u001b[0;34m\u001b[0m\u001b[0;34m\u001b[0m\u001b[0m\n\u001b[0;32m-> 1589\u001b[0;31m             \u001b[0;32mreturn\u001b[0m \u001b[0mfunc\u001b[0m\u001b[0;34m(\u001b[0m\u001b[0mname\u001b[0m\u001b[0;34m,\u001b[0m \u001b[0mfilemode\u001b[0m\u001b[0;34m,\u001b[0m \u001b[0mfileobj\u001b[0m\u001b[0;34m,\u001b[0m \u001b[0;34m**\u001b[0m\u001b[0mkwargs\u001b[0m\u001b[0;34m)\u001b[0m\u001b[0;34m\u001b[0m\u001b[0;34m\u001b[0m\u001b[0m\n\u001b[0m\u001b[1;32m   1590\u001b[0m \u001b[0;34m\u001b[0m\u001b[0m\n\u001b[1;32m   1591\u001b[0m         \u001b[0;32melif\u001b[0m \u001b[0;34m\"|\"\u001b[0m \u001b[0;32min\u001b[0m \u001b[0mmode\u001b[0m\u001b[0;34m:\u001b[0m\u001b[0;34m\u001b[0m\u001b[0;34m\u001b[0m\u001b[0m\n",
            "\u001b[0;32m/usr/lib/python3.6/tarfile.py\u001b[0m in \u001b[0;36mtaropen\u001b[0;34m(cls, name, mode, fileobj, **kwargs)\u001b[0m\n\u001b[1;32m   1617\u001b[0m         \u001b[0;32mif\u001b[0m \u001b[0mmode\u001b[0m \u001b[0;32mnot\u001b[0m \u001b[0;32min\u001b[0m \u001b[0;34m(\u001b[0m\u001b[0;34m\"r\"\u001b[0m\u001b[0;34m,\u001b[0m \u001b[0;34m\"a\"\u001b[0m\u001b[0;34m,\u001b[0m \u001b[0;34m\"w\"\u001b[0m\u001b[0;34m,\u001b[0m \u001b[0;34m\"x\"\u001b[0m\u001b[0;34m)\u001b[0m\u001b[0;34m:\u001b[0m\u001b[0;34m\u001b[0m\u001b[0;34m\u001b[0m\u001b[0m\n\u001b[1;32m   1618\u001b[0m             \u001b[0;32mraise\u001b[0m \u001b[0mValueError\u001b[0m\u001b[0;34m(\u001b[0m\u001b[0;34m\"mode must be 'r', 'a', 'w' or 'x'\"\u001b[0m\u001b[0;34m)\u001b[0m\u001b[0;34m\u001b[0m\u001b[0;34m\u001b[0m\u001b[0m\n\u001b[0;32m-> 1619\u001b[0;31m         \u001b[0;32mreturn\u001b[0m \u001b[0mcls\u001b[0m\u001b[0;34m(\u001b[0m\u001b[0mname\u001b[0m\u001b[0;34m,\u001b[0m \u001b[0mmode\u001b[0m\u001b[0;34m,\u001b[0m \u001b[0mfileobj\u001b[0m\u001b[0;34m,\u001b[0m \u001b[0;34m**\u001b[0m\u001b[0mkwargs\u001b[0m\u001b[0;34m)\u001b[0m\u001b[0;34m\u001b[0m\u001b[0;34m\u001b[0m\u001b[0m\n\u001b[0m\u001b[1;32m   1620\u001b[0m \u001b[0;34m\u001b[0m\u001b[0m\n\u001b[1;32m   1621\u001b[0m     \u001b[0;34m@\u001b[0m\u001b[0mclassmethod\u001b[0m\u001b[0;34m\u001b[0m\u001b[0;34m\u001b[0m\u001b[0m\n",
            "\u001b[0;32m/usr/lib/python3.6/tarfile.py\u001b[0m in \u001b[0;36m__init__\u001b[0;34m(self, name, mode, fileobj, format, tarinfo, dereference, ignore_zeros, encoding, errors, pax_headers, debug, errorlevel, copybufsize)\u001b[0m\n\u001b[1;32m   1480\u001b[0m             \u001b[0;32mif\u001b[0m \u001b[0mself\u001b[0m\u001b[0;34m.\u001b[0m\u001b[0mmode\u001b[0m \u001b[0;34m==\u001b[0m \u001b[0;34m\"r\"\u001b[0m\u001b[0;34m:\u001b[0m\u001b[0;34m\u001b[0m\u001b[0;34m\u001b[0m\u001b[0m\n\u001b[1;32m   1481\u001b[0m                 \u001b[0mself\u001b[0m\u001b[0;34m.\u001b[0m\u001b[0mfirstmember\u001b[0m \u001b[0;34m=\u001b[0m \u001b[0;32mNone\u001b[0m\u001b[0;34m\u001b[0m\u001b[0;34m\u001b[0m\u001b[0m\n\u001b[0;32m-> 1482\u001b[0;31m                 \u001b[0mself\u001b[0m\u001b[0;34m.\u001b[0m\u001b[0mfirstmember\u001b[0m \u001b[0;34m=\u001b[0m \u001b[0mself\u001b[0m\u001b[0;34m.\u001b[0m\u001b[0mnext\u001b[0m\u001b[0;34m(\u001b[0m\u001b[0;34m)\u001b[0m\u001b[0;34m\u001b[0m\u001b[0;34m\u001b[0m\u001b[0m\n\u001b[0m\u001b[1;32m   1483\u001b[0m \u001b[0;34m\u001b[0m\u001b[0m\n\u001b[1;32m   1484\u001b[0m             \u001b[0;32mif\u001b[0m \u001b[0mself\u001b[0m\u001b[0;34m.\u001b[0m\u001b[0mmode\u001b[0m \u001b[0;34m==\u001b[0m \u001b[0;34m\"a\"\u001b[0m\u001b[0;34m:\u001b[0m\u001b[0;34m\u001b[0m\u001b[0;34m\u001b[0m\u001b[0m\n",
            "\u001b[0;32m/usr/lib/python3.6/tarfile.py\u001b[0m in \u001b[0;36mnext\u001b[0;34m(self)\u001b[0m\n\u001b[1;32m   2295\u001b[0m         \u001b[0;32mwhile\u001b[0m \u001b[0;32mTrue\u001b[0m\u001b[0;34m:\u001b[0m\u001b[0;34m\u001b[0m\u001b[0;34m\u001b[0m\u001b[0m\n\u001b[1;32m   2296\u001b[0m             \u001b[0;32mtry\u001b[0m\u001b[0;34m:\u001b[0m\u001b[0;34m\u001b[0m\u001b[0;34m\u001b[0m\u001b[0m\n\u001b[0;32m-> 2297\u001b[0;31m                 \u001b[0mtarinfo\u001b[0m \u001b[0;34m=\u001b[0m \u001b[0mself\u001b[0m\u001b[0;34m.\u001b[0m\u001b[0mtarinfo\u001b[0m\u001b[0;34m.\u001b[0m\u001b[0mfromtarfile\u001b[0m\u001b[0;34m(\u001b[0m\u001b[0mself\u001b[0m\u001b[0;34m)\u001b[0m\u001b[0;34m\u001b[0m\u001b[0;34m\u001b[0m\u001b[0m\n\u001b[0m\u001b[1;32m   2298\u001b[0m             \u001b[0;32mexcept\u001b[0m \u001b[0mEOFHeaderError\u001b[0m \u001b[0;32mas\u001b[0m \u001b[0me\u001b[0m\u001b[0;34m:\u001b[0m\u001b[0;34m\u001b[0m\u001b[0;34m\u001b[0m\u001b[0m\n\u001b[1;32m   2299\u001b[0m                 \u001b[0;32mif\u001b[0m \u001b[0mself\u001b[0m\u001b[0;34m.\u001b[0m\u001b[0mignore_zeros\u001b[0m\u001b[0;34m:\u001b[0m\u001b[0;34m\u001b[0m\u001b[0;34m\u001b[0m\u001b[0m\n",
            "\u001b[0;32m/usr/lib/python3.6/tarfile.py\u001b[0m in \u001b[0;36mfromtarfile\u001b[0;34m(cls, tarfile)\u001b[0m\n\u001b[1;32m   1090\u001b[0m            \u001b[0mtarfile\u001b[0m\u001b[0;34m.\u001b[0m\u001b[0;34m\u001b[0m\u001b[0;34m\u001b[0m\u001b[0m\n\u001b[1;32m   1091\u001b[0m         \"\"\"\n\u001b[0;32m-> 1092\u001b[0;31m         \u001b[0mbuf\u001b[0m \u001b[0;34m=\u001b[0m \u001b[0mtarfile\u001b[0m\u001b[0;34m.\u001b[0m\u001b[0mfileobj\u001b[0m\u001b[0;34m.\u001b[0m\u001b[0mread\u001b[0m\u001b[0;34m(\u001b[0m\u001b[0mBLOCKSIZE\u001b[0m\u001b[0;34m)\u001b[0m\u001b[0;34m\u001b[0m\u001b[0;34m\u001b[0m\u001b[0m\n\u001b[0m\u001b[1;32m   1093\u001b[0m         \u001b[0mobj\u001b[0m \u001b[0;34m=\u001b[0m \u001b[0mcls\u001b[0m\u001b[0;34m.\u001b[0m\u001b[0mfrombuf\u001b[0m\u001b[0;34m(\u001b[0m\u001b[0mbuf\u001b[0m\u001b[0;34m,\u001b[0m \u001b[0mtarfile\u001b[0m\u001b[0;34m.\u001b[0m\u001b[0mencoding\u001b[0m\u001b[0;34m,\u001b[0m \u001b[0mtarfile\u001b[0m\u001b[0;34m.\u001b[0m\u001b[0merrors\u001b[0m\u001b[0;34m)\u001b[0m\u001b[0;34m\u001b[0m\u001b[0;34m\u001b[0m\u001b[0m\n\u001b[1;32m   1094\u001b[0m         \u001b[0mobj\u001b[0m\u001b[0;34m.\u001b[0m\u001b[0moffset\u001b[0m \u001b[0;34m=\u001b[0m \u001b[0mtarfile\u001b[0m\u001b[0;34m.\u001b[0m\u001b[0mfileobj\u001b[0m\u001b[0;34m.\u001b[0m\u001b[0mtell\u001b[0m\u001b[0;34m(\u001b[0m\u001b[0;34m)\u001b[0m \u001b[0;34m-\u001b[0m \u001b[0mBLOCKSIZE\u001b[0m\u001b[0;34m\u001b[0m\u001b[0;34m\u001b[0m\u001b[0m\n",
            "\u001b[0;31mKeyboardInterrupt\u001b[0m: "
          ]
        }
      ]
    },
    {
      "cell_type": "code",
      "metadata": {
        "id": "FpLrYAzJka-W",
        "colab_type": "code",
        "outputId": "ee62d2dc-acea-48bf-c8c9-cbe75c5be2f6",
        "colab": {
          "base_uri": "https://localhost:8080/",
          "height": 553
        }
      },
      "source": [
        "model = ANNClassifier_VGG16()\n",
        "train_net(model, batch_size=128, learning_rate=0.01, num_epochs=100,\n",
        "    data_dir='/content/drive/My Drive/Colab Notebooks/Faces/vgg16')"
      ],
      "execution_count": 37,
      "outputs": [
        {
          "output_type": "stream",
          "text": [
            "Drive already mounted at /content/drive; to attempt to forcibly remount, call drive.mount(\"/content/drive\", force_remount=True).\n"
          ],
          "name": "stdout"
        },
        {
          "output_type": "stream",
          "text": [
            "/usr/local/lib/python3.6/dist-packages/ipykernel_launcher.py:175: UserWarning: Implicit dimension choice for softmax has been deprecated. Change the call to include dim=X as an argument.\n",
            "/usr/local/lib/python3.6/dist-packages/ipykernel_launcher.py:55: UserWarning: Implicit dimension choice for softmax has been deprecated. Change the call to include dim=X as an argument.\n",
            "/usr/local/lib/python3.6/dist-packages/ipykernel_launcher.py:85: UserWarning: Implicit dimension choice for softmax has been deprecated. Change the call to include dim=X as an argument.\n"
          ],
          "name": "stderr"
        },
        {
          "output_type": "stream",
          "text": [
            "Epoch 1: Train acc: 0.14285714285714285, Train loss: 2.1092952929045024 |Validation acc: 0.14285714285714285, Validation loss: 2.0381506511143277\n",
            "Epoch 2: Train acc: 0.14285714285714285, Train loss: 2.0247834858141447 |Validation acc: 0.14285714285714285, Validation loss: 2.038170950753348\n",
            "Epoch 3: Train acc: 0.14285714285714285, Train loss: 2.02478689896433 |Validation acc: 0.14285714285714285, Validation loss: 2.0381719044276645\n",
            "Epoch 4: Train acc: 0.14285714285714285, Train loss: 2.0247873005114103 |Validation acc: 0.14285714285714285, Validation loss: 2.0381716319492886\n",
            "Epoch 5: Train acc: 0.14285714285714285, Train loss: 2.02478689896433 |Validation acc: 0.14285714285714285, Validation loss: 2.0381712232317244\n",
            "Epoch 6: Train acc: 0.14285714285714285, Train loss: 2.0247866981907894 |Validation acc: 0.14285714285714285, Validation loss: 2.03817081451416\n",
            "Epoch 7: Train acc: 0.14285714285714285, Train loss: 2.0247864974172494 |Validation acc: 0.14285714285714285, Validation loss: 2.03817013331822\n"
          ],
          "name": "stdout"
        },
        {
          "output_type": "error",
          "ename": "KeyboardInterrupt",
          "evalue": "ignored",
          "traceback": [
            "\u001b[0;31m---------------------------------------------------------------------------\u001b[0m",
            "\u001b[0;31mKeyboardInterrupt\u001b[0m                         Traceback (most recent call last)",
            "\u001b[0;32m<ipython-input-37-6051dfbdc9e8>\u001b[0m in \u001b[0;36m<module>\u001b[0;34m()\u001b[0m\n\u001b[1;32m      1\u001b[0m \u001b[0mmodel\u001b[0m \u001b[0;34m=\u001b[0m \u001b[0mANNClassifier_VGG16\u001b[0m\u001b[0;34m(\u001b[0m\u001b[0;34m)\u001b[0m\u001b[0;34m\u001b[0m\u001b[0;34m\u001b[0m\u001b[0m\n\u001b[1;32m      2\u001b[0m train_net(model, batch_size=128, learning_rate=0.01, num_epochs=100,\n\u001b[0;32m----> 3\u001b[0;31m     data_dir='/content/drive/My Drive/Colab Notebooks/Faces/vgg16')\n\u001b[0m",
            "\u001b[0;32m<ipython-input-29-18c491a5c8b3>\u001b[0m in \u001b[0;36mtrain_net\u001b[0;34m(net, batch_size, learning_rate, num_epochs, data_dir)\u001b[0m\n\u001b[1;32m    180\u001b[0m             \u001b[0mtotal_train_loss\u001b[0m \u001b[0;34m+=\u001b[0m \u001b[0mloss\u001b[0m\u001b[0;34m\u001b[0m\u001b[0;34m\u001b[0m\u001b[0m\n\u001b[1;32m    181\u001b[0m             \u001b[0mtotal_epoch\u001b[0m \u001b[0;34m+=\u001b[0m \u001b[0mlen\u001b[0m\u001b[0;34m(\u001b[0m\u001b[0mlabels\u001b[0m\u001b[0;34m)\u001b[0m\u001b[0;34m\u001b[0m\u001b[0;34m\u001b[0m\u001b[0m\n\u001b[0;32m--> 182\u001b[0;31m         \u001b[0mtrain_acc\u001b[0m\u001b[0;34m[\u001b[0m\u001b[0mepoch\u001b[0m\u001b[0;34m]\u001b[0m \u001b[0;34m=\u001b[0m \u001b[0mget_accuracy\u001b[0m\u001b[0;34m(\u001b[0m\u001b[0mnet\u001b[0m\u001b[0;34m,\u001b[0m \u001b[0mtrain_loader\u001b[0m\u001b[0;34m)\u001b[0m\u001b[0;34m\u001b[0m\u001b[0;34m\u001b[0m\u001b[0m\n\u001b[0m\u001b[1;32m    183\u001b[0m         \u001b[0mtrain_loss\u001b[0m\u001b[0;34m[\u001b[0m\u001b[0mepoch\u001b[0m\u001b[0;34m]\u001b[0m \u001b[0;34m=\u001b[0m \u001b[0mfloat\u001b[0m\u001b[0;34m(\u001b[0m\u001b[0mtotal_train_loss\u001b[0m\u001b[0;34m)\u001b[0m \u001b[0;34m/\u001b[0m \u001b[0;34m(\u001b[0m\u001b[0mi\u001b[0m\u001b[0;34m+\u001b[0m\u001b[0;36m1\u001b[0m\u001b[0;34m)\u001b[0m\u001b[0;34m\u001b[0m\u001b[0;34m\u001b[0m\u001b[0m\n\u001b[1;32m    184\u001b[0m         \u001b[0mval_acc\u001b[0m\u001b[0;34m[\u001b[0m\u001b[0mepoch\u001b[0m\u001b[0;34m]\u001b[0m\u001b[0;34m,\u001b[0m \u001b[0mval_loss\u001b[0m\u001b[0;34m[\u001b[0m\u001b[0mepoch\u001b[0m\u001b[0;34m]\u001b[0m \u001b[0;34m=\u001b[0m \u001b[0mevaluate\u001b[0m\u001b[0;34m(\u001b[0m\u001b[0mnet\u001b[0m\u001b[0;34m,\u001b[0m \u001b[0mval_loader\u001b[0m\u001b[0;34m,\u001b[0m \u001b[0mcriterion\u001b[0m\u001b[0;34m)\u001b[0m\u001b[0;34m\u001b[0m\u001b[0;34m\u001b[0m\u001b[0m\n",
            "\u001b[0;32m<ipython-input-29-18c491a5c8b3>\u001b[0m in \u001b[0;36mget_accuracy\u001b[0;34m(model, loader)\u001b[0m\n\u001b[1;32m     48\u001b[0m     \u001b[0mcorrect\u001b[0m \u001b[0;34m=\u001b[0m \u001b[0;36m0\u001b[0m\u001b[0;34m\u001b[0m\u001b[0;34m\u001b[0m\u001b[0m\n\u001b[1;32m     49\u001b[0m     \u001b[0mtotal\u001b[0m \u001b[0;34m=\u001b[0m \u001b[0;36m0\u001b[0m\u001b[0;34m\u001b[0m\u001b[0;34m\u001b[0m\u001b[0m\n\u001b[0;32m---> 50\u001b[0;31m     \u001b[0;32mfor\u001b[0m \u001b[0mimgs\u001b[0m\u001b[0;34m,\u001b[0m \u001b[0mlabels\u001b[0m \u001b[0;32min\u001b[0m \u001b[0mloader\u001b[0m\u001b[0;34m:\u001b[0m\u001b[0;34m\u001b[0m\u001b[0;34m\u001b[0m\u001b[0m\n\u001b[0m\u001b[1;32m     51\u001b[0m \u001b[0;34m\u001b[0m\u001b[0m\n\u001b[1;32m     52\u001b[0m         \u001b[0mimgs\u001b[0m \u001b[0;34m=\u001b[0m \u001b[0mtorch\u001b[0m\u001b[0;34m.\u001b[0m\u001b[0mfrom_numpy\u001b[0m\u001b[0;34m(\u001b[0m\u001b[0mimgs\u001b[0m\u001b[0;34m.\u001b[0m\u001b[0mdetach\u001b[0m\u001b[0;34m(\u001b[0m\u001b[0;34m)\u001b[0m\u001b[0;34m.\u001b[0m\u001b[0mnumpy\u001b[0m\u001b[0;34m(\u001b[0m\u001b[0;34m)\u001b[0m\u001b[0;34m)\u001b[0m\u001b[0;34m\u001b[0m\u001b[0;34m\u001b[0m\u001b[0m\n",
            "\u001b[0;32m/usr/local/lib/python3.6/dist-packages/torch/utils/data/dataloader.py\u001b[0m in \u001b[0;36m__next__\u001b[0;34m(self)\u001b[0m\n\u001b[1;32m    344\u001b[0m     \u001b[0;32mdef\u001b[0m \u001b[0m__next__\u001b[0m\u001b[0;34m(\u001b[0m\u001b[0mself\u001b[0m\u001b[0;34m)\u001b[0m\u001b[0;34m:\u001b[0m\u001b[0;34m\u001b[0m\u001b[0;34m\u001b[0m\u001b[0m\n\u001b[1;32m    345\u001b[0m         \u001b[0mindex\u001b[0m \u001b[0;34m=\u001b[0m \u001b[0mself\u001b[0m\u001b[0;34m.\u001b[0m\u001b[0m_next_index\u001b[0m\u001b[0;34m(\u001b[0m\u001b[0;34m)\u001b[0m  \u001b[0;31m# may raise StopIteration\u001b[0m\u001b[0;34m\u001b[0m\u001b[0;34m\u001b[0m\u001b[0m\n\u001b[0;32m--> 346\u001b[0;31m         \u001b[0mdata\u001b[0m \u001b[0;34m=\u001b[0m \u001b[0mself\u001b[0m\u001b[0;34m.\u001b[0m\u001b[0m_dataset_fetcher\u001b[0m\u001b[0;34m.\u001b[0m\u001b[0mfetch\u001b[0m\u001b[0;34m(\u001b[0m\u001b[0mindex\u001b[0m\u001b[0;34m)\u001b[0m  \u001b[0;31m# may raise StopIteration\u001b[0m\u001b[0;34m\u001b[0m\u001b[0;34m\u001b[0m\u001b[0m\n\u001b[0m\u001b[1;32m    347\u001b[0m         \u001b[0;32mif\u001b[0m \u001b[0mself\u001b[0m\u001b[0;34m.\u001b[0m\u001b[0m_pin_memory\u001b[0m\u001b[0;34m:\u001b[0m\u001b[0;34m\u001b[0m\u001b[0;34m\u001b[0m\u001b[0m\n\u001b[1;32m    348\u001b[0m             \u001b[0mdata\u001b[0m \u001b[0;34m=\u001b[0m \u001b[0m_utils\u001b[0m\u001b[0;34m.\u001b[0m\u001b[0mpin_memory\u001b[0m\u001b[0;34m.\u001b[0m\u001b[0mpin_memory\u001b[0m\u001b[0;34m(\u001b[0m\u001b[0mdata\u001b[0m\u001b[0;34m)\u001b[0m\u001b[0;34m\u001b[0m\u001b[0;34m\u001b[0m\u001b[0m\n",
            "\u001b[0;32m/usr/local/lib/python3.6/dist-packages/torch/utils/data/_utils/fetch.py\u001b[0m in \u001b[0;36mfetch\u001b[0;34m(self, possibly_batched_index)\u001b[0m\n\u001b[1;32m     42\u001b[0m     \u001b[0;32mdef\u001b[0m \u001b[0mfetch\u001b[0m\u001b[0;34m(\u001b[0m\u001b[0mself\u001b[0m\u001b[0;34m,\u001b[0m \u001b[0mpossibly_batched_index\u001b[0m\u001b[0;34m)\u001b[0m\u001b[0;34m:\u001b[0m\u001b[0;34m\u001b[0m\u001b[0;34m\u001b[0m\u001b[0m\n\u001b[1;32m     43\u001b[0m         \u001b[0;32mif\u001b[0m \u001b[0mself\u001b[0m\u001b[0;34m.\u001b[0m\u001b[0mauto_collation\u001b[0m\u001b[0;34m:\u001b[0m\u001b[0;34m\u001b[0m\u001b[0;34m\u001b[0m\u001b[0m\n\u001b[0;32m---> 44\u001b[0;31m             \u001b[0mdata\u001b[0m \u001b[0;34m=\u001b[0m \u001b[0;34m[\u001b[0m\u001b[0mself\u001b[0m\u001b[0;34m.\u001b[0m\u001b[0mdataset\u001b[0m\u001b[0;34m[\u001b[0m\u001b[0midx\u001b[0m\u001b[0;34m]\u001b[0m \u001b[0;32mfor\u001b[0m \u001b[0midx\u001b[0m \u001b[0;32min\u001b[0m \u001b[0mpossibly_batched_index\u001b[0m\u001b[0;34m]\u001b[0m\u001b[0;34m\u001b[0m\u001b[0;34m\u001b[0m\u001b[0m\n\u001b[0m\u001b[1;32m     45\u001b[0m         \u001b[0;32melse\u001b[0m\u001b[0;34m:\u001b[0m\u001b[0;34m\u001b[0m\u001b[0;34m\u001b[0m\u001b[0m\n\u001b[1;32m     46\u001b[0m             \u001b[0mdata\u001b[0m \u001b[0;34m=\u001b[0m \u001b[0mself\u001b[0m\u001b[0;34m.\u001b[0m\u001b[0mdataset\u001b[0m\u001b[0;34m[\u001b[0m\u001b[0mpossibly_batched_index\u001b[0m\u001b[0;34m]\u001b[0m\u001b[0;34m\u001b[0m\u001b[0;34m\u001b[0m\u001b[0m\n",
            "\u001b[0;32m/usr/local/lib/python3.6/dist-packages/torch/utils/data/_utils/fetch.py\u001b[0m in \u001b[0;36m<listcomp>\u001b[0;34m(.0)\u001b[0m\n\u001b[1;32m     42\u001b[0m     \u001b[0;32mdef\u001b[0m \u001b[0mfetch\u001b[0m\u001b[0;34m(\u001b[0m\u001b[0mself\u001b[0m\u001b[0;34m,\u001b[0m \u001b[0mpossibly_batched_index\u001b[0m\u001b[0;34m)\u001b[0m\u001b[0;34m:\u001b[0m\u001b[0;34m\u001b[0m\u001b[0;34m\u001b[0m\u001b[0m\n\u001b[1;32m     43\u001b[0m         \u001b[0;32mif\u001b[0m \u001b[0mself\u001b[0m\u001b[0;34m.\u001b[0m\u001b[0mauto_collation\u001b[0m\u001b[0;34m:\u001b[0m\u001b[0;34m\u001b[0m\u001b[0;34m\u001b[0m\u001b[0m\n\u001b[0;32m---> 44\u001b[0;31m             \u001b[0mdata\u001b[0m \u001b[0;34m=\u001b[0m \u001b[0;34m[\u001b[0m\u001b[0mself\u001b[0m\u001b[0;34m.\u001b[0m\u001b[0mdataset\u001b[0m\u001b[0;34m[\u001b[0m\u001b[0midx\u001b[0m\u001b[0;34m]\u001b[0m \u001b[0;32mfor\u001b[0m \u001b[0midx\u001b[0m \u001b[0;32min\u001b[0m \u001b[0mpossibly_batched_index\u001b[0m\u001b[0;34m]\u001b[0m\u001b[0;34m\u001b[0m\u001b[0;34m\u001b[0m\u001b[0m\n\u001b[0m\u001b[1;32m     45\u001b[0m         \u001b[0;32melse\u001b[0m\u001b[0;34m:\u001b[0m\u001b[0;34m\u001b[0m\u001b[0;34m\u001b[0m\u001b[0m\n\u001b[1;32m     46\u001b[0m             \u001b[0mdata\u001b[0m \u001b[0;34m=\u001b[0m \u001b[0mself\u001b[0m\u001b[0;34m.\u001b[0m\u001b[0mdataset\u001b[0m\u001b[0;34m[\u001b[0m\u001b[0mpossibly_batched_index\u001b[0m\u001b[0;34m]\u001b[0m\u001b[0;34m\u001b[0m\u001b[0;34m\u001b[0m\u001b[0m\n",
            "\u001b[0;32m/usr/local/lib/python3.6/dist-packages/torchvision/datasets/folder.py\u001b[0m in \u001b[0;36m__getitem__\u001b[0;34m(self, index)\u001b[0m\n\u001b[1;32m    136\u001b[0m         \"\"\"\n\u001b[1;32m    137\u001b[0m         \u001b[0mpath\u001b[0m\u001b[0;34m,\u001b[0m \u001b[0mtarget\u001b[0m \u001b[0;34m=\u001b[0m \u001b[0mself\u001b[0m\u001b[0;34m.\u001b[0m\u001b[0msamples\u001b[0m\u001b[0;34m[\u001b[0m\u001b[0mindex\u001b[0m\u001b[0;34m]\u001b[0m\u001b[0;34m\u001b[0m\u001b[0;34m\u001b[0m\u001b[0m\n\u001b[0;32m--> 138\u001b[0;31m         \u001b[0msample\u001b[0m \u001b[0;34m=\u001b[0m \u001b[0mself\u001b[0m\u001b[0;34m.\u001b[0m\u001b[0mloader\u001b[0m\u001b[0;34m(\u001b[0m\u001b[0mpath\u001b[0m\u001b[0;34m)\u001b[0m\u001b[0;34m\u001b[0m\u001b[0;34m\u001b[0m\u001b[0m\n\u001b[0m\u001b[1;32m    139\u001b[0m         \u001b[0;32mif\u001b[0m \u001b[0mself\u001b[0m\u001b[0;34m.\u001b[0m\u001b[0mtransform\u001b[0m \u001b[0;32mis\u001b[0m \u001b[0;32mnot\u001b[0m \u001b[0;32mNone\u001b[0m\u001b[0;34m:\u001b[0m\u001b[0;34m\u001b[0m\u001b[0;34m\u001b[0m\u001b[0m\n\u001b[1;32m    140\u001b[0m             \u001b[0msample\u001b[0m \u001b[0;34m=\u001b[0m \u001b[0mself\u001b[0m\u001b[0;34m.\u001b[0m\u001b[0mtransform\u001b[0m\u001b[0;34m(\u001b[0m\u001b[0msample\u001b[0m\u001b[0;34m)\u001b[0m\u001b[0;34m\u001b[0m\u001b[0;34m\u001b[0m\u001b[0m\n",
            "\u001b[0;32m<ipython-input-29-18c491a5c8b3>\u001b[0m in \u001b[0;36mload_feature\u001b[0;34m(loc)\u001b[0m\n\u001b[1;32m      1\u001b[0m \u001b[0;32mdef\u001b[0m \u001b[0mload_feature\u001b[0m\u001b[0;34m(\u001b[0m\u001b[0mloc\u001b[0m\u001b[0;34m)\u001b[0m\u001b[0;34m:\u001b[0m\u001b[0;34m\u001b[0m\u001b[0;34m\u001b[0m\u001b[0m\n\u001b[0;32m----> 2\u001b[0;31m     \u001b[0;32mreturn\u001b[0m \u001b[0mtorch\u001b[0m\u001b[0;34m.\u001b[0m\u001b[0mload\u001b[0m\u001b[0;34m(\u001b[0m\u001b[0mloc\u001b[0m\u001b[0;34m)\u001b[0m\u001b[0;34m\u001b[0m\u001b[0;34m\u001b[0m\u001b[0m\n\u001b[0m\u001b[1;32m      3\u001b[0m \u001b[0;34m\u001b[0m\u001b[0m\n\u001b[1;32m      4\u001b[0m \u001b[0;31m# Data Loading\u001b[0m\u001b[0;34m\u001b[0m\u001b[0;34m\u001b[0m\u001b[0;34m\u001b[0m\u001b[0m\n\u001b[1;32m      5\u001b[0m \u001b[0;32mdef\u001b[0m \u001b[0mget_data_loader\u001b[0m\u001b[0;34m(\u001b[0m\u001b[0mdata_dir\u001b[0m\u001b[0;34m,\u001b[0m \u001b[0mbatch_size\u001b[0m\u001b[0;34m)\u001b[0m\u001b[0;34m:\u001b[0m\u001b[0;34m\u001b[0m\u001b[0;34m\u001b[0m\u001b[0m\n",
            "\u001b[0;32m/usr/local/lib/python3.6/dist-packages/torch/serialization.py\u001b[0m in \u001b[0;36mload\u001b[0;34m(f, map_location, pickle_module, **pickle_load_args)\u001b[0m\n\u001b[1;32m    417\u001b[0m             \u001b[0;34m(\u001b[0m\u001b[0msys\u001b[0m\u001b[0;34m.\u001b[0m\u001b[0mversion_info\u001b[0m\u001b[0;34m[\u001b[0m\u001b[0;36m0\u001b[0m\u001b[0;34m]\u001b[0m \u001b[0;34m==\u001b[0m \u001b[0;36m2\u001b[0m \u001b[0;32mand\u001b[0m \u001b[0misinstance\u001b[0m\u001b[0;34m(\u001b[0m\u001b[0mf\u001b[0m\u001b[0;34m,\u001b[0m \u001b[0municode\u001b[0m\u001b[0;34m)\u001b[0m\u001b[0;34m)\u001b[0m\u001b[0;34m:\u001b[0m\u001b[0;34m\u001b[0m\u001b[0;34m\u001b[0m\u001b[0m\n\u001b[1;32m    418\u001b[0m         \u001b[0mnew_fd\u001b[0m \u001b[0;34m=\u001b[0m \u001b[0;32mTrue\u001b[0m\u001b[0;34m\u001b[0m\u001b[0;34m\u001b[0m\u001b[0m\n\u001b[0;32m--> 419\u001b[0;31m         \u001b[0mf\u001b[0m \u001b[0;34m=\u001b[0m \u001b[0mopen\u001b[0m\u001b[0;34m(\u001b[0m\u001b[0mf\u001b[0m\u001b[0;34m,\u001b[0m \u001b[0;34m'rb'\u001b[0m\u001b[0;34m)\u001b[0m\u001b[0;34m\u001b[0m\u001b[0;34m\u001b[0m\u001b[0m\n\u001b[0m\u001b[1;32m    420\u001b[0m     \u001b[0;32melif\u001b[0m \u001b[0;34m(\u001b[0m\u001b[0msys\u001b[0m\u001b[0;34m.\u001b[0m\u001b[0mversion_info\u001b[0m\u001b[0;34m[\u001b[0m\u001b[0;36m0\u001b[0m\u001b[0;34m]\u001b[0m \u001b[0;34m==\u001b[0m \u001b[0;36m3\u001b[0m \u001b[0;32mand\u001b[0m \u001b[0misinstance\u001b[0m\u001b[0;34m(\u001b[0m\u001b[0mf\u001b[0m\u001b[0;34m,\u001b[0m \u001b[0mpathlib\u001b[0m\u001b[0;34m.\u001b[0m\u001b[0mPath\u001b[0m\u001b[0;34m)\u001b[0m\u001b[0;34m)\u001b[0m\u001b[0;34m:\u001b[0m\u001b[0;34m\u001b[0m\u001b[0;34m\u001b[0m\u001b[0m\n\u001b[1;32m    421\u001b[0m         \u001b[0mnew_fd\u001b[0m \u001b[0;34m=\u001b[0m \u001b[0;32mTrue\u001b[0m\u001b[0;34m\u001b[0m\u001b[0;34m\u001b[0m\u001b[0m\n",
            "\u001b[0;31mKeyboardInterrupt\u001b[0m: "
          ]
        }
      ]
    },
    {
      "cell_type": "code",
      "metadata": {
        "id": "6BsM-7Em6q0g",
        "colab_type": "code",
        "colab": {
          "base_uri": "https://localhost:8080/",
          "height": 1000
        },
        "outputId": "fb473820-adb7-4b1e-e1a6-4d4ee86ebbd8"
      },
      "source": [
        "model = ANNClassifier_VGG16()\n",
        "train_net(model, batch_size=64, learning_rate=0.001, num_epochs=100,\n",
        "    data_dir='/content/drive/My Drive/Colab Notebooks/Faces/vgg16')"
      ],
      "execution_count": 35,
      "outputs": [
        {
          "output_type": "stream",
          "text": [
            "Drive already mounted at /content/drive; to attempt to forcibly remount, call drive.mount(\"/content/drive\", force_remount=True).\n"
          ],
          "name": "stdout"
        },
        {
          "output_type": "stream",
          "text": [
            "/usr/local/lib/python3.6/dist-packages/ipykernel_launcher.py:175: UserWarning: Implicit dimension choice for softmax has been deprecated. Change the call to include dim=X as an argument.\n",
            "/usr/local/lib/python3.6/dist-packages/ipykernel_launcher.py:55: UserWarning: Implicit dimension choice for softmax has been deprecated. Change the call to include dim=X as an argument.\n",
            "/usr/local/lib/python3.6/dist-packages/ipykernel_launcher.py:85: UserWarning: Implicit dimension choice for softmax has been deprecated. Change the call to include dim=X as an argument.\n"
          ],
          "name": "stderr"
        },
        {
          "output_type": "stream",
          "text": [
            "Epoch 1: Train acc: 0.14369256474519632, Train loss: 1.9963443153782894 |Validation acc: 0.14661654135338345, Validation loss: 1.945531258216271\n",
            "Epoch 2: Train acc: 0.14369256474519632, Train loss: 1.9560410348992598 |Validation acc: 0.14661654135338345, Validation loss: 1.9439119192270131\n",
            "Epoch 3: Train acc: 0.1695906432748538, Train loss: 1.9486750552528782 |Validation acc: 0.17794486215538846, Validation loss: 1.9430561065673828\n",
            "Epoch 4: Train acc: 0.22389306599832914, Train loss: 1.9464438588995683 |Validation acc: 0.20676691729323307, Validation loss: 1.942198973435622\n",
            "Epoch 5: Train acc: 0.3592314118629908, Train loss: 1.9447376853541325 |Validation acc: 0.33709273182957394, Validation loss: 1.9400752140925481\n",
            "Epoch 6: Train acc: 0.3738512949039265, Train loss: 1.9448665819670026 |Validation acc: 0.3634085213032581, Validation loss: 1.937981972327599\n",
            "Epoch 7: Train acc: 0.4494569757727652, Train loss: 1.9433328728926809 |Validation acc: 0.4298245614035088, Validation loss: 1.9349734966571515\n",
            "Epoch 8: Train acc: 0.4553049289891395, Train loss: 1.941341801693565 |Validation acc: 0.43859649122807015, Validation loss: 1.9292518909160907\n",
            "Epoch 9: Train acc: 0.4143692564745196, Train loss: 1.940704948023746 |Validation acc: 0.41228070175438597, Validation loss: 1.9235333662766676\n",
            "Epoch 10: Train acc: 0.3939014202172097, Train loss: 1.936243358411287 |Validation acc: 0.39473684210526316, Validation loss: 1.9129798595721905\n",
            "Epoch 11: Train acc: 0.36466165413533835, Train loss: 1.9322710539165295 |Validation acc: 0.3533834586466165, Validation loss: 1.8986795865572417\n",
            "Epoch 12: Train acc: 0.3454469507101086, Train loss: 1.9268895199424343 |Validation acc: 0.3333333333333333, Validation loss: 1.8829093346228967\n",
            "Epoch 13: Train acc: 0.3366750208855472, Train loss: 1.9178294131630345 |Validation acc: 0.31954887218045114, Validation loss: 1.8609253810002253\n",
            "Epoch 14: Train acc: 0.32497911445279865, Train loss: 1.9133879009046053 |Validation acc: 0.3082706766917293, Validation loss: 1.843912124633789\n",
            "Epoch 15: Train acc: 0.3283208020050125, Train loss: 1.8963004664370888 |Validation acc: 0.3107769423558897, Validation loss: 1.82390990624061\n",
            "Epoch 16: Train acc: 0.3366750208855472, Train loss: 1.8880271911621094 |Validation acc: 0.3208020050125313, Validation loss: 1.8071798177865834\n",
            "Epoch 17: Train acc: 0.32706766917293234, Train loss: 1.8759502611662213 |Validation acc: 0.3107769423558897, Validation loss: 1.7946856572077825\n",
            "Epoch 18: Train acc: 0.3387635756056809, Train loss: 1.863060198332134 |Validation acc: 0.32456140350877194, Validation loss: 1.78364137502817\n",
            "Epoch 19: Train acc: 0.34210526315789475, Train loss: 1.8444089387592517 |Validation acc: 0.33208020050125314, Validation loss: 1.7746846125676081\n",
            "Epoch 20: Train acc: 0.3558897243107769, Train loss: 1.8284500523617393 |Validation acc: 0.3433583959899749, Validation loss: 1.762812247643104\n",
            "Epoch 21: Train acc: 0.3780284043441938, Train loss: 1.8123883699115955 |Validation acc: 0.37593984962406013, Validation loss: 1.7496720827542818\n",
            "Epoch 22: Train acc: 0.41102756892230574, Train loss: 1.797827068128084 |Validation acc: 0.40100250626566414, Validation loss: 1.7332184131328876\n",
            "Epoch 23: Train acc: 0.4477861319966583, Train loss: 1.7855588009482937 |Validation acc: 0.43609022556390975, Validation loss: 1.7185152493990385\n",
            "Epoch 24: Train acc: 0.47201336675020883, Train loss: 1.7749838578073602 |Validation acc: 0.46867167919799496, Validation loss: 1.7040590139535756\n",
            "Epoch 25: Train acc: 0.49624060150375937, Train loss: 1.7643520957545231 |Validation acc: 0.47869674185463656, Validation loss: 1.6917730478140025\n",
            "Epoch 26: Train acc: 0.5233918128654971, Train loss: 1.7549964503238076 |Validation acc: 0.5087719298245614, Validation loss: 1.6776045285738432\n",
            "Epoch 27: Train acc: 0.5388471177944862, Train loss: 1.7457624736585116 |Validation acc: 0.525062656641604, Validation loss: 1.6655671046330378\n",
            "Epoch 28: Train acc: 0.5538847117794486, Train loss: 1.7360976369757402 |Validation acc: 0.5413533834586466, Validation loss: 1.6522740584153395\n",
            "Epoch 29: Train acc: 0.5714285714285714, Train loss: 1.7269997847707648 |Validation acc: 0.556390977443609, Validation loss: 1.639778577364408\n",
            "Epoch 30: Train acc: 0.5789473684210527, Train loss: 1.717390963905736 |Validation acc: 0.5701754385964912, Validation loss: 1.628072738647461\n",
            "Epoch 31: Train acc: 0.5902255639097744, Train loss: 1.7079831173545437 |Validation acc: 0.5714285714285714, Validation loss: 1.6159849900465746\n",
            "Epoch 32: Train acc: 0.5994152046783626, Train loss: 1.6980173211348684 |Validation acc: 0.5877192982456141, Validation loss: 1.6043479625995343\n",
            "Epoch 33: Train acc: 0.6081871345029239, Train loss: 1.689000179893092 |Validation acc: 0.5964912280701754, Validation loss: 1.5936851501464844\n",
            "Epoch 34: Train acc: 0.616123642439432, Train loss: 1.679076546116879 |Validation acc: 0.6115288220551378, Validation loss: 1.5833913362943208\n",
            "Epoch 35: Train acc: 0.6265664160401002, Train loss: 1.6700336054751748 |Validation acc: 0.6228070175438597, Validation loss: 1.5744042029747596\n",
            "Epoch 36: Train acc: 0.6399331662489557, Train loss: 1.6606415196468955 |Validation acc: 0.6303258145363408, Validation loss: 1.565085190993089\n",
            "Epoch 37: Train acc: 0.6470342522974102, Train loss: 1.6527908726742393 |Validation acc: 0.6340852130325815, Validation loss: 1.5580894763653095\n",
            "Epoch 38: Train acc: 0.6532999164578112, Train loss: 1.6433176743356805 |Validation acc: 0.6390977443609023, Validation loss: 1.5501229212834284\n",
            "Epoch 39: Train acc: 0.6595655806182122, Train loss: 1.6360690468236019 |Validation acc: 0.6416040100250626, Validation loss: 1.5441605494572566\n",
            "Epoch 40: Train acc: 0.6679197994987469, Train loss: 1.6268910859760486 |Validation acc: 0.650375939849624, Validation loss: 1.5373995854304388\n",
            "Epoch 41: Train acc: 0.672514619883041, Train loss: 1.6209929616827714 |Validation acc: 0.6478696741854637, Validation loss: 1.5332936507004957\n",
            "Epoch 42: Train acc: 0.6775271512113618, Train loss: 1.6112721091822575 |Validation acc: 0.6541353383458647, Validation loss: 1.527291517991286\n",
            "Epoch 43: Train acc: 0.681704260651629, Train loss: 1.6056812687924034 |Validation acc: 0.6616541353383458, Validation loss: 1.5229684389554536\n",
            "Epoch 44: Train acc: 0.6858813700918964, Train loss: 1.5968266537314968 |Validation acc: 0.6616541353383458, Validation loss: 1.5183685009296124\n",
            "Epoch 45: Train acc: 0.6879699248120301, Train loss: 1.5904647425601357 |Validation acc: 0.6666666666666666, Validation loss: 1.5148786398080678\n",
            "Epoch 46: Train acc: 0.6938178780284043, Train loss: 1.5817245684171979 |Validation acc: 0.6679197994987469, Validation loss: 1.510491444514348\n",
            "Epoch 47: Train acc: 0.697577276524645, Train loss: 1.5772476196289062 |Validation acc: 0.6754385964912281, Validation loss: 1.5073022108811598\n",
            "Epoch 48: Train acc: 0.7017543859649122, Train loss: 1.568985888832494 |Validation acc: 0.6791979949874687, Validation loss: 1.5035557380089393\n",
            "Epoch 49: Train acc: 0.7071846282372598, Train loss: 1.5642839732923006 |Validation acc: 0.6879699248120301, Validation loss: 1.500372813298152\n",
            "Epoch 50: Train acc: 0.7092731829573935, Train loss: 1.5568079697458368 |Validation acc: 0.6904761904761905, Validation loss: 1.4967968280498798\n",
            "Epoch 51: Train acc: 0.7113617376775272, Train loss: 1.5522145723041736 |Validation acc: 0.6917293233082706, Validation loss: 1.4940888331486628\n",
            "Epoch 52: Train acc: 0.7180451127819549, Train loss: 1.544055838333933 |Validation acc: 0.6979949874686717, Validation loss: 1.4897808661827674\n",
            "Epoch 53: Train acc: 0.7205513784461153, Train loss: 1.5401999824925472 |Validation acc: 0.6979949874686717, Validation loss: 1.4871798295241137\n",
            "Epoch 54: Train acc: 0.727234753550543, Train loss: 1.532683723851254 |Validation acc: 0.7080200501253133, Validation loss: 1.4827226492074819\n",
            "Epoch 55: Train acc: 0.7330827067669173, Train loss: 1.5289302625154193 |Validation acc: 0.7092731829573935, Validation loss: 1.4800582298865685\n",
            "Epoch 56: Train acc: 0.7435254803675856, Train loss: 1.5221267499421771 |Validation acc: 0.7142857142857143, Validation loss: 1.4758443098801832\n",
            "Epoch 57: Train acc: 0.746031746031746, Train loss: 1.5185201544510691 |Validation acc: 0.7142857142857143, Validation loss: 1.4733028411865234\n",
            "Epoch 58: Train acc: 0.752297410192147, Train loss: 1.5113482224313837 |Validation acc: 0.7230576441102757, Validation loss: 1.4691886901855469\n",
            "Epoch 59: Train acc: 0.753968253968254, Train loss: 1.5078519520006681 |Validation acc: 0.7230576441102757, Validation loss: 1.4666040860689604\n",
            "Epoch 60: Train acc: 0.7623224728487886, Train loss: 1.5014154534590871 |Validation acc: 0.7293233082706767, Validation loss: 1.4627757439246545\n",
            "Epoch 61: Train acc: 0.7639933166248956, Train loss: 1.4979475924843235 |Validation acc: 0.7293233082706767, Validation loss: 1.46015871488131\n",
            "Epoch 62: Train acc: 0.7677527151211362, Train loss: 1.491940046611585 |Validation acc: 0.7330827067669173, Validation loss: 1.456647432767428\n",
            "Epoch 63: Train acc: 0.7694235588972431, Train loss: 1.487843162135074 |Validation acc: 0.7343358395989975, Validation loss: 1.4537240541898286\n",
            "Epoch 64: Train acc: 0.7719298245614035, Train loss: 1.482857152035362 |Validation acc: 0.7393483709273183, Validation loss: 1.4508044903094952\n",
            "Epoch 65: Train acc: 0.772765246449457, Train loss: 1.4786001506604647 |Validation acc: 0.7406015037593985, Validation loss: 1.4477239755483775\n",
            "Epoch 66: Train acc: 0.7748538011695907, Train loss: 1.474135348671361 |Validation acc: 0.7418546365914787, Validation loss: 1.4451492016132061\n",
            "Epoch 67: Train acc: 0.7786131996658312, Train loss: 1.469765111019737 |Validation acc: 0.7443609022556391, Validation loss: 1.442135737492488\n",
            "Epoch 68: Train acc: 0.7802840434419381, Train loss: 1.4656791687011719 |Validation acc: 0.7468671679197995, Validation loss: 1.439982927762545\n",
            "Epoch 69: Train acc: 0.783625730994152, Train loss: 1.460873051693565 |Validation acc: 0.7481203007518797, Validation loss: 1.43682861328125\n",
            "Epoch 70: Train acc: 0.7857142857142857, Train loss: 1.457572435077868 |Validation acc: 0.7493734335839599, Validation loss: 1.434889866755559\n",
            "Epoch 71: Train acc: 0.7890559732664996, Train loss: 1.4524240995708264 |Validation acc: 0.7518796992481203, Validation loss: 1.4315580221322866\n",
            "Epoch 72: Train acc: 0.7923976608187134, Train loss: 1.4492014834755345 |Validation acc: 0.7506265664160401, Validation loss: 1.4294754908635066\n",
            "Epoch 73: Train acc: 0.7986633249791144, Train loss: 1.4441500212016858 |Validation acc: 0.7593984962406015, Validation loss: 1.4264530768761268\n",
            "Epoch 74: Train acc: 0.8015873015873016, Train loss: 1.4408646633750515 |Validation acc: 0.7606516290726817, Validation loss: 1.4240047748272235\n",
            "Epoch 75: Train acc: 0.8049289891395155, Train loss: 1.436114461798417 |Validation acc: 0.7656641604010025, Validation loss: 1.4209832411545973\n",
            "Epoch 76: Train acc: 0.8065998329156224, Train loss: 1.4328503859670538 |Validation acc: 0.768170426065163, Validation loss: 1.4187021989088793\n",
            "Epoch 77: Train acc: 0.810359231411863, Train loss: 1.4282534749884355 |Validation acc: 0.7744360902255639, Validation loss: 1.4156658466045673\n",
            "Epoch 78: Train acc: 0.8120300751879699, Train loss: 1.4249052750436884 |Validation acc: 0.7731829573934837, Validation loss: 1.413655501145583\n",
            "Epoch 79: Train acc: 0.8145363408521303, Train loss: 1.421017094662315 |Validation acc: 0.7731829573934837, Validation loss: 1.411058866060697\n",
            "Epoch 80: Train acc: 0.8157894736842105, Train loss: 1.4176634738319798 |Validation acc: 0.7731829573934837, Validation loss: 1.4094801682692308\n",
            "Epoch 81: Train acc: 0.818295739348371, Train loss: 1.4140366002133018 |Validation acc: 0.7744360902255639, Validation loss: 1.4072036743164062\n",
            "Epoch 82: Train acc: 0.8191311612364244, Train loss: 1.4108755212081106 |Validation acc: 0.7744360902255639, Validation loss: 1.4059442373422475\n",
            "Epoch 83: Train acc: 0.8195488721804511, Train loss: 1.4076073295191716 |Validation acc: 0.7744360902255639, Validation loss: 1.4041687892033503\n",
            "Epoch 84: Train acc: 0.8195488721804511, Train loss: 1.4045725370708264 |Validation acc: 0.7744360902255639, Validation loss: 1.4028301239013672\n",
            "Epoch 85: Train acc: 0.8216374269005848, Train loss: 1.4015317214162726 |Validation acc: 0.7756892230576441, Validation loss: 1.4014169252835786\n",
            "Epoch 86: Train acc: 0.8241436925647452, Train loss: 1.3982910357023541 |Validation acc: 0.7781954887218046, Validation loss: 1.400065935575045\n",
            "Epoch 87: Train acc: 0.8258145363408521, Train loss: 1.3951873779296875 |Validation acc: 0.7769423558897243, Validation loss: 1.39857424222506\n",
            "Epoch 88: Train acc: 0.8270676691729323, Train loss: 1.3921681454307155 |Validation acc: 0.7794486215538847, Validation loss: 1.3971980168269231\n",
            "Epoch 89: Train acc: 0.829156223893066, Train loss: 1.3886020058079769 |Validation acc: 0.7769423558897243, Validation loss: 1.3955064920278697\n",
            "Epoch 90: Train acc: 0.8320802005012531, Train loss: 1.3857771220960116 |Validation acc: 0.7794486215538847, Validation loss: 1.3938934619610126\n",
            "Epoch 91: Train acc: 0.83375104427736, Train loss: 1.3821074837132503 |Validation acc: 0.7819548872180451, Validation loss: 1.3920028393085186\n",
            "Epoch 92: Train acc: 0.8370927318295739, Train loss: 1.3789663816753186 |Validation acc: 0.7832080200501254, Validation loss: 1.3897552490234375\n",
            "Epoch 93: Train acc: 0.8395989974937343, Train loss: 1.3752863030684621 |Validation acc: 0.7869674185463659, Validation loss: 1.3873163369985728\n",
            "Epoch 94: Train acc: 0.8437761069340016, Train loss: 1.3719595858925266 |Validation acc: 0.7882205513784462, Validation loss: 1.3845878014197717\n",
            "Epoch 95: Train acc: 0.8450292397660819, Train loss: 1.368192471955952 |Validation acc: 0.7907268170426065, Validation loss: 1.3819307180551381\n",
            "Epoch 96: Train acc: 0.847953216374269, Train loss: 1.3650909223054584 |Validation acc: 0.7969924812030075, Validation loss: 1.3787759634164662\n",
            "Epoch 97: Train acc: 0.8508771929824561, Train loss: 1.3612056531404193 |Validation acc: 0.8020050125313283, Validation loss: 1.3755474090576172\n",
            "Epoch 98: Train acc: 0.8567251461988304, Train loss: 1.3578668895520662 |Validation acc: 0.8082706766917294, Validation loss: 1.3717470902663012\n",
            "Epoch 99: Train acc: 0.8600668337510443, Train loss: 1.3539182763350637 |Validation acc: 0.8107769423558897, Validation loss: 1.3680135286771333\n",
            "Epoch 100: Train acc: 0.8617376775271512, Train loss: 1.3504763151469983 |Validation acc: 0.8157894736842105, Validation loss: 1.3642481290377104\n",
            "Finished Training\n"
          ],
          "name": "stdout"
        }
      ]
    },
    {
      "cell_type": "code",
      "metadata": {
        "id": "OL8UT39WjUYD",
        "colab_type": "code",
        "outputId": "39910005-e141-471d-84c1-8d8c091dae9e",
        "colab": {
          "base_uri": "https://localhost:8080/",
          "height": 607
        }
      },
      "source": [
        "model_path = get_model_name(\"alexnet_ann\", batch_size=128, learning_rate=0.01, epoch=99)\n",
        "plot_training_curve('/content/' + model_path)"
      ],
      "execution_count": 21,
      "outputs": [
        {
          "output_type": "display_data",
          "data": {
            "image/png": "[encoded data removed]",
            "text/plain": [
              "<Figure size 432x288 with 1 Axes>"
            ]
          },
          "metadata": {
            "tags": []
          }
        },
        {
          "output_type": "display_data",
          "data": {
            "image/png": "[encoded data removed]",
            "text/plain": [
              "<Figure size 432x288 with 1 Axes>"
            ]
          },
          "metadata": {
            "tags": []
          }
        },
        {
          "output_type": "stream",
          "text": [
            "Final Training Accuracy: 0.14285714285714285\n",
            "Final Validation Accuracy: 0.14285714285714285\n"
          ],
          "name": "stdout"
        }
      ]
    },
    {
      "cell_type": "code",
      "metadata": {
        "id": "7abhWUhbjhtq",
        "colab_type": "code",
        "outputId": "aa4ac442-fb18-43bd-ac18-821921e79b3e",
        "colab": {
          "base_uri": "https://localhost:8080/",
          "height": 607
        }
      },
      "source": [
        "model_path = get_model_name(\"vgg16_ann\", batch_size=64, learning_rate=0.001, epoch=99)\n",
        "plot_training_curve('/content/' + model_path)"
      ],
      "execution_count": 36,
      "outputs": [
        {
          "output_type": "display_data",
          "data": {
            "image/png": "[encoded data removed]",
            "text/plain": [
              "<Figure size 432x288 with 1 Axes>"
            ]
          },
          "metadata": {
            "tags": []
          }
        },
        {
          "output_type": "display_data",
          "data": {
            "image/png": "[encoded data removed]",
            "text/plain": [
              "<Figure size 432x288 with 1 Axes>"
            ]
          },
          "metadata": {
            "tags": []
          }
        },
        {
          "output_type": "stream",
          "text": [
            "Final Training Accuracy: 0.8617376775271512\n",
            "Final Validation Accuracy: 0.8157894736842105\n"
          ],
          "name": "stdout"
        }
      ]
    },
    {
      "cell_type": "code",
      "metadata": {
        "id": "ZANRBIiYd2F_",
        "colab_type": "code",
        "colab": {}
      },
      "source": [
        "model = ANNClassifier_Alexnet()\n",
        "    \n",
        "model_path = get_model_name(\"alexnet_ann\", batch_size=128, learning_rate=0.01, epoch=99)\n",
        "state = torch.load('/content/' + model_path)\n",
        "model.load_state_dict(state)\n",
        "\n",
        "data_dir='/content/drive/My Drive/Colab Notebooks/Faces/alexnet'\n",
        "\n",
        "train_loader, val_loader, test_loader = get_data_loader(data_dir=data_dir, \n",
        "    batch_size=128)\n",
        "\n",
        "criterion = nn.CrossEntropyLoss()\n",
        "test_acc, test_loss = evaluate(model, test_loader, criterion)\n",
        "print(\"Test classification accuracy:\", test_acc)"
      ],
      "execution_count": 0,
      "outputs": []
    }
  ]
}