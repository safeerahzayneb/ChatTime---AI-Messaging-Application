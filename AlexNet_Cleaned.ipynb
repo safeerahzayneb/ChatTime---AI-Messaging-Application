{
  "nbformat": 4,
  "nbformat_minor": 0,
  "metadata": {
    "colab": {
      "name": "YLL_Test_AlexNet.ipynb",
      "provenance": [],
      "collapsed_sections": [],
      "machine_shape": "hm",
      "include_colab_link": true
    },
    "kernelspec": {
      "name": "python3",
      "display_name": "Python 3"
    },
    "accelerator": "GPU"
  },
  "cells": [
    {
      "cell_type": "markdown",
      "metadata": {
        "id": "view-in-github",
        "colab_type": "text"
      },
      "source": [
        "<a href=\"https://colab.research.google.com/github/yanli499/ChatTime/blob/master/AlexNet_Cleaned.ipynb\" target=\"_parent\"><img src=\"https://colab.research.google.com/assets/colab-badge.svg\" alt=\"Open In Colab\"/></a>"
      ]
    },
    {
      "cell_type": "code",
      "metadata": {
        "id": "Ne2bpo2avzHS",
        "colab_type": "code",
        "colab": {}
      },
      "source": [
        "# ALL import statements\n",
        "import os\n",
        "import shutil\n",
        "import copy\n",
        "import time\n",
        "import math\n",
        "import random\n",
        "import numpy as np\n",
        "import torch\n",
        "import torch.nn as nn\n",
        "import torch.nn.functional as F\n",
        "import torch.optim as optim\n",
        "import torchvision\n",
        "import torchvision.models\n",
        "import torchvision.transforms as transforms\n",
        "import matplotlib.pyplot as plt\n",
        "\n",
        "from PIL import Image\n",
        "from torchvision import datasets, models, transforms\n",
        "from torch.optim import lr_scheduler\n",
        "from torch.autograd import Variable"
      ],
      "execution_count": 0,
      "outputs": []
    },
    {
      "cell_type": "code",
      "metadata": {
        "id": "eCdCgvkgiqYw",
        "colab_type": "code",
        "outputId": "baca5170-ced3-45d5-cb02-061a8509cd50",
        "colab": {
          "base_uri": "https://localhost:8080/",
          "height": 34
        }
      },
      "source": [
        "# Mount our Google Drive\n",
        "# re-run whenever needed\n",
        "from google.colab import drive\n",
        "drive.mount('/content/drive')"
      ],
      "execution_count": 74,
      "outputs": [
        {
          "output_type": "stream",
          "text": [
            "Drive already mounted at /content/drive; to attempt to forcibly remount, call drive.mount(\"/content/drive\", force_remount=True).\n"
          ],
          "name": "stdout"
        }
      ]
    },
    {
      "cell_type": "code",
      "metadata": {
        "id": "Ir_dLCntisAH",
        "colab_type": "code",
        "colab": {}
      },
      "source": [
        "# Global variables\n",
        "# classes are folders in each directory with these names\n",
        "classes = ['afraid','angry','disgusted','happy','neutral','sad','surprised']\n",
        "\n",
        "# emotion label for KDEF photos\n",
        "emotion_code = {\"AF\":\"afraid\", \"AN\":\"angry\", \"DI\":\"disgusted\", \"HA\":\"happy\", \n",
        "                \"NE\":\"neutral\", \"SA\":\"sad\", \"SU\":\"surprised\"}\n",
        "\n",
        "data_dir='/content/drive/My Drive/Colab Notebooks/Faces'"
      ],
      "execution_count": 0,
      "outputs": []
    },
    {
      "cell_type": "code",
      "metadata": {
        "id": "dLljEYqZAWVz",
        "colab_type": "code",
        "colab": {}
      },
      "source": [
        "# Call this function once only!\n",
        "\"\"\"\n",
        "Logic for sorting thru dataseta for desired images:\n",
        "KDEF:\n",
        "- Example file name: AF01ANS.JPG\n",
        "- Check:\n",
        "    - length of name = 7, for straight profile only, ends with \"S.jpg\"\n",
        "    - str[4:5] = {\"AF\":\"afraid\", \"AN\":\"angry\", \"DI\":\"disgusted\", \"HA\":\"happy\",\n",
        "    \"NE\":\"neutral\", \"SA\":sad\", \"SU\":\"surprised\"}\n",
        "\"\"\"\n",
        "\n",
        "def create_useful_dataset(): \n",
        "    # delete existing folder\n",
        "    if os.path.exists(data_dir+'/'):\n",
        "        shutil.rmtree(data_dir+'/')\n",
        "\n",
        "    # make new directories for each emotion class + train, val, test\n",
        "    try:\n",
        "        os.mkdir(data_dir)\n",
        "        os.mkdir(data_dir+'/train')\n",
        "        os.mkdir(data_dir+'/val')\n",
        "        os.mkdir(data_dir+'/test')\n",
        "\n",
        "        for i in classes:\n",
        "            os.mkdir(data_dir+'/'+i)\n",
        "            os.mkdir(data_dir+'/train/'+i)\n",
        "            os.mkdir(data_dir+'/val/'+i)\n",
        "            os.mkdir(data_dir+'/test/'+i)\n",
        "\n",
        "    except OSError:\n",
        "        print (\"Creation of the directories failed!\")\n",
        "    else:\n",
        "        print (\"Successfully created the directories!\")\n",
        "\n",
        "    # rootdir = path to KDEF main folder\n",
        "    rootdir = '/content/drive/My Drive/Colab Notebooks/PROJECT/KDEF/'\n",
        "\n",
        "    # go thru KDEF data + sort out desired photos\n",
        "    for subdir, dirs, files in os.walk(rootdir):\n",
        "        for file in files:\n",
        "            filename = subdir + os.sep + file\n",
        "            if (file.endswith(\"S.jpg\") or file.endswith(\"S.JPG\")): \n",
        "                \"\"\"\n",
        "                For each straight profile photo:\n",
        "                    - convert RGB --> Grayscale\n",
        "                    - make 4 copies of photo: original orientation, rotate 5 degrees\n",
        "                        clockwise (cw), rotate counter-clockwise (ccw), flip horizontally\n",
        "                    - resize all to 256 x 256 pixels, b/c will center crop to 224 x 224 later\n",
        "                    - then save in the corresponding emotion class folder\n",
        "                \"\"\"\n",
        "                img = Image.open(filename).convert('L')\n",
        "                img_cw = img.rotate(350)\n",
        "                img_ccw = img.rotate(10)\n",
        "                img_flip = img.transpose(Image.FLIP_LEFT_RIGHT)\n",
        "\n",
        "                new_img = img.resize((256, 256))\n",
        "                new_img_cw = img_cw.resize((256, 256))\n",
        "                new_img_ccw = img_ccw.resize((256, 256))\n",
        "                new_img_flip = img_flip.resize((256, 256))\n",
        "\n",
        "                label = file[4:6]\n",
        "                new_img.save(data_dir+'/'+emotion_code[label]+'/'+file)\n",
        "                new_img_cw.save(data_dir+'/'+emotion_code[label]+'/'+'1'+file)\n",
        "                new_img_ccw.save(data_dir+'/'+emotion_code[label]+'/'+'2'+file)\n",
        "                new_img_flip.save(data_dir+'/'+emotion_code[label]+'/'+'3'+file)\n",
        "    \n",
        "    print (\"Finished creating useful dataset!\")"
      ],
      "execution_count": 0,
      "outputs": []
    },
    {
      "cell_type": "code",
      "metadata": {
        "id": "_ONtGEPi4oIH",
        "colab_type": "code",
        "colab": {}
      },
      "source": [
        "def split_data_to_subsets():   \n",
        "    \"\"\"\n",
        "    Split data into train, val, test datasets (60:20:20)\n",
        "    each class = ~568 images --> ~340 train, ~114 val, ~114 test\n",
        "    \"\"\"\n",
        "    # divide data into train, val, + test\n",
        "    # for each emotion class, get filenames, shuffle, \n",
        "    # divide, move to corresponding folders\n",
        "    for cla in classes:\n",
        "        filepath = data_dir+'/'+cla\n",
        "        names = []\n",
        "\n",
        "        for file in os.listdir(filepath):\n",
        "            names.append(file)\n",
        "\n",
        "        random.shuffle(names)\n",
        "        num_files = len(names)\n",
        "\n",
        "        for ind, name in enumerate(names):\n",
        "            if(ind <= math.ceil(0.6 * num_files)):\n",
        "                # Move to train\n",
        "                shutil.move(filepath+'/'+name, data_dir+'/train/'+cla+'/'+name)\n",
        "            elif(ind <= math.ceil(0.8 * num_files)):\n",
        "                # Move to val\n",
        "                shutil.move(filepath+'/'+name, data_dir+'/val/'+cla+'/'+name)\n",
        "            else:\n",
        "                # Move to test\n",
        "                shutil.move(filepath+'/'+name, data_dir+'/test/'+cla+'/'+name)\n",
        "    \n",
        "    print (\"Finished splitting data to training, val, and test subsets\")"
      ],
      "execution_count": 0,
      "outputs": []
    },
    {
      "cell_type": "code",
      "metadata": {
        "id": "t2Fuh2e3nsyt",
        "colab_type": "code",
        "outputId": "c2abd8a5-e06e-417f-b6f2-a4a4b35a5492",
        "colab": {
          "base_uri": "https://localhost:8080/",
          "height": 69
        }
      },
      "source": [
        "# Run only when necessary\n",
        "create_useful_dataset()\n",
        "split_data_to_subsets()"
      ],
      "execution_count": 78,
      "outputs": [
        {
          "output_type": "stream",
          "text": [
            "Successfully created the directories!\n",
            "Finished creating useful dataset!\n",
            "Finished splitting data to training, val, and test subsets\n"
          ],
          "name": "stdout"
        }
      ]
    },
    {
      "cell_type": "code",
      "metadata": {
        "id": "_OV-9PAKI1-B",
        "colab_type": "code",
        "colab": {
          "base_uri": "https://localhost:8080/",
          "height": 34
        },
        "outputId": "ad64e331-7f86-4d66-be2e-226b4d1e79a3"
      },
      "source": [
        "alexnet = torchvision.models.alexnet(pretrained=True)\n",
        "torch.manual_seed(1) # set the random seed"
      ],
      "execution_count": 79,
      "outputs": [
        {
          "output_type": "execute_result",
          "data": {
            "text/plain": [
              "<torch._C.Generator at 0x7f3e2d48f910>"
            ]
          },
          "metadata": {
            "tags": []
          },
          "execution_count": 79
        }
      ]
    },
    {
      "cell_type": "code",
      "metadata": {
        "id": "Yxrf7MuEI4Kn",
        "colab_type": "code",
        "colab": {}
      },
      "source": [
        "# crop all images to 224 x 224 for all datasets\n",
        "# generate image folders + data loaders for train, val, test\n",
        "\n",
        "# Global Variables\n",
        "batch_size = 1\n",
        "data_transform = transforms.Compose([transforms.CenterCrop(224), transforms.ToTensor()])\n",
        "\n",
        "dir_paths = {\n",
        "    'train': os.path.join(data_dir, 'train/'),\n",
        "    'val': os.path.join(data_dir, 'val/'),\n",
        "    'test': os.path.join(data_dir, 'test/')\n",
        "}\n",
        "\n",
        "image_datasets = {\n",
        "    'train': datasets.ImageFolder(\n",
        "        dir_paths['train'], \n",
        "        transform=data_transform\n",
        "    ),\n",
        "    'val': datasets.ImageFolder(\n",
        "        dir_paths['val'], \n",
        "        transform=data_transform\n",
        "    ),\n",
        "    'test': datasets.ImageFolder(\n",
        "        dir_paths['test'], \n",
        "        transform=data_transform\n",
        "    )\n",
        "}\n",
        "\n",
        "data_loaders = {\n",
        "    'train': torch.utils.data.DataLoader(\n",
        "        image_datasets['train'], batch_size=batch_size\n",
        "    ),\n",
        "    'val': torch.utils.data.DataLoader(\n",
        "        image_datasets['val'], batch_size=batch_size\n",
        "    ),\n",
        "    'test': torch.utils.data.DataLoader(\n",
        "        image_datasets['test'], batch_size=batch_size\n",
        "    )\n",
        "}\n",
        "\n",
        "# get size of each dataset\n",
        "dataset_sizes = {\n",
        "    'train': len(image_datasets['train']),\n",
        "    'val': len(image_datasets['val']),\n",
        "    'test': len(image_datasets['test']) \n",
        "}"
      ],
      "execution_count": 0,
      "outputs": []
    },
    {
      "cell_type": "code",
      "metadata": {
        "id": "qhMNWF1POQR7",
        "colab_type": "code",
        "colab": {}
      },
      "source": [
        "# saving features as tensors in folder structure\n",
        "def create_tensor_folders():\n",
        "    # delete existing folder\n",
        "    if os.path.exists(data_dir+'/alexnet'):\n",
        "        shutil.rmtree(data_dir+'/alexnet')\n",
        "\n",
        "    try:\n",
        "        # create train, val, test folders for VGG features\n",
        "        os.mkdir(data_dir+'/alexnet')\n",
        "        os.mkdir(data_dir+'/alexnet/train')\n",
        "        os.mkdir(data_dir+'/alexnet/val')\n",
        "        os.mkdir(data_dir+'/alexnet/test')\n",
        "\n",
        "        for i in range(len(classes)):\n",
        "            os.mkdir(data_dir+'/alexnet/train/'+classes[i])\n",
        "            os.mkdir(data_dir+'/alexnet/val/'+classes[i])\n",
        "            os.mkdir(data_dir+'/alexnet/test/'+classes[i])\n",
        "\n",
        "    except OSError:\n",
        "        print (\"Creation of the directories failed!\")\n",
        "    else:\n",
        "        print (\"Successfully created the directories!\")\n",
        "\n",
        "def save_tensor_helper(dir_name, features, label, img_num):\n",
        "    # save tensor to appropriate emotion folder\n",
        "    path='/content/drive/My Drive/Colab Notebooks/Faces/'+dir_name\n",
        "\n",
        "    if (label.item() == 0):\n",
        "        torch.save(features, path + '/afraid/features_' + str(img_num) + '.tensor')\n",
        "    if (label.item() == 1):\n",
        "        torch.save(features, path + '/angry/features_' + str(img_num) + '.tensor')\n",
        "    if (label.item() == 2):\n",
        "        torch.save(features, path + '/disgusted/features_' + str(img_num) + '.tensor')\n",
        "    if (label.item() == 3):\n",
        "        torch.save(features, path + '/happy/features_' + str(img_num) + '.tensor')\n",
        "    if (label.item() == 4):\n",
        "        torch.save(features, path + '/neutral/features_' + str(img_num) + '.tensor')\n",
        "    if (label.item() == 5):\n",
        "        torch.save(features, path + '/sad/features_' + str(img_num) + '.tensor')\n",
        "    if (label.item() == 6):\n",
        "        torch.save(features, path + '/surprised/features_' + str(img_num) + '.tensor')\n",
        "\n",
        "def save_tensors():\n",
        "    # save tensors to train, val, test folders\n",
        "    i = 0\n",
        "    for img, label in data_loaders['train']:\n",
        "        features = alexnet.features(img)\n",
        "        save_tensor_helper('alexnet/train', features, label, i)\n",
        "        i+=1\n",
        "\n",
        "    i = 0\n",
        "    for img, label in data_loaders['val']:\n",
        "        features = alexnet.features(img)\n",
        "        save_tensor_helper('alexnet/val', features, label, i)\n",
        "        i+=1\n",
        "\n",
        "    i = 0\n",
        "    for img, label in data_loaders['test']:\n",
        "        features = alexnet.features(img)\n",
        "        save_tensor_helper('alexnet/test', features, label, i)\n",
        "        i+=1\n",
        "    \n",
        "    print(\"Tensors saved!\")"
      ],
      "execution_count": 0,
      "outputs": []
    },
    {
      "cell_type": "code",
      "metadata": {
        "id": "nUV-sryldk-t",
        "colab_type": "code",
        "colab": {
          "base_uri": "https://localhost:8080/",
          "height": 51
        },
        "outputId": "64158258-1460-4f8e-cfeb-f6283cdb6e26"
      },
      "source": [
        "create_tensor_folders()\n",
        "save_tensors()"
      ],
      "execution_count": 90,
      "outputs": [
        {
          "output_type": "stream",
          "text": [
            "Successfully created the directories!\n",
            "Tensors saved!\n"
          ],
          "name": "stdout"
        }
      ]
    },
    {
      "cell_type": "code",
      "metadata": {
        "id": "2jRGd1Pml3rp",
        "colab_type": "code",
        "colab": {}
      },
      "source": [
        "# Artifical Neural Network Architecture\n",
        "class ANNClassifier_Alexnet(nn.Module):\n",
        "    def __init__(self):\n",
        "        super(ANNClassifier_Alexnet, self).__init__()\n",
        "        self.name = \"alexnet_ann\"\n",
        "        self.fc1 = nn.Linear(256 * 6 * 6, 300)\n",
        "        self.fc2 = nn.Linear(300, 7)\n",
        "\n",
        "    def forward(self, x):\n",
        "        x = x.view(-1, 256 * 6 * 6) #flatten feature data\n",
        "        x = F.relu(self.fc1(x))\n",
        "        x = self.fc2(x)\n",
        "        return x"
      ],
      "execution_count": 0,
      "outputs": []
    },
    {
      "cell_type": "code",
      "metadata": {
        "id": "rgA7U1k0mFfO",
        "colab_type": "code",
        "colab": {}
      },
      "source": [
        "def load_feature(loc): \n",
        "    return torch.load(loc)\n",
        "\n",
        "def get_features_data_loader(data_dir, batch_size): # Data Loading\n",
        "    # define training and test data directories\n",
        "    train_dir = os.path.join(data_dir, 'train/')\n",
        "    val_dir = os.path.join(data_dir, 'val/')\n",
        "    test_dir = os.path.join(data_dir, 'test/')\n",
        "\n",
        "    train_data = datasets.DatasetFolder(train_dir, loader=load_feature, extensions = '.tensor')\n",
        "    val_data = datasets.DatasetFolder(val_dir, loader=load_feature, extensions = '.tensor')\n",
        "    test_data = datasets.DatasetFolder(test_dir, loader=load_feature, extensions = '.tensor')\n",
        "\n",
        "    train_loader = torch.utils.data.DataLoader(train_data, batch_size=batch_size)\n",
        "    val_loader = torch.utils.data.DataLoader(val_data, batch_size=batch_size)\n",
        "    test_loader = torch.utils.data.DataLoader(test_data, batch_size=batch_size)\n",
        "    \n",
        "    return train_loader, val_loader, test_loader\n",
        "\n",
        "def get_model_name(name, batch_size, learning_rate, epoch):\n",
        "    \"\"\" Generate a name for the model consisting of all the hyperparameter values\n",
        "    Args:\n",
        "        config: Configuration object containing the hyperparameters\n",
        "    Returns:\n",
        "        path: A string with the hyperparameter name and value concatenated\n",
        "    \"\"\"\n",
        "    path = \"model_{0}_bs{1}_lr{2}_epoch{3}\".format(name,\n",
        "                batch_size, learning_rate, epoch)\n",
        "    return path\n",
        "  \n",
        "def get_accuracy(model, loader):\n",
        "    correct = 0\n",
        "    total = 0\n",
        "\n",
        "    for imgs, labels in loader:\n",
        "        imgs = torch.from_numpy(imgs.detach().numpy())\n",
        "        output = model(imgs)\n",
        "        prob = F.softmax(output)\n",
        "        \n",
        "        #select index with maximum prediction score\n",
        "        pred = prob.max(1, keepdim=True)[1]\n",
        "        correct += pred.eq(labels.view_as(pred)).sum().item()\n",
        "        total += imgs.shape[0]\n",
        "        \n",
        "    return correct / total\n",
        "\n",
        "def evaluate(net, loader, criterion):\n",
        "    \"\"\" Evaluate the network on the validation set.\n",
        "     Args:\n",
        "         net: PyTorch neural network object\n",
        "         loader: PyTorch data loader for the validation set\n",
        "         criterion: The loss function\n",
        "     Returns:\n",
        "         acc: A scalar for the avg classification acc over the validation set\n",
        "         loss: A scalar for the average loss function over the validation set\n",
        "     \"\"\"\n",
        "    total_loss = 0.0\n",
        "    total_epoch = 0\n",
        "    correct = 0\n",
        "    total = 0\n",
        "\n",
        "    for i, data in enumerate(loader, 0):\n",
        "        imgs, labels = data\n",
        "\n",
        "        imgs = torch.from_numpy(imgs.detach().numpy())              \n",
        "        out = model(imgs) # forward pass\n",
        "        prob = F.softmax(out)\n",
        "        loss = criterion(prob, labels)\n",
        "        \n",
        "        #select index with maximum prediction score\n",
        "        pred = prob.max(1, keepdim=True)[1]\n",
        "        correct += pred.eq(labels.view_as(pred)).sum().item()\n",
        "        total += imgs.shape[0]\n",
        "        \n",
        "        total_loss += loss\n",
        "        total_epoch += len(labels)\n",
        "    \n",
        "    acc = correct / total\n",
        "    loss = float(total_loss) / (i + 1)\n",
        "    \n",
        "    return acc, loss\n",
        "\n",
        "def plot_training_curve(path):\n",
        "    \"\"\" Plots the training curve for a model run, given the csv files\n",
        "    containing the train/validation accuracy/loss.\n",
        "    Args:\n",
        "        path: The base path of the csv files produced during training\n",
        "    \"\"\"\n",
        "    train_acc = np.loadtxt(\"{}_train_acc.csv\".format(path))\n",
        "    val_acc = np.loadtxt(\"{}_val_acc.csv\".format(path))\n",
        "    train_loss = np.loadtxt(\"{}_train_loss.csv\".format(path))\n",
        "    val_loss = np.loadtxt(\"{}_val_loss.csv\".format(path))\n",
        "    \n",
        "    n = len(train_acc) # number of epochs\n",
        "    \n",
        "    plt.title(\"Train vs Validation Loss\")\n",
        "    plt.plot(range(1,n+1), train_loss, label=\"Train\")\n",
        "    plt.plot(range(1,n+1), val_loss, label=\"Validation\")\n",
        "    plt.xlabel(\"Epoch\")\n",
        "    plt.ylabel(\"Loss\")\n",
        "    plt.legend(loc='best')\n",
        "    plt.show()\n",
        "    \n",
        "    plt.title(\"Train vs Validation Accuracy\")\n",
        "    plt.plot(range(1,n+1), train_acc, label=\"Train\")\n",
        "    plt.plot(range(1,n+1), val_acc, label=\"Validation\")\n",
        "    plt.xlabel(\"Epoch\")\n",
        "    plt.ylabel(\"Accuracy\")\n",
        "    plt.legend(loc='best')\n",
        "    plt.show()\n",
        "    \n",
        "    print(\"Final Training Accuracy: {}\".format(train_acc[-1]))\n",
        "    print(\"Final Validation Accuracy: {}\".format(val_acc[-1]))\n",
        "\n",
        "    \n",
        "def train_net(net, batch_size=64, learning_rate=0.01, num_epochs=30,\n",
        "    data_dir='/content/drive/My Drive/Colab Notebooks/Faces/'):\n",
        "\n",
        "    # Fixed PyTorch random seed for reproducible result\n",
        "    torch.manual_seed(1000)\n",
        "    \n",
        "    # Obtain the PyTorch data loader objects to load batches of the datasets\n",
        "    train_loader, val_loader, test_loader = get_features_data_loader(data_dir, batch_size)\n",
        "\n",
        "    criterion = nn.CrossEntropyLoss()\n",
        "    optimizer = optim.SGD(model.parameters(), lr=learning_rate, momentum=0.9)\n",
        "    \n",
        "    # Set up some numpy arrays to store the training/test loss/erruracy\n",
        "    train_acc = np.zeros(num_epochs)\n",
        "    train_loss = np.zeros(num_epochs)\n",
        "    val_acc = np.zeros(num_epochs)\n",
        "    val_loss = np.zeros(num_epochs)\n",
        "    \n",
        "    # Train the network\n",
        "    # Loop over the data iterator and sample a new batch of training data\n",
        "    # Get the output from the network, and optimize our loss function.\n",
        "    for epoch in range(num_epochs):  # loop over the dataset multiple times\n",
        "        total_train_loss = 0.0\n",
        "        total_train_acc = 0.0\n",
        "        total_epoch = 0\n",
        "\n",
        "        for i, data in enumerate(train_loader, 0):\n",
        "            # Get the inputs\n",
        "            imgs, labels = data\n",
        "            \n",
        "            # Zero the parameter gradients\n",
        "            optimizer.zero_grad()\n",
        "            # Forward pass, backward pass, and optimize\n",
        "            imgs = torch.from_numpy(imgs.detach().numpy())\n",
        "              \n",
        "            out = model(imgs) # forward pass\n",
        "            prob = F.softmax(out)\n",
        "            loss = criterion(prob, labels)\n",
        "            loss.backward()\n",
        "            optimizer.step()\n",
        "            \n",
        "            total_train_loss += loss\n",
        "            total_epoch += len(labels)\n",
        "\n",
        "        train_acc[epoch] = get_accuracy(net, train_loader)\n",
        "        train_loss[epoch] = float(total_train_loss) / (i+1)\n",
        "        val_acc[epoch], val_loss[epoch] = evaluate(net, val_loader, criterion)\n",
        "        \n",
        "        print((\"Epoch {}: Train acc: {}, Train loss: {} |\"+\n",
        "               \"Validation acc: {}, Validation loss: {}\").format(\n",
        "                   epoch + 1,\n",
        "                   train_acc[epoch],\n",
        "                   train_loss[epoch],\n",
        "                   val_acc[epoch],\n",
        "                   val_loss[epoch]))\n",
        "        \n",
        "        # Save the current model (checkpoint) to a file\n",
        "        model_path = get_model_name(net.name, batch_size, learning_rate, epoch)\n",
        "        torch.save(net.state_dict(), model_path)\n",
        "    \n",
        "    print('Finished Training')\n",
        "    \n",
        "    # Write the train/test loss/accuracy into CSV file for plotting later\n",
        "    epochs = np.arange(1, num_epochs + 1)\n",
        "    np.savetxt(\"{}_train_acc.csv\".format(model_path), train_acc)\n",
        "    np.savetxt(\"{}_train_loss.csv\".format(model_path), train_loss)\n",
        "    np.savetxt(\"{}_val_acc.csv\".format(model_path), val_acc)\n",
        "    np.savetxt(\"{}_val_loss.csv\".format(model_path), val_loss)"
      ],
      "execution_count": 0,
      "outputs": []
    },
    {
      "cell_type": "code",
      "metadata": {
        "id": "CMHzZEp44MH5",
        "colab_type": "code",
        "colab": {
          "base_uri": "https://localhost:8080/",
          "height": 1000
        },
        "outputId": "cb109c80-6e56-4b84-d7b5-e2f67c308e1f"
      },
      "source": [
        "model = ANNClassifier_Alexnet()\n",
        "train_net(model, batch_size=128, learning_rate=0.001, num_epochs=150,\n",
        "    data_dir='/content/drive/My Drive/Colab Notebooks/Faces/alexnet')"
      ],
      "execution_count": 85,
      "outputs": [
        {
          "output_type": "stream",
          "text": [
            "/usr/local/lib/python3.6/dist-packages/ipykernel_launcher.py:152: UserWarning: Implicit dimension choice for softmax has been deprecated. Change the call to include dim=X as an argument.\n",
            "/usr/local/lib/python3.6/dist-packages/ipykernel_launcher.py:38: UserWarning: Implicit dimension choice for softmax has been deprecated. Change the call to include dim=X as an argument.\n",
            "/usr/local/lib/python3.6/dist-packages/ipykernel_launcher.py:67: UserWarning: Implicit dimension choice for softmax has been deprecated. Change the call to include dim=X as an argument.\n"
          ],
          "name": "stderr"
        },
        {
          "output_type": "stream",
          "text": [
            "Epoch 1: Train acc: 0.19298245614035087, Train loss: 1.991371556332237 |Validation acc: 0.19423558897243107, Validation loss: 1.9511304582868303\n",
            "Epoch 2: Train acc: 0.29406850459482037, Train loss: 1.9643450285259045 |Validation acc: 0.2832080200501253, Validation loss: 1.9447205407278878\n",
            "Epoch 3: Train acc: 0.27485380116959063, Train loss: 1.9552616320158307 |Validation acc: 0.2744360902255639, Validation loss: 1.9378997257777624\n",
            "Epoch 4: Train acc: 0.24143692564745195, Train loss: 1.948659194143195 |Validation acc: 0.24060150375939848, Validation loss: 1.9315038408551897\n",
            "Epoch 5: Train acc: 0.23976608187134502, Train loss: 1.9446124026649876 |Validation acc: 0.23684210526315788, Validation loss: 1.9250707626342773\n",
            "Epoch 6: Train acc: 0.24101921470342522, Train loss: 1.9400062561035156 |Validation acc: 0.23934837092731828, Validation loss: 1.9181295122419084\n",
            "Epoch 7: Train acc: 0.25647451963241436, Train loss: 1.9359785381116366 |Validation acc: 0.24436090225563908, Validation loss: 1.9109864916120256\n",
            "Epoch 8: Train acc: 0.26399331662489556, Train loss: 1.932002017372533 |Validation acc: 0.2506265664160401, Validation loss: 1.9023914337158203\n",
            "Epoch 9: Train acc: 0.2819548872180451, Train loss: 1.9270641929224919 |Validation acc: 0.2756892230576441, Validation loss: 1.8936117717197962\n",
            "Epoch 10: Train acc: 0.297827903091061, Train loss: 1.9212377447831004 |Validation acc: 0.2869674185463659, Validation loss: 1.8833293914794922\n",
            "Epoch 11: Train acc: 0.316624895572264, Train loss: 1.9153189408151727 |Validation acc: 0.3057644110275689, Validation loss: 1.873528344290597\n",
            "Epoch 12: Train acc: 0.33458646616541354, Train loss: 1.907371721769634 |Validation acc: 0.3208020050125313, Validation loss: 1.8620779854910714\n",
            "Epoch 13: Train acc: 0.3579782790309106, Train loss: 1.8997690301192434 |Validation acc: 0.34210526315789475, Validation loss: 1.8509432928902763\n",
            "Epoch 14: Train acc: 0.3868003341687552, Train loss: 1.8884492171438116 |Validation acc: 0.37218045112781956, Validation loss: 1.8348249707903181\n",
            "Epoch 15: Train acc: 0.3968253968253968, Train loss: 1.8826115256861637 |Validation acc: 0.38471177944862156, Validation loss: 1.8245438167027064\n",
            "Epoch 16: Train acc: 0.41604010025062654, Train loss: 1.8663719578793174 |Validation acc: 0.40225563909774437, Validation loss: 1.8029956817626953\n",
            "Epoch 17: Train acc: 0.4344193817878028, Train loss: 1.8620352494089227 |Validation acc: 0.41353383458646614, Validation loss: 1.7944935389927454\n",
            "Epoch 18: Train acc: 0.4340016708437761, Train loss: 1.8414812589946545 |Validation acc: 0.40100250626566414, Validation loss: 1.767505373273577\n",
            "Epoch 19: Train acc: 0.4548872180451128, Train loss: 1.8382821334035773 |Validation acc: 0.41353383458646614, Validation loss: 1.758742196219308\n",
            "Epoch 20: Train acc: 0.4519632414369256, Train loss: 1.8178379661158512 |Validation acc: 0.41729323308270677, Validation loss: 1.7339469364711217\n",
            "Epoch 21: Train acc: 0.46825396825396826, Train loss: 1.810530612343236 |Validation acc: 0.4348370927318296, Validation loss: 1.7200994491577148\n",
            "Epoch 22: Train acc: 0.4778613199665831, Train loss: 1.7969715720728825 |Validation acc: 0.43358395989974935, Validation loss: 1.7048486982073103\n",
            "Epoch 23: Train acc: 0.49331662489557226, Train loss: 1.7843123988101357 |Validation acc: 0.4598997493734336, Validation loss: 1.68876770564488\n",
            "Epoch 24: Train acc: 0.49916457811194653, Train loss: 1.7738783986944902 |Validation acc: 0.45864661654135336, Validation loss: 1.6771039962768555\n",
            "Epoch 25: Train acc: 0.5221386800334169, Train loss: 1.7620739183927838 |Validation acc: 0.48621553884711777, Validation loss: 1.6645682198660714\n",
            "Epoch 26: Train acc: 0.5263157894736842, Train loss: 1.7516381113152755 |Validation acc: 0.5, Validation loss: 1.6541143144880022\n",
            "Epoch 27: Train acc: 0.5421888053467001, Train loss: 1.7409019470214844 |Validation acc: 0.5225563909774437, Validation loss: 1.643685749598912\n",
            "Epoch 28: Train acc: 0.551796157059315, Train loss: 1.7311925386127673 |Validation acc: 0.5300751879699248, Validation loss: 1.6346964154924666\n",
            "Epoch 29: Train acc: 0.5680868838763575, Train loss: 1.7213883650930304 |Validation acc: 0.5488721804511278, Validation loss: 1.6256275177001953\n",
            "Epoch 30: Train acc: 0.5781119465329991, Train loss: 1.7125161823473478 |Validation acc: 0.5639097744360902, Validation loss: 1.6172800064086914\n",
            "Epoch 31: Train acc: 0.5873015873015873, Train loss: 1.7039594148334705 |Validation acc: 0.5701754385964912, Validation loss: 1.6098530633108956\n",
            "Epoch 32: Train acc: 0.5948203842940685, Train loss: 1.6957550048828125 |Validation acc: 0.5789473684210527, Validation loss: 1.6021432876586914\n",
            "Epoch 33: Train acc: 0.5998329156223893, Train loss: 1.6882205762361224 |Validation acc: 0.5877192982456141, Validation loss: 1.5953786032540458\n",
            "Epoch 34: Train acc: 0.6056808688387636, Train loss: 1.680463288959704 |Validation acc: 0.5914786967418546, Validation loss: 1.588829449244908\n",
            "Epoch 35: Train acc: 0.6111111111111112, Train loss: 1.673430794163754 |Validation acc: 0.5889724310776943, Validation loss: 1.5821499143327986\n",
            "Epoch 36: Train acc: 0.6157059314954052, Train loss: 1.6669785348992598 |Validation acc: 0.5952380952380952, Validation loss: 1.576425552368164\n",
            "Epoch 37: Train acc: 0.6194653299916458, Train loss: 1.6599682255795127 |Validation acc: 0.5989974937343359, Validation loss: 1.5702650887625558\n",
            "Epoch 38: Train acc: 0.6265664160401002, Train loss: 1.654385717291581 |Validation acc: 0.600250626566416, Validation loss: 1.565164429800851\n",
            "Epoch 39: Train acc: 0.6340852130325815, Train loss: 1.6476361124139083 |Validation acc: 0.6040100250626567, Validation loss: 1.5594729014805384\n",
            "Epoch 40: Train acc: 0.6390977443609023, Train loss: 1.6425276304546155 |Validation acc: 0.6090225563909775, Validation loss: 1.5547088895525252\n",
            "Epoch 41: Train acc: 0.6449456975772765, Train loss: 1.6359738801655017 |Validation acc: 0.6152882205513784, Validation loss: 1.5495010103498186\n",
            "Epoch 42: Train acc: 0.650375939849624, Train loss: 1.6313003740812604 |Validation acc: 0.6203007518796992, Validation loss: 1.545133181980678\n",
            "Epoch 43: Train acc: 0.6553884711779449, Train loss: 1.6248919838353206 |Validation acc: 0.6228070175438597, Validation loss: 1.5402684892926897\n",
            "Epoch 44: Train acc: 0.6620718462823726, Train loss: 1.6204483634547184 |Validation acc: 0.6340852130325815, Validation loss: 1.5361826760428292\n",
            "Epoch 45: Train acc: 0.6641604010025063, Train loss: 1.6144471419484991 |Validation acc: 0.6365914786967418, Validation loss: 1.5318235669817244\n",
            "Epoch 46: Train acc: 0.677109440267335, Train loss: 1.6099455984015214 |Validation acc: 0.6466165413533834, Validation loss: 1.5278919764927454\n",
            "Epoch 47: Train acc: 0.6804511278195489, Train loss: 1.6045791224429482 |Validation acc: 0.6528822055137845, Validation loss: 1.5240737370082311\n",
            "Epoch 48: Train acc: 0.6871345029239766, Train loss: 1.5998296235737048 |Validation acc: 0.656641604010025, Validation loss: 1.520303726196289\n",
            "Epoch 49: Train acc: 0.6888053467000835, Train loss: 1.5950170818128084 |Validation acc: 0.6604010025062657, Validation loss: 1.516822133745466\n",
            "Epoch 50: Train acc: 0.6946532999164579, Train loss: 1.590239073100843 |Validation acc: 0.6691729323308271, Validation loss: 1.5132545743669783\n",
            "Epoch 51: Train acc: 0.6963241436925648, Train loss: 1.5858068968120373 |Validation acc: 0.6716791979949874, Validation loss: 1.5100272042410714\n",
            "Epoch 52: Train acc: 0.7038429406850459, Train loss: 1.5811060855263157 |Validation acc: 0.6779448621553885, Validation loss: 1.5067610059465681\n",
            "Epoch 53: Train acc: 0.7059314954051796, Train loss: 1.5769438492624384 |Validation acc: 0.6779448621553885, Validation loss: 1.503680637904576\n",
            "Epoch 54: Train acc: 0.7113617376775272, Train loss: 1.5723337876169305 |Validation acc: 0.6867167919799498, Validation loss: 1.5005959102085658\n",
            "Epoch 55: Train acc: 0.7159565580618212, Train loss: 1.5682274667840255 |Validation acc: 0.6892230576441103, Validation loss: 1.4977027348109655\n",
            "Epoch 56: Train acc: 0.7201336675020885, Train loss: 1.5639204727975946 |Validation acc: 0.6942355889724311, Validation loss: 1.4948419843401228\n",
            "Epoch 57: Train acc: 0.722639933166249, Train loss: 1.5597809239437705 |Validation acc: 0.6954887218045113, Validation loss: 1.492063249860491\n",
            "Epoch 58: Train acc: 0.7268170426065163, Train loss: 1.5557797080592106 |Validation acc: 0.6992481203007519, Validation loss: 1.489356858389718\n",
            "Epoch 59: Train acc: 0.7297410192147035, Train loss: 1.5516956730892784 |Validation acc: 0.7030075187969925, Validation loss: 1.486731801714216\n",
            "Epoch 60: Train acc: 0.7330827067669173, Train loss: 1.5476958626195003 |Validation acc: 0.7030075187969925, Validation loss: 1.4841132845197404\n",
            "Epoch 61: Train acc: 0.7351712614870509, Train loss: 1.544004942241468 |Validation acc: 0.7092731829573935, Validation loss: 1.481644630432129\n",
            "Epoch 62: Train acc: 0.7389306599832915, Train loss: 1.5399483128597862 |Validation acc: 0.7105263157894737, Validation loss: 1.479179518563407\n",
            "Epoch 63: Train acc: 0.7418546365914787, Train loss: 1.536245346069336 |Validation acc: 0.7155388471177945, Validation loss: 1.4766110011509486\n",
            "Epoch 64: Train acc: 0.7451963241436925, Train loss: 1.532570286800987 |Validation acc: 0.7167919799498746, Validation loss: 1.4743449347359794\n",
            "Epoch 65: Train acc: 0.7481203007518797, Train loss: 1.5287279831735712 |Validation acc: 0.7192982456140351, Validation loss: 1.4718216487339564\n",
            "Epoch 66: Train acc: 0.7531328320802005, Train loss: 1.5253882157175165 |Validation acc: 0.7218045112781954, Validation loss: 1.4696934563773019\n",
            "Epoch 67: Train acc: 0.7560568086883876, Train loss: 1.5214818653307463 |Validation acc: 0.7268170426065163, Validation loss: 1.4672534125191825\n",
            "Epoch 68: Train acc: 0.758563074352548, Train loss: 1.5181961059570312 |Validation acc: 0.7255639097744361, Validation loss: 1.465212004525321\n",
            "Epoch 69: Train acc: 0.7610693400167085, Train loss: 1.5144374245091488 |Validation acc: 0.7255639097744361, Validation loss: 1.46292359488351\n",
            "Epoch 70: Train acc: 0.7631578947368421, Train loss: 1.5111670243112665 |Validation acc: 0.7293233082706767, Validation loss: 1.4609417234148299\n",
            "Epoch 71: Train acc: 0.7660818713450293, Train loss: 1.5075292085346423 |Validation acc: 0.7293233082706767, Validation loss: 1.4587657111031669\n",
            "Epoch 72: Train acc: 0.7706766917293233, Train loss: 1.5043539749948602 |Validation acc: 0.7305764411027569, Validation loss: 1.4568444660731725\n",
            "Epoch 73: Train acc: 0.7719298245614035, Train loss: 1.5008255807976973 |Validation acc: 0.7305764411027569, Validation loss: 1.4547120503016882\n",
            "Epoch 74: Train acc: 0.7736006683375104, Train loss: 1.497642717863384 |Validation acc: 0.7305764411027569, Validation loss: 1.45278685433524\n",
            "Epoch 75: Train acc: 0.7752715121136173, Train loss: 1.4942011582223993 |Validation acc: 0.731829573934837, Validation loss: 1.4507594789777483\n",
            "Epoch 76: Train acc: 0.777360066833751, Train loss: 1.4910592530903064 |Validation acc: 0.7368421052631579, Validation loss: 1.4488367353166853\n",
            "Epoch 77: Train acc: 0.779030910609858, Train loss: 1.4878048143888776 |Validation acc: 0.7380952380952381, Validation loss: 1.4469330651419503\n",
            "Epoch 78: Train acc: 0.7832080200501254, Train loss: 1.484598159790039 |Validation acc: 0.7380952380952381, Validation loss: 1.4450460161481584\n",
            "Epoch 79: Train acc: 0.7848788638262323, Train loss: 1.4814825559917248 |Validation acc: 0.7380952380952381, Validation loss: 1.443214280264718\n",
            "Epoch 80: Train acc: 0.7882205513784462, Train loss: 1.47837317617316 |Validation acc: 0.7406015037593985, Validation loss: 1.4414314542497908\n",
            "Epoch 81: Train acc: 0.7894736842105263, Train loss: 1.47526720950478 |Validation acc: 0.7431077694235589, Validation loss: 1.439552170889718\n",
            "Epoch 82: Train acc: 0.7919799498746867, Train loss: 1.4721657602410567 |Validation acc: 0.7418546365914787, Validation loss: 1.4378114427839006\n",
            "Epoch 83: Train acc: 0.7936507936507936, Train loss: 1.4691979257684005 |Validation acc: 0.7431077694235589, Validation loss: 1.4360104969569616\n",
            "Epoch 84: Train acc: 0.7957393483709273, Train loss: 1.466204191509046 |Validation acc: 0.7431077694235589, Validation loss: 1.434410640171596\n",
            "Epoch 85: Train acc: 0.797827903091061, Train loss: 1.4631469124241878 |Validation acc: 0.7443609022556391, Validation loss: 1.432523454938616\n",
            "Epoch 86: Train acc: 0.7982456140350878, Train loss: 1.460207085860403 |Validation acc: 0.7456140350877193, Validation loss: 1.4308523450578963\n",
            "Epoch 87: Train acc: 0.8003341687552213, Train loss: 1.4572932594700863 |Validation acc: 0.7456140350877193, Validation loss: 1.4290849140712194\n",
            "Epoch 88: Train acc: 0.8007518796992481, Train loss: 1.4542320653011924 |Validation acc: 0.7481203007518797, Validation loss: 1.4273323331560408\n",
            "Epoch 89: Train acc: 0.8032581453634086, Train loss: 1.4516332525956004 |Validation acc: 0.7481203007518797, Validation loss: 1.4257146290370397\n",
            "Epoch 90: Train acc: 0.8049289891395155, Train loss: 1.4484095322458368 |Validation acc: 0.7518796992481203, Validation loss: 1.4239352090018136\n",
            "Epoch 91: Train acc: 0.808688387635756, Train loss: 1.4457338232743113 |Validation acc: 0.7556390977443609, Validation loss: 1.4222662789481026\n",
            "Epoch 92: Train acc: 0.8128654970760234, Train loss: 1.4427317569130345 |Validation acc: 0.7568922305764411, Validation loss: 1.4205938066755022\n",
            "Epoch 93: Train acc: 0.8153717627401837, Train loss: 1.4400178005820827 |Validation acc: 0.7631578947368421, Validation loss: 1.4188464028494698\n",
            "Epoch 94: Train acc: 0.8170426065162907, Train loss: 1.4370660279926502 |Validation acc: 0.7644110275689223, Validation loss: 1.417217527117048\n",
            "Epoch 95: Train acc: 0.8195488721804511, Train loss: 1.4343571913869757 |Validation acc: 0.7644110275689223, Validation loss: 1.415405000959124\n",
            "Epoch 96: Train acc: 0.8220551378446115, Train loss: 1.4315249794407894 |Validation acc: 0.7669172932330827, Validation loss: 1.4137817110334123\n",
            "Epoch 97: Train acc: 0.8249791144527987, Train loss: 1.4288042971962376 |Validation acc: 0.768170426065163, Validation loss: 1.4120502471923828\n",
            "Epoch 98: Train acc: 0.8279030910609858, Train loss: 1.4260391436125104 |Validation acc: 0.7669172932330827, Validation loss: 1.4104727336338587\n",
            "Epoch 99: Train acc: 0.8304093567251462, Train loss: 1.4233626315468235 |Validation acc: 0.768170426065163, Validation loss: 1.4086508069719588\n",
            "Epoch 100: Train acc: 0.8320802005012531, Train loss: 1.4206137406198602 |Validation acc: 0.7719298245614035, Validation loss: 1.4070986339024134\n",
            "Epoch 101: Train acc: 0.8350041771094403, Train loss: 1.418033198306435 |Validation acc: 0.7756892230576441, Validation loss: 1.4053995949881417\n",
            "Epoch 102: Train acc: 0.8391812865497076, Train loss: 1.4152963537918894 |Validation acc: 0.7781954887218046, Validation loss: 1.4037562779017858\n",
            "Epoch 103: Train acc: 0.8404344193817878, Train loss: 1.4128024452611019 |Validation acc: 0.7807017543859649, Validation loss: 1.4021173204694475\n",
            "Epoch 104: Train acc: 0.8429406850459482, Train loss: 1.4100490369294818 |Validation acc: 0.7819548872180451, Validation loss: 1.400416374206543\n",
            "Epoch 105: Train acc: 0.8467000835421888, Train loss: 1.407634132786801 |Validation acc: 0.7819548872180451, Validation loss: 1.398892947605678\n",
            "Epoch 106: Train acc: 0.847953216374269, Train loss: 1.4049073269492702 |Validation acc: 0.7832080200501254, Validation loss: 1.397308349609375\n",
            "Epoch 107: Train acc: 0.849624060150376, Train loss: 1.4023943449321545 |Validation acc: 0.7844611528822055, Validation loss: 1.3957007271902901\n",
            "Epoch 108: Train acc: 0.8504594820384294, Train loss: 1.3999126835873252 |Validation acc: 0.7832080200501254, Validation loss: 1.3941586358206612\n",
            "Epoch 109: Train acc: 0.852548036758563, Train loss: 1.3973439869127775 |Validation acc: 0.7882205513784462, Validation loss: 1.3925822121756417\n",
            "Epoch 110: Train acc: 0.8529657477025898, Train loss: 1.3948767812628495 |Validation acc: 0.7894736842105263, Validation loss: 1.391162736075265\n",
            "Epoch 111: Train acc: 0.8550543024227235, Train loss: 1.3924621782804791 |Validation acc: 0.7919799498746867, Validation loss: 1.3896356310163225\n",
            "Epoch 112: Train acc: 0.8575605680868839, Train loss: 1.3899864397550885 |Validation acc: 0.7907268170426065, Validation loss: 1.388242312840053\n",
            "Epoch 113: Train acc: 0.8592314118629908, Train loss: 1.3875554737291838 |Validation acc: 0.7919799498746867, Validation loss: 1.3867348262241908\n",
            "Epoch 114: Train acc: 0.860484544695071, Train loss: 1.3851409711335834 |Validation acc: 0.793233082706767, Validation loss: 1.3854058129446847\n",
            "Epoch 115: Train acc: 0.8621553884711779, Train loss: 1.3828407086824115 |Validation acc: 0.7969924812030075, Validation loss: 1.3839802060808455\n",
            "Epoch 116: Train acc: 0.8638262322472848, Train loss: 1.380493866769891 |Validation acc: 0.7969924812030075, Validation loss: 1.3826750346592493\n",
            "Epoch 117: Train acc: 0.8650793650793651, Train loss: 1.3781967163085938 |Validation acc: 0.7982456140350878, Validation loss: 1.3812968390328544\n",
            "Epoch 118: Train acc: 0.8659147869674185, Train loss: 1.3758740676076788 |Validation acc: 0.7982456140350878, Validation loss: 1.3799992970057897\n",
            "Epoch 119: Train acc: 0.8675856307435255, Train loss: 1.3736474890457957 |Validation acc: 0.8020050125313283, Validation loss: 1.3786942618233817\n",
            "Epoch 120: Train acc: 0.8700918964076859, Train loss: 1.3714337599904913 |Validation acc: 0.8007518796992481, Validation loss: 1.3774948120117188\n",
            "Epoch 121: Train acc: 0.8709273182957393, Train loss: 1.3693029504073293 |Validation acc: 0.8007518796992481, Validation loss: 1.3762224742344447\n",
            "Epoch 122: Train acc: 0.8738512949039264, Train loss: 1.3671667199385793 |Validation acc: 0.8032581453634086, Validation loss: 1.3750580378941126\n",
            "Epoch 123: Train acc: 0.8742690058479532, Train loss: 1.3650181418971012 |Validation acc: 0.8070175438596491, Validation loss: 1.3738603591918945\n",
            "Epoch 124: Train acc: 0.8751044277360067, Train loss: 1.3629297959177118 |Validation acc: 0.8082706766917294, Validation loss: 1.3726763044084822\n",
            "Epoch 125: Train acc: 0.8755221386800334, Train loss: 1.3609019831607216 |Validation acc: 0.8082706766917294, Validation loss: 1.3715358461652483\n",
            "Epoch 126: Train acc: 0.8771929824561403, Train loss: 1.3588192588404606 |Validation acc: 0.8107769423558897, Validation loss: 1.3703245435442244\n",
            "Epoch 127: Train acc: 0.879281537176274, Train loss: 1.3568098168624074 |Validation acc: 0.8107769423558897, Validation loss: 1.369286400931222\n",
            "Epoch 128: Train acc: 0.8796992481203008, Train loss: 1.354922746357165 |Validation acc: 0.8107769423558897, Validation loss: 1.3681037085396903\n",
            "Epoch 129: Train acc: 0.8801169590643275, Train loss: 1.3529342852140729 |Validation acc: 0.8120300751879699, Validation loss: 1.3670662471226283\n",
            "Epoch 130: Train acc: 0.8813700918964077, Train loss: 1.3510686974776418 |Validation acc: 0.8120300751879699, Validation loss: 1.366002082824707\n",
            "Epoch 131: Train acc: 0.8817878028404345, Train loss: 1.3492212797466077 |Validation acc: 0.8120300751879699, Validation loss: 1.3649571282523019\n",
            "Epoch 132: Train acc: 0.8826232247284879, Train loss: 1.3473023866352283 |Validation acc: 0.8132832080200502, Validation loss: 1.3639060429164342\n",
            "Epoch 133: Train acc: 0.8830409356725146, Train loss: 1.3456782290810032 |Validation acc: 0.8132832080200502, Validation loss: 1.362907954624721\n",
            "Epoch 134: Train acc: 0.8834586466165414, Train loss: 1.343745884142424 |Validation acc: 0.8132832080200502, Validation loss: 1.3618594578334264\n",
            "Epoch 135: Train acc: 0.8842940685045948, Train loss: 1.3421982213070518 |Validation acc: 0.8145363408521303, Validation loss: 1.360909870692662\n",
            "Epoch 136: Train acc: 0.8868003341687553, Train loss: 1.3402711968672902 |Validation acc: 0.8170426065162907, Validation loss: 1.3599014282226562\n",
            "Epoch 137: Train acc: 0.8876357560568087, Train loss: 1.3387263448614823 |Validation acc: 0.8195488721804511, Validation loss: 1.3589616503034319\n",
            "Epoch 138: Train acc: 0.8880534670008354, Train loss: 1.3369857386538857 |Validation acc: 0.8195488721804511, Validation loss: 1.3579765047345842\n",
            "Epoch 139: Train acc: 0.8884711779448622, Train loss: 1.335383465415553 |Validation acc: 0.8220551378446115, Validation loss: 1.3570605686732702\n",
            "Epoch 140: Train acc: 0.8888888888888888, Train loss: 1.3336671528063322 |Validation acc: 0.8208020050125313, Validation loss: 1.3560846873692103\n",
            "Epoch 141: Train acc: 0.8901420217209691, Train loss: 1.3321717914782072 |Validation acc: 0.8233082706766918, Validation loss: 1.3552014487130302\n",
            "Epoch 142: Train acc: 0.8909774436090225, Train loss: 1.3305389002749795 |Validation acc: 0.8233082706766918, Validation loss: 1.3542687552315849\n",
            "Epoch 143: Train acc: 0.8913951545530493, Train loss: 1.3289268895199424 |Validation acc: 0.8245614035087719, Validation loss: 1.353334971836635\n",
            "Epoch 144: Train acc: 0.8918128654970761, Train loss: 1.327417674817537 |Validation acc: 0.8258145363408521, Validation loss: 1.3524188995361328\n",
            "Epoch 145: Train acc: 0.8922305764411027, Train loss: 1.3259368695710834 |Validation acc: 0.8258145363408521, Validation loss: 1.3514998299734933\n",
            "Epoch 146: Train acc: 0.893483709273183, Train loss: 1.3244139018811678 |Validation acc: 0.8270676691729323, Validation loss: 1.3506596429007394\n",
            "Epoch 147: Train acc: 0.8939014202172096, Train loss: 1.3229685331645764 |Validation acc: 0.8283208020050126, Validation loss: 1.3497205461774553\n",
            "Epoch 148: Train acc: 0.8943191311612364, Train loss: 1.3215027859336452 |Validation acc: 0.8283208020050126, Validation loss: 1.3489193235124861\n",
            "Epoch 149: Train acc: 0.8955722639933166, Train loss: 1.3201475645366467 |Validation acc: 0.8308270676691729, Validation loss: 1.3480253219604492\n",
            "Epoch 150: Train acc: 0.8955722639933166, Train loss: 1.3186256007144326 |Validation acc: 0.8320802005012531, Validation loss: 1.3471407209123885\n",
            "Finished Training\n"
          ],
          "name": "stdout"
        }
      ]
    },
    {
      "cell_type": "code",
      "metadata": {
        "id": "WBO79gZH4StT",
        "colab_type": "code",
        "colab": {
          "base_uri": "https://localhost:8080/",
          "height": 607
        },
        "outputId": "e1e7e174-f45b-4201-b8ba-5336dd8a7a55"
      },
      "source": [
        "model_path = get_model_name(\"alexnet_ann\", batch_size=128, learning_rate=0.001, epoch=149)\n",
        "plot_training_curve('/content/' + model_path)"
      ],
      "execution_count": 86,
      "outputs": [
        {
          "output_type": "display_data",
          "data": {
            "image/png": "[encoded data removed]",
            "text/plain": [
              "<Figure size 432x288 with 1 Axes>"
            ]
          },
          "metadata": {
            "tags": []
          }
        },
        {
          "output_type": "display_data",
          "data": {
            "image/png": "[encoded data removed]",
            "text/plain": [
              "<Figure size 432x288 with 1 Axes>"
            ]
          },
          "metadata": {
            "tags": []
          }
        },
        {
          "output_type": "stream",
          "text": [
            "Final Training Accuracy: 0.8955722639933166\n",
            "Final Validation Accuracy: 0.8320802005012531\n"
          ],
          "name": "stdout"
        }
      ]
    },
    {
      "cell_type": "code",
      "metadata": {
        "id": "ZANRBIiYd2F_",
        "colab_type": "code",
        "colab": {
          "base_uri": "https://localhost:8080/",
          "height": 71
        },
        "outputId": "a80ec802-1980-4e8d-efa5-71a3e388e199"
      },
      "source": [
        "model = ANNClassifier_Alexnet()\n",
        "model_path = get_model_name(\"alexnet_ann\", batch_size=128, learning_rate=0.001, epoch=149)\n",
        "\n",
        "state = torch.load('/content/' + model_path)\n",
        "model.load_state_dict(state)\n",
        "\n",
        "data_dir='/content/drive/My Drive/Colab Notebooks/Faces/alexnet'\n",
        "\n",
        "train_loader, val_loader, test_loader = get_features_data_loader(data_dir=data_dir, batch_size=128)\n",
        "\n",
        "criterion = nn.CrossEntropyLoss()\n",
        "test_acc, test_loss = evaluate(model, test_loader, criterion)\n",
        "print(\"Test classification accuracy:\", test_acc)"
      ],
      "execution_count": 91,
      "outputs": [
        {
          "output_type": "stream",
          "text": [
            "/usr/local/lib/python3.6/dist-packages/ipykernel_launcher.py:67: UserWarning: Implicit dimension choice for softmax has been deprecated. Change the call to include dim=X as an argument.\n"
          ],
          "name": "stderr"
        },
        {
          "output_type": "stream",
          "text": [
            "Test classification accuracy: 0.8329081632653061\n"
          ],
          "name": "stdout"
        }
      ]
    }
  ]
}