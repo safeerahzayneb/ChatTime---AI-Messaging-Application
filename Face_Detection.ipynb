{
  "nbformat": 4,
  "nbformat_minor": 0,
  "metadata": {
    "colab": {
      "name": "Face_Detection.ipynb",
      "provenance": [],
      "collapsed_sections": [],
      "machine_shape": "hm",
      "include_colab_link": true
    },
    "kernelspec": {
      "name": "python3",
      "display_name": "Python 3"
    },
    "accelerator": "GPU"
  },
  "cells": [
    {
      "cell_type": "markdown",
      "metadata": {
        "id": "view-in-github",
        "colab_type": "text"
      },
      "source": [
        "<a href=\"https://colab.research.google.com/github/yanli499/ChatTime/blob/master/Face_Detection.ipynb\" target=\"_parent\"><img src=\"https://colab.research.google.com/assets/colab-badge.svg\" alt=\"Open In Colab\"/></a>"
      ]
    },
    {
      "cell_type": "code",
      "metadata": {
        "id": "Ne2bpo2avzHS",
        "colab_type": "code",
        "colab": {}
      },
      "source": [
        "# ALL import statements\n",
        "import os\n",
        "import shutil\n",
        "import copy\n",
        "import time\n",
        "import math\n",
        "import random\n",
        "import numpy as np\n",
        "import torch\n",
        "import torch.nn as nn\n",
        "import torch.nn.functional as F\n",
        "import torch.optim as optim\n",
        "import torchvision\n",
        "import torchvision.models\n",
        "import torchvision.transforms as transforms\n",
        "import matplotlib.pyplot as plt\n",
        "\n",
        "from PIL import Image\n",
        "from torchvision import datasets, models, transforms\n",
        "from torch.optim import lr_scheduler\n",
        "from torch.autograd import Variable"
      ],
      "execution_count": 0,
      "outputs": []
    },
    {
      "cell_type": "code",
      "metadata": {
        "id": "eCdCgvkgiqYw",
        "colab_type": "code",
        "outputId": "011cb9d0-e739-48fe-92dd-4085818489ac",
        "colab": {
          "base_uri": "https://localhost:8080/",
          "height": 34
        }
      },
      "source": [
        "# Mount our Google Drive\n",
        "# re-run whenever needed\n",
        "from google.colab import drive\n",
        "drive.mount('/content/drive')"
      ],
      "execution_count": 23,
      "outputs": [
        {
          "output_type": "stream",
          "text": [
            "Drive already mounted at /content/drive; to attempt to forcibly remount, call drive.mount(\"/content/drive\", force_remount=True).\n"
          ],
          "name": "stdout"
        }
      ]
    },
    {
      "cell_type": "code",
      "metadata": {
        "id": "Ir_dLCntisAH",
        "colab_type": "code",
        "colab": {}
      },
      "source": [
        "# Global variables\n",
        "# classes are folders in each directory with these names\n",
        "classes = ['afraid','angry','disgusted','happy','neutral','sad','surprised']\n",
        "\n",
        "# emotion label for KDEF photos\n",
        "emotion_code = {\"AF\":\"afraid\", \"AN\":\"angry\", \"DI\":\"disgusted\", \"HA\":\"happy\", \n",
        "                \"NE\":\"neutral\", \"SA\":\"sad\", \"SU\":\"surprised\"}\n",
        "\n",
        "data_dir='/content/drive/My Drive/Colab Notebooks/Faces'"
      ],
      "execution_count": 0,
      "outputs": []
    },
    {
      "cell_type": "code",
      "metadata": {
        "id": "dLljEYqZAWVz",
        "colab_type": "code",
        "colab": {}
      },
      "source": [
        "# Call this function once only!\n",
        "\"\"\"\n",
        "Logic for sorting thru dataseta for desired images:\n",
        "KDEF:\n",
        "- Example file name: AF01ANS.JPG\n",
        "- Check:\n",
        "    - length of name = 7, for straight profile only, ends with \"S.jpg\"\n",
        "    - str[4:5] = {\"AF\":\"afraid\", \"AN\":\"angry\", \"DI\":\"disgusted\", \"HA\":\"happy\",\n",
        "    \"NE\":\"neutral\", \"SA\":sad\", \"SU\":\"surprised\"}\n",
        "\"\"\"\n",
        "\n",
        "def create_useful_dataset(): \n",
        "    # delete existing folder\n",
        "    if os.path.exists(data_dir+'/'):\n",
        "        shutil.rmtree(data_dir+'/')\n",
        "\n",
        "    # make new directories for each emotion class + train, val, test\n",
        "    try:\n",
        "        os.mkdir(data_dir)\n",
        "\n",
        "        for i in range(len(classes)):\n",
        "            os.mkdir(data_dir+'/'+classes[i])\n",
        "\n",
        "        os.mkdir(data_dir+'/train')\n",
        "        for i in range(len(classes)):\n",
        "            os.mkdir(data_dir+'/train/'+classes[i])\n",
        "        \n",
        "        os.mkdir(data_dir+'/val')\n",
        "        for i in range(len(classes)):\n",
        "            os.mkdir(data_dir+'/val/'+classes[i])\n",
        "\n",
        "        os.mkdir(data_dir+'/test')\n",
        "        for i in range(len(classes)):\n",
        "            os.mkdir(data_dir+'/test/'+classes[i])\n",
        "\n",
        "    except OSError:\n",
        "        print (\"Creation of the directories failed!\")\n",
        "    else:\n",
        "        print (\"Successfully created the directories!\")\n",
        "\n",
        "    # rootdir = path to KDEF main folder\n",
        "    rootdir = '/content/drive/My Drive/Colab Notebooks/PROJECT/KDEF/'\n",
        "\n",
        "    # go thru KDEF data + sort out desired photos\n",
        "    for subdir, dirs, files in os.walk(rootdir):\n",
        "        for file in files:\n",
        "            filename = subdir + os.sep + file\n",
        "            if (file.endswith(\"S.jpg\") or file.endswith(\"S.JPG\")): \n",
        "                \"\"\"\n",
        "                For each straight profile photo:\n",
        "                    - convert RGB --> Grayscale\n",
        "                    - make 4 copies of photo: original orientation, rotate 5 degrees\n",
        "                        clockwise (cw), rotate counter-clockwise (ccw), flip horizontally\n",
        "                    - resize all to 256 x 256 pixels, b/c will center crop to 224 x 224 later\n",
        "                    - then save in the corresponding emotion class folder\n",
        "                \"\"\"\n",
        "                img = Image.open(filename).convert('L')\n",
        "                img_cw = img.rotate(350)\n",
        "                img_ccw = img.rotate(10)\n",
        "                img_flip = img.transpose(Image.FLIP_LEFT_RIGHT)\n",
        "\n",
        "                new_img = img.resize((256, 256))\n",
        "                new_img_cw = img_cw.resize((256, 256))\n",
        "                new_img_ccw = img_ccw.resize((256, 256))\n",
        "                new_img_flip = img_flip.resize((256, 256))\n",
        "\n",
        "                label = file[4:6]\n",
        "                new_img.save(data_dir+'/'+emotion_code[label]+'/'+file)\n",
        "                new_img_cw.save(data_dir+'/'+emotion_code[label]+'/'+'1'+file)\n",
        "                new_img_ccw.save(data_dir+'/'+emotion_code[label]+'/'+'2'+file)\n",
        "                new_img_flip.save(data_dir+'/'+emotion_code[label]+'/'+'3'+file)"
      ],
      "execution_count": 0,
      "outputs": []
    },
    {
      "cell_type": "code",
      "metadata": {
        "id": "_ONtGEPi4oIH",
        "colab_type": "code",
        "colab": {}
      },
      "source": [
        "def split_data_to_subsets():   \n",
        "    # Split data into train, val, test datasets (60:20:20)\n",
        "    # each class = ~568 images --> ~340 train, ~114 val, ~114 test\n",
        "\n",
        "    # divide data into train, val, + test\n",
        "    # for each emotion class, get filenames, shuffle, \n",
        "    # divide, move to corresponding folders\n",
        "    for cla in classes:\n",
        "        filepath = data_dir+'/'+cla\n",
        "        names = []\n",
        "\n",
        "        for file in os.listdir(filepath):\n",
        "            names.append(file)\n",
        "\n",
        "        random.shuffle(names)\n",
        "        num_files = len(names)\n",
        "\n",
        "        for ind, name in enumerate(names):\n",
        "            if(ind <= math.ceil(0.6 * num_files)):\n",
        "                # Move to train\n",
        "                shutil.move(filepath+'/'+name, data_dir+'/train/'+cla+'/'+name)\n",
        "            elif(ind <= math.ceil(0.8 * num_files)):\n",
        "                # Move to val\n",
        "                shutil.move(filepath+'/'+name, data_dir+'/val/'+cla+'/'+name)\n",
        "            else:\n",
        "                # Move to test\n",
        "                shutil.move(filepath+'/'+name, data_dir+'/test/'+cla+'/'+name)"
      ],
      "execution_count": 0,
      "outputs": []
    },
    {
      "cell_type": "code",
      "metadata": {
        "id": "t2Fuh2e3nsyt",
        "colab_type": "code",
        "outputId": "dca3a9c2-670f-4fbb-83c2-a90f5bbebfec",
        "colab": {
          "base_uri": "https://localhost:8080/",
          "height": 34
        }
      },
      "source": [
        "# Run only when necessary\n",
        "create_useful_dataset()\n",
        "split_data_to_subsets()"
      ],
      "execution_count": 27,
      "outputs": [
        {
          "output_type": "stream",
          "text": [
            "Successfully created the directories!\n"
          ],
          "name": "stdout"
        }
      ]
    },
    {
      "cell_type": "code",
      "metadata": {
        "id": "qhMNWF1POQR7",
        "colab_type": "code",
        "outputId": "94072651-0c05-46d5-968e-289e1a742977",
        "colab": {
          "base_uri": "https://localhost:8080/",
          "height": 51
        }
      },
      "source": [
        "alexnet = torchvision.models.alexnet(pretrained=True)\n",
        "vgg16 = torchvision.models.vgg16(pretrained=True)\n",
        "\n",
        "torch.manual_seed(1) # set the random seed\n",
        "\n",
        "classes = ['afraid','angry','disgusted','happy','neutral','sad','surprised']\n",
        "\n",
        "data_dir='/content/drive/My Drive/Colab Notebooks/Faces/'\n",
        "\n",
        "batch_size=1\n",
        "\n",
        "# define training and test data directories\n",
        "train_dir = os.path.join(data_dir, 'train/')\n",
        "val_dir = os.path.join(data_dir, 'val/')\n",
        "test_dir = os.path.join(data_dir, 'test/')\n",
        "\n",
        "data_transform = transforms.Compose([transforms.CenterCrop(224), \n",
        "                                      transforms.ToTensor()])\n",
        "\n",
        "train_data = datasets.ImageFolder(train_dir, transform=data_transform)\n",
        "val_data = datasets.ImageFolder(val_dir, transform=data_transform)\n",
        "test_data = datasets.ImageFolder(test_dir, transform=data_transform)\n",
        "    \n",
        "train_loader = torch.utils.data.DataLoader(train_data, batch_size=batch_size)\n",
        "val_loader = torch.utils.data.DataLoader(val_data, batch_size=batch_size)\n",
        "test_loader = torch.utils.data.DataLoader(test_data, batch_size=batch_size)\n",
        "\n",
        "# delete existing folder\n",
        "if os.path.exists(data_dir+'vgg16'):\n",
        "    shutil.rmtree(data_dir+'vgg16')\n",
        "\n",
        "try:\n",
        "    os.mkdir(data_dir+'vgg16')\n",
        "\n",
        "    os.mkdir(data_dir+'vgg16/train')\n",
        "    for i in range(len(classes)):\n",
        "        os.mkdir(data_dir+'vgg16/train/'+classes[i])\n",
        "    \n",
        "    os.mkdir(data_dir+'vgg16/val')\n",
        "    for i in range(len(classes)):\n",
        "        os.mkdir(data_dir+'vgg16/val/'+classes[i])\n",
        "\n",
        "    os.mkdir(data_dir+'vgg16/test')\n",
        "    for i in range(len(classes)):\n",
        "        os.mkdir(data_dir+'vgg16/test/'+classes[i])\n",
        "\n",
        "except OSError:\n",
        "    print (\"Creation of the directories failed!\")\n",
        "else:\n",
        "    print (\"Successfully created the directories!\")\n",
        "\n",
        "\n",
        "# delete existing folder\n",
        "if os.path.exists(data_dir+'alexnet'):\n",
        "    shutil.rmtree(data_dir+'alexnet')\n",
        "\n",
        "try:\n",
        "    os.mkdir(data_dir+'alexnet')\n",
        "\n",
        "    os.mkdir(data_dir+'alexnet/train')\n",
        "    for i in range(len(classes)):\n",
        "        os.mkdir(data_dir+'alexnet/train/'+classes[i])\n",
        "    \n",
        "    os.mkdir(data_dir+'alexnet/val')\n",
        "    for i in range(len(classes)):\n",
        "        os.mkdir(data_dir+'alexnet/val/'+classes[i])\n",
        "\n",
        "    os.mkdir(data_dir+'alexnet/test')\n",
        "    for i in range(len(classes)):\n",
        "        os.mkdir(data_dir+'alexnet/test/'+classes[i])\n",
        "\n",
        "except OSError:\n",
        "    print (\"Creation of the directories failed!\")\n",
        "else:\n",
        "    print (\"Successfully created the directories!\")\n",
        "\n",
        "\n",
        "\n",
        "def save_tensor(dir_name, features, label, img_num):\n",
        "  path='/content/drive/My Drive/Colab Notebooks/Faces/'+dir_name\n",
        "  if (label.item() == 0):\n",
        "    torch.save(features, path + '/afraid/features_' + str(img_num) + '.tensor')\n",
        "  if (label.item() == 1):\n",
        "    torch.save(features, path + '/angry/features_' + str(img_num) + '.tensor')\n",
        "  if (label.item() == 2):\n",
        "    torch.save(features, path + '/disgusted/features_' + str(img_num) + '.tensor')\n",
        "  if (label.item() == 3):\n",
        "    torch.save(features, path + '/happy/features_' + str(img_num) + '.tensor')\n",
        "  if (label.item() == 4):\n",
        "    torch.save(features, path + '/neutral/features_' + str(img_num) + '.tensor')\n",
        "  if (label.item() == 5):\n",
        "    torch.save(features, path + '/sad/features_' + str(img_num) + '.tensor')\n",
        "  if (label.item() == 6):\n",
        "    torch.save(features, path + '/surprised/features_' + str(img_num) + '.tensor')\n",
        "  \n",
        "\n",
        "i = 0\n",
        "for img, label in train_loader:\n",
        "    features = vgg16.features(img)\n",
        "    save_tensor('vgg16/train', features, label, i)\n",
        "    i+=1\n",
        "\n",
        "i = 0\n",
        "for img, label in val_loader:\n",
        "    features = vgg16.features(img)\n",
        "    save_tensor('vgg16/val', features, label, i)\n",
        "    i+=1\n",
        "\n",
        "i = 0\n",
        "for img, label in test_loader:\n",
        "    features = vgg16.features(img)\n",
        "    save_tensor('vgg16/test', features, label, i)\n",
        "    i+=1\n",
        "\n",
        "\n",
        "\n",
        "\n",
        "i = 0\n",
        "for img, label in train_loader:\n",
        "    features = alexnet.features(img)\n",
        "    save_tensor('alexnet/train', features, label, i)\n",
        "    i+=1\n",
        "\n",
        "i = 0\n",
        "for img, label in val_loader:\n",
        "    features = alexnet.features(img)\n",
        "    save_tensor('alexnet/val', features, label, i)\n",
        "    i+=1\n",
        "\n",
        "i = 0\n",
        "for img, label in test_loader:\n",
        "    features = alexnet.features(img)\n",
        "    save_tensor('alexnet/test', features, label, i)\n",
        "    i+=1\n",
        "    \n"
      ],
      "execution_count": 28,
      "outputs": [
        {
          "output_type": "stream",
          "text": [
            "Successfully created the directories!\n",
            "Successfully created the directories!\n"
          ],
          "name": "stdout"
        }
      ]
    },
    {
      "cell_type": "code",
      "metadata": {
        "id": "2jRGd1Pml3rp",
        "colab_type": "code",
        "colab": {}
      },
      "source": [
        "#Artifical Neural Network Architecture\n",
        "class ANNClassifier_Alexnet(nn.Module):\n",
        "    def __init__(self):\n",
        "        super(ANNClassifier_Alexnet, self).__init__()\n",
        "        self.name = \"alexnet_ann\"\n",
        "        self.fc1 = nn.Linear(256 * 6 * 6, 300)\n",
        "        self.fc2 = nn.Linear(300, 7)\n",
        "\n",
        "    def forward(self, x):\n",
        "        x = x.view(-1, 256 * 6 * 6) #flatten feature data\n",
        "        x = F.relu(self.fc1(x))\n",
        "        x = self.fc2(x)\n",
        "        return x\n",
        "\n",
        "#Artifical Neural Network Architecture\n",
        "class ANNClassifier_VGG16(nn.Module):\n",
        "    def __init__(self):\n",
        "        super(ANNClassifier_VGG16, self).__init__()\n",
        "        self.name = \"vgg16_ann\"\n",
        "        self.fc1 = nn.Linear(512*7*7, 300)\n",
        "        self.fc2 = nn.Linear(300, 7)\n",
        "\n",
        "    def forward(self, x):\n",
        "        x = x.view(-1, 512*7*7) #flatten feature data\n",
        "        x = F.relu(self.fc1(x))\n",
        "        x = self.fc2(x)\n",
        "        return x\n",
        "      \n",
        "#output = model(features)\n",
        "#prob = F.softmax(output)"
      ],
      "execution_count": 0,
      "outputs": []
    },
    {
      "cell_type": "code",
      "metadata": {
        "id": "rgA7U1k0mFfO",
        "colab_type": "code",
        "colab": {}
      },
      "source": [
        "def load_feature(loc): \n",
        "    return torch.load(loc)\n",
        "\n",
        "# Data Loading\n",
        "def get_data_loader(data_dir, batch_size):\n",
        "  \n",
        "    # mount our Google Drive\n",
        "    from google.colab import drive\n",
        "    drive.mount('/content/drive')\n",
        "\n",
        "    # define training and test data directories\n",
        "    train_dir = os.path.join(data_dir, 'train/')\n",
        "    val_dir = os.path.join(data_dir, 'val/')\n",
        "    test_dir = os.path.join(data_dir, 'test/')\n",
        "\n",
        "    # resize all images to 224 x 224\n",
        "    #data_transform = transforms.Compose([transforms.CenterCrop(224), \n",
        "    #                                  transforms.ToTensor()])\n",
        "\n",
        "    train_data = datasets.DatasetFolder(train_dir, loader = load_feature, extensions = '.tensor')\n",
        "    val_data = datasets.DatasetFolder(val_dir, loader = load_feature, extensions = '.tensor')\n",
        "    test_data = datasets.DatasetFolder(test_dir, loader = load_feature, extensions = '.tensor')\n",
        "\n",
        "    train_loader = torch.utils.data.DataLoader(train_data, batch_size=batch_size)\n",
        "    val_loader = torch.utils.data.DataLoader(val_data, batch_size=batch_size)\n",
        "    test_loader = torch.utils.data.DataLoader(test_data, batch_size=batch_size)\n",
        "    \n",
        "    return train_loader, val_loader, test_loader\n",
        "\n",
        "\n",
        "# Training\n",
        "def get_model_name(name, batch_size, learning_rate, epoch):\n",
        "    \"\"\" Generate a name for the model consisting of all the hyperparameter values\n",
        "\n",
        "    Args:\n",
        "        config: Configuration object containing the hyperparameters\n",
        "    Returns:\n",
        "        path: A string with the hyperparameter name and value concatenated\n",
        "    \"\"\"\n",
        "    path = \"model_{0}_bs{1}_lr{2}_epoch{3}\".format(name,\n",
        "                                                   batch_size,\n",
        "                                                   learning_rate,\n",
        "                                                   epoch)\n",
        "    return path\n",
        "  \n",
        "def get_accuracy(model, loader):\n",
        "\n",
        "    correct = 0\n",
        "    total = 0\n",
        "    for imgs, labels in loader:\n",
        "\n",
        "        imgs = torch.from_numpy(imgs.detach().numpy())\n",
        "        \n",
        "        output = model(imgs)\n",
        "        prob = F.softmax(output)\n",
        "        \n",
        "        #select index with maximum prediction score\n",
        "        pred = prob.max(1, keepdim=True)[1]\n",
        "        correct += pred.eq(labels.view_as(pred)).sum().item()\n",
        "        total += imgs.shape[0]\n",
        "        \n",
        "    return correct / total\n",
        "\n",
        "def evaluate(net, loader, criterion):\n",
        "    \"\"\" Evaluate the network on the validation set.\n",
        "\n",
        "     Args:\n",
        "         net: PyTorch neural network object\n",
        "         loader: PyTorch data loader for the validation set\n",
        "         criterion: The loss function\n",
        "     Returns:\n",
        "         acc: A scalar for the avg classification acc over the validation set\n",
        "         loss: A scalar for the average loss function over the validation set\n",
        "     \"\"\"\n",
        "    total_loss = 0.0\n",
        "    total_epoch = 0\n",
        "    correct = 0\n",
        "    total = 0\n",
        "    for i, data in enumerate(loader, 0):\n",
        "        imgs, labels = data\n",
        "        \n",
        "        imgs = torch.from_numpy(imgs.detach().numpy())\n",
        "              \n",
        "        out = model(imgs)             # forward pass\n",
        "        prob = F.softmax(out)\n",
        "        loss = criterion(prob, labels)\n",
        "        \n",
        "        #select index with maximum prediction score\n",
        "        pred = prob.max(1, keepdim=True)[1]\n",
        "        correct += pred.eq(labels.view_as(pred)).sum().item()\n",
        "        total += imgs.shape[0]\n",
        "        \n",
        "        total_loss += loss\n",
        "        total_epoch += len(labels)\n",
        "    \n",
        "    acc = correct / total\n",
        "    loss = float(total_loss) / (i + 1)\n",
        "    \n",
        "    return acc, loss\n",
        "\n",
        "# Training Curve\n",
        "def plot_training_curve(path):\n",
        "    \"\"\" Plots the training curve for a model run, given the csv files\n",
        "    containing the train/validation accuracy/loss.\n",
        "\n",
        "    Args:\n",
        "        path: The base path of the csv files produced during training\n",
        "    \"\"\"\n",
        "    import matplotlib.pyplot as plt\n",
        "    \n",
        "    train_acc = np.loadtxt(\"{}_train_acc.csv\".format(path))\n",
        "    val_acc = np.loadtxt(\"{}_val_acc.csv\".format(path))\n",
        "    train_loss = np.loadtxt(\"{}_train_loss.csv\".format(path))\n",
        "    val_loss = np.loadtxt(\"{}_val_loss.csv\".format(path))\n",
        "    \n",
        "    n = len(train_acc) # number of epochs\n",
        "    \n",
        "    plt.title(\"Train vs Validation Loss\")\n",
        "    plt.plot(range(1,n+1), train_loss, label=\"Train\")\n",
        "    plt.plot(range(1,n+1), val_loss, label=\"Validation\")\n",
        "    plt.xlabel(\"Epoch\")\n",
        "    plt.ylabel(\"Loss\")\n",
        "    plt.legend(loc='best')\n",
        "    plt.show()\n",
        "    \n",
        "    plt.title(\"Train vs Validation Accuracy\")\n",
        "    plt.plot(range(1,n+1), train_acc, label=\"Train\")\n",
        "    plt.plot(range(1,n+1), val_acc, label=\"Validation\")\n",
        "    plt.xlabel(\"Epoch\")\n",
        "    plt.ylabel(\"Accuracy\")\n",
        "    plt.legend(loc='best')\n",
        "    plt.show()\n",
        "    \n",
        "    print(\"Final Training Accuracy: {}\".format(train_acc[-1]))\n",
        "    print(\"Final Validation Accuracy: {}\".format(val_acc[-1]))\n",
        "\n",
        "    \n",
        "def train_net(net, batch_size=64, learning_rate=0.01, num_epochs=30,\n",
        "    data_dir='/content/drive/My Drive/Colab Notebooks/Faces/'):\n",
        "\n",
        "    # Fixed PyTorch random seed for reproducible result\n",
        "    torch.manual_seed(1000)\n",
        "    \n",
        "    # Obtain the PyTorch data loader objects to load batches of the datasets\n",
        "    train_loader, val_loader, test_loader = get_data_loader(data_dir, batch_size)\n",
        "\n",
        "    criterion = nn.CrossEntropyLoss()\n",
        "    optimizer = optim.SGD(model.parameters(), lr=learning_rate, momentum=0.9)\n",
        "    \n",
        "    # Set up some numpy arrays to store the training/test loss/erruracy\n",
        "    train_acc = np.zeros(num_epochs)\n",
        "    train_loss = np.zeros(num_epochs)\n",
        "    val_acc = np.zeros(num_epochs)\n",
        "    val_loss = np.zeros(num_epochs)\n",
        "    \n",
        "    # Train the network\n",
        "    # Loop over the data iterator and sample a new batch of training data\n",
        "    # Get the output from the network, and optimize our loss function.\n",
        "    \n",
        "    for epoch in range(num_epochs):  # loop over the dataset multiple times\n",
        "        total_train_loss = 0.0\n",
        "        total_train_acc = 0.0\n",
        "        total_epoch = 0\n",
        "        for i, data in enumerate(train_loader, 0):\n",
        "            \n",
        "            # Get the inputs\n",
        "            imgs, labels = data\n",
        "            \n",
        "            # Zero the parameter gradients\n",
        "            optimizer.zero_grad()\n",
        "            # Forward pass, backward pass, and optimize\n",
        "            imgs = torch.from_numpy(imgs.detach().numpy())\n",
        "              \n",
        "            out = model(imgs)             # forward pass\n",
        "            prob = F.softmax(out)\n",
        "            loss = criterion(prob, labels)\n",
        "            loss.backward()\n",
        "            optimizer.step()\n",
        "            \n",
        "            total_train_loss += loss\n",
        "            total_epoch += len(labels)\n",
        "        train_acc[epoch] = get_accuracy(net, train_loader)\n",
        "        train_loss[epoch] = float(total_train_loss) / (i+1)\n",
        "        val_acc[epoch], val_loss[epoch] = evaluate(net, val_loader, criterion)\n",
        "        \n",
        "        print((\"Epoch {}: Train acc: {}, Train loss: {} |\"+\n",
        "               \"Validation acc: {}, Validation loss: {}\").format(\n",
        "                   epoch + 1,\n",
        "                   train_acc[epoch],\n",
        "                   train_loss[epoch],\n",
        "                   val_acc[epoch],\n",
        "                   val_loss[epoch]))\n",
        "        \n",
        "        # Save the current model (checkpoint) to a file\n",
        "        model_path = get_model_name(net.name, batch_size, learning_rate, epoch)\n",
        "        torch.save(net.state_dict(), model_path)\n",
        "    \n",
        "    print('Finished Training')\n",
        "    \n",
        "    # Write the train/test loss/accuracy into CSV file for plotting later\n",
        "    epochs = np.arange(1, num_epochs + 1)\n",
        "    np.savetxt(\"{}_train_acc.csv\".format(model_path), train_acc)\n",
        "    np.savetxt(\"{}_train_loss.csv\".format(model_path), train_loss)\n",
        "    np.savetxt(\"{}_val_acc.csv\".format(model_path), val_acc)\n",
        "    np.savetxt(\"{}_val_loss.csv\".format(model_path), val_loss)"
      ],
      "execution_count": 0,
      "outputs": []
    },
    {
      "cell_type": "code",
      "metadata": {
        "id": "E2LLQ05lObdX",
        "colab_type": "code",
        "colab": {}
      },
      "source": [
        "# from lab 3b tutorial\n",
        "\n",
        "import matplotlib.pyplot as plt\n",
        "\n",
        "def get_accuracy_alexnet(model, loader):\n",
        "\n",
        "    correct = 0\n",
        "    total = 0\n",
        "    for imgs, labels in loader:\n",
        "        \n",
        "        imgs = torch.from_numpy(imgs.detach().numpy())\n",
        "        \n",
        "        output = model(imgs)\n",
        "        \n",
        "        #select index with maximum prediction score\n",
        "        pred = output.max(1, keepdim=True)[1]\n",
        "        correct += pred.eq(labels.view_as(pred)).sum().item()\n",
        "        total += imgs.shape[0]\n",
        "    return correct / total\n",
        "\n",
        "def train(model, train_data, val_data, batch_size=20, num_epochs=1, learning_rate = 0.01):\n",
        "    train_loader = torch.utils.data.DataLoader(train_data, batch_size=batch_size)\n",
        "    val_loader = torch.utils.data.DataLoader(val_data, batch_size=batch_size)\n",
        "    criterion = nn.CrossEntropyLoss()\n",
        "    optimizer = optim.SGD(model.parameters(), lr=learning_rate, momentum=0.9)\n",
        "\n",
        "    iters, losses, train_acc, val_acc = [], [], [], []\n",
        "\n",
        "    # training\n",
        "    n = 0 # the number of iterations\n",
        "    for epoch in range(num_epochs):\n",
        "        for imgs, labels in iter(train_loader):\n",
        "            \n",
        "            print(n)\n",
        "            imgs = torch.from_numpy(imgs.detach().numpy())\n",
        "              \n",
        "            out = model(imgs)             # forward pass\n",
        "            #prob = F.softmax(out)\n",
        "            loss = criterion(out, labels) # compute the total loss\n",
        "            loss.backward()               # backward pass (compute parameter updates)\n",
        "            optimizer.step()              # make the updates for each parameter\n",
        "            optimizer.zero_grad()         # a clean up step for PyTorch\n",
        "\n",
        "            # save the current training information\n",
        "            iters.append(n)\n",
        "            losses.append(float(loss)/batch_size)             # compute *average* loss\n",
        "            train_acc.append(get_accuracy_alexnet(model, train_loader)) # compute training accuracy \n",
        "            val_acc.append(get_accuracy_alexnet(model, val_loader))  # compute validation accuracy\n",
        "            n += 1\n",
        "\n",
        "    # plotting\n",
        "    plt.title(\"Training Curve\")\n",
        "    plt.plot(iters, losses, label=\"Train\")\n",
        "    plt.xlabel(\"Iterations\")\n",
        "    plt.ylabel(\"Loss\")\n",
        "    plt.show()\n",
        "\n",
        "    plt.title(\"Training Curve\")\n",
        "    plt.plot(iters, train_acc, label=\"Train\")\n",
        "    plt.plot(iters, val_acc, label=\"Validation\")\n",
        "    plt.xlabel(\"Iterations\")\n",
        "    plt.ylabel(\"Training Accuracy\")\n",
        "    plt.legend(loc='best')\n",
        "    plt.show()\n",
        "    \n",
        "    print(\"Final Training Accuracy: {}\".format(train_acc[-1]))\n",
        "    print(\"Final Validation Accuracy: {}\".format(val_acc[-1]))\n",
        "\n",
        "#Artifical Neural Network Architecture\n",
        "class ANNClassifier2(nn.Module):\n",
        "    def __init__(self):\n",
        "        super(ANNClassifier2, self).__init__()\n",
        "        self.fc1 = nn.Linear(512*7*7, 300)\n",
        "        self.fc2 = nn.Linear(300, 7)\n",
        "\n",
        "    def forward(self, x):\n",
        "        x = x.view(-1, 512*7*7) #flatten feature data\n",
        "        x = F.relu(self.fc1(x))\n",
        "        x = F.softmax(self.fc2(x))\n",
        "        return x"
      ],
      "execution_count": 0,
      "outputs": []
    },
    {
      "cell_type": "code",
      "metadata": {
        "id": "6BsM-7Em6q0g",
        "colab_type": "code",
        "outputId": "0f28d904-7c5e-4444-c368-72e824abef09",
        "colab": {
          "base_uri": "https://localhost:8080/",
          "height": 1000
        }
      },
      "source": [
        "model = ANNClassifier_VGG16()\n",
        "train_net(model, batch_size=64, learning_rate=0.001, num_epochs=100,\n",
        "    data_dir='/content/drive/My Drive/Colab Notebooks/Faces/vgg16')"
      ],
      "execution_count": 32,
      "outputs": [
        {
          "output_type": "stream",
          "text": [
            "Drive already mounted at /content/drive; to attempt to forcibly remount, call drive.mount(\"/content/drive\", force_remount=True).\n"
          ],
          "name": "stdout"
        },
        {
          "output_type": "stream",
          "text": [
            "/usr/local/lib/python3.6/dist-packages/ipykernel_launcher.py:175: UserWarning: Implicit dimension choice for softmax has been deprecated. Change the call to include dim=X as an argument.\n",
            "/usr/local/lib/python3.6/dist-packages/ipykernel_launcher.py:55: UserWarning: Implicit dimension choice for softmax has been deprecated. Change the call to include dim=X as an argument.\n",
            "/usr/local/lib/python3.6/dist-packages/ipykernel_launcher.py:85: UserWarning: Implicit dimension choice for softmax has been deprecated. Change the call to include dim=X as an argument.\n"
          ],
          "name": "stderr"
        },
        {
          "output_type": "stream",
          "text": [
            "Epoch 1: Train acc: 0.2381352372952541, Train loss: 1.9901829769736843 |Validation acc: 0.21929824561403508, Validation loss: 1.944891856266902\n",
            "Epoch 2: Train acc: 0.2230155396892062, Train loss: 1.952579096743935 |Validation acc: 0.21303258145363407, Validation loss: 1.9435951526348407\n",
            "Epoch 3: Train acc: 0.3002939941201176, Train loss: 1.9470807125693874 |Validation acc: 0.2681704260651629, Validation loss: 1.9433006873497596\n",
            "Epoch 4: Train acc: 0.4241915161696766, Train loss: 1.9457797000282688 |Validation acc: 0.37969924812030076, Validation loss: 1.9418070866511419\n",
            "Epoch 5: Train acc: 0.4636707265854683, Train loss: 1.9456761008814762 |Validation acc: 0.41478696741854637, Validation loss: 1.9401851067176232\n",
            "Epoch 6: Train acc: 0.4884502309953801, Train loss: 1.9437906365645559 |Validation acc: 0.45864661654135336, Validation loss: 1.9366595928485577\n",
            "Epoch 7: Train acc: 0.5090298194036119, Train loss: 1.9436350370708264 |Validation acc: 0.474937343358396, Validation loss: 1.9329109191894531\n",
            "Epoch 8: Train acc: 0.46703065938681226, Train loss: 1.9411508660567434 |Validation acc: 0.4323308270676692, Validation loss: 1.9273592141958384\n",
            "Epoch 9: Train acc: 0.4338513229735405, Train loss: 1.9390630220112048 |Validation acc: 0.39974937343358397, Validation loss: 1.920998793381911\n",
            "Epoch 10: Train acc: 0.38219235615287694, Train loss: 1.9327336361533718 |Validation acc: 0.36466165413533835, Validation loss: 1.9087320474477916\n",
            "Epoch 11: Train acc: 0.37085258294834106, Train loss: 1.9322415402061062 |Validation acc: 0.34962406015037595, Validation loss: 1.8951608217679536\n",
            "Epoch 12: Train acc: 0.3607727845443091, Train loss: 1.9215003565738076 |Validation acc: 0.3408521303258145, Validation loss: 1.8771280141977162\n",
            "Epoch 13: Train acc: 0.3595128097438051, Train loss: 1.9138540970651727 |Validation acc: 0.34210526315789475, Validation loss: 1.8573380983792818\n",
            "Epoch 14: Train acc: 0.35279294414111717, Train loss: 1.9017502634148848 |Validation acc: 0.34210526315789475, Validation loss: 1.83634640620305\n",
            "Epoch 15: Train acc: 0.3506929861402772, Train loss: 1.8908103139776933 |Validation acc: 0.3383458646616541, Validation loss: 1.8165645599365234\n",
            "Epoch 16: Train acc: 0.35405291894162116, Train loss: 1.8744968615080182 |Validation acc: 0.3408521303258145, Validation loss: 1.8010322864239032\n",
            "Epoch 17: Train acc: 0.3620327593448131, Train loss: 1.8607045223838405 |Validation acc: 0.3483709273182957, Validation loss: 1.7835367642916167\n",
            "Epoch 18: Train acc: 0.3599328013439731, Train loss: 1.8441902963738692 |Validation acc: 0.3533834586466165, Validation loss: 1.7745697314922626\n",
            "Epoch 19: Train acc: 0.375052498950021, Train loss: 1.8304469459935238 |Validation acc: 0.3659147869674185, Validation loss: 1.7632396404559796\n",
            "Epoch 20: Train acc: 0.40403191936161276, Train loss: 1.8109640824167352 |Validation acc: 0.38721804511278196, Validation loss: 1.7489603482759917\n",
            "Epoch 21: Train acc: 0.4351112977740445, Train loss: 1.799285888671875 |Validation acc: 0.41854636591478694, Validation loss: 1.7333564758300781\n",
            "Epoch 22: Train acc: 0.47207055858882824, Train loss: 1.785633689478824 |Validation acc: 0.4473684210526316, Validation loss: 1.7187100923978365\n",
            "Epoch 23: Train acc: 0.4876102477950441, Train loss: 1.7760208531429893 |Validation acc: 0.4774436090225564, Validation loss: 1.7044580899752104\n",
            "Epoch 24: Train acc: 0.5144897102057959, Train loss: 1.7646383988229852 |Validation acc: 0.5150375939849624, Validation loss: 1.690938949584961\n",
            "Epoch 25: Train acc: 0.5287694246115078, Train loss: 1.7554477892423932 |Validation acc: 0.5288220551378446, Validation loss: 1.678099118746244\n",
            "Epoch 26: Train acc: 0.5459890802183957, Train loss: 1.7453364322060032 |Validation acc: 0.543859649122807, Validation loss: 1.6660071152907152\n",
            "Epoch 27: Train acc: 0.5590088198236035, Train loss: 1.7361669038471423 |Validation acc: 0.5488721804511278, Validation loss: 1.6539022005521333\n",
            "Epoch 28: Train acc: 0.5758084838303233, Train loss: 1.7264195492393093 |Validation acc: 0.5639097744360902, Validation loss: 1.6423074282132661\n",
            "Epoch 29: Train acc: 0.5888282234355313, Train loss: 1.7171652944464433 |Validation acc: 0.568922305764411, Validation loss: 1.630246822650616\n",
            "Epoch 30: Train acc: 0.5997480050398992, Train loss: 1.7076580649928044 |Validation acc: 0.5864661654135338, Validation loss: 1.6197379185603216\n",
            "Epoch 31: Train acc: 0.6094078118437631, Train loss: 1.6989597521330182 |Validation acc: 0.5914786967418546, Validation loss: 1.6086706014779897\n",
            "Epoch 32: Train acc: 0.6144477110457791, Train loss: 1.6895535117701481 |Validation acc: 0.6090225563909775, Validation loss: 1.5989174476036658\n",
            "Epoch 33: Train acc: 0.622427551448971, Train loss: 1.6808671449360095 |Validation acc: 0.6140350877192983, Validation loss: 1.5894291217510517\n",
            "Epoch 34: Train acc: 0.6320873582528349, Train loss: 1.6722579755281146 |Validation acc: 0.6303258145363408, Validation loss: 1.58063110938439\n",
            "Epoch 35: Train acc: 0.6371272574548509, Train loss: 1.6639489625629627 |Validation acc: 0.6328320802005013, Validation loss: 1.5723177102895884\n",
            "Epoch 36: Train acc: 0.6472070558588828, Train loss: 1.65480543437757 |Validation acc: 0.6516290726817042, Validation loss: 1.5644331711989183\n",
            "Epoch 37: Train acc: 0.6493070138597228, Train loss: 1.6480710882889598 |Validation acc: 0.6528822055137845, Validation loss: 1.557472669161283\n",
            "Epoch 38: Train acc: 0.6640067198656027, Train loss: 1.6392867439671566 |Validation acc: 0.656641604010025, Validation loss: 1.5504649235652044\n",
            "Epoch 39: Train acc: 0.6673666526669466, Train loss: 1.6326902289139598 |Validation acc: 0.6578947368421053, Validation loss: 1.5438049022968\n",
            "Epoch 40: Train acc: 0.6766064678706426, Train loss: 1.6246190322072882 |Validation acc: 0.6691729323308271, Validation loss: 1.5380944472092848\n",
            "Epoch 41: Train acc: 0.6824863502729945, Train loss: 1.6185480418958162 |Validation acc: 0.6716791979949874, Validation loss: 1.5321716895470252\n",
            "Epoch 42: Train acc: 0.6921461570768584, Train loss: 1.6102984578985917 |Validation acc: 0.6741854636591479, Validation loss: 1.5270699721116285\n",
            "Epoch 43: Train acc: 0.6925661486770265, Train loss: 1.6048999585603412 |Validation acc: 0.6779448621553885, Validation loss: 1.5220942864051232\n",
            "Epoch 44: Train acc: 0.6997060058798824, Train loss: 1.5966196562114514 |Validation acc: 0.6804511278195489, Validation loss: 1.5173584864689753\n",
            "Epoch 45: Train acc: 0.7030659386812264, Train loss: 1.5907645978425677 |Validation acc: 0.6854636591478697, Validation loss: 1.5130396622877855\n",
            "Epoch 46: Train acc: 0.7097858042839144, Train loss: 1.5831544775711863 |Validation acc: 0.6879699248120301, Validation loss: 1.5088876577524037\n",
            "Epoch 47: Train acc: 0.7110457790844184, Train loss: 1.5774283158151727 |Validation acc: 0.6879699248120301, Validation loss: 1.5050543271578276\n",
            "Epoch 48: Train acc: 0.7135657286854263, Train loss: 1.570493497346577 |Validation acc: 0.6879699248120301, Validation loss: 1.5016677563007061\n",
            "Epoch 49: Train acc: 0.7173456530869382, Train loss: 1.56479223150956 |Validation acc: 0.6917293233082706, Validation loss: 1.4982654864971454\n",
            "Epoch 50: Train acc: 0.7219655606887863, Train loss: 1.558215291876542 |Validation acc: 0.6942355889724311, Validation loss: 1.4949556497427134\n",
            "Epoch 51: Train acc: 0.7274254514909702, Train loss: 1.5514297485351562 |Validation acc: 0.6954887218045113, Validation loss: 1.4918556213378906\n",
            "Epoch 52: Train acc: 0.7299454010919781, Train loss: 1.5454382645456415 |Validation acc: 0.6967418546365914, Validation loss: 1.4890824831449068\n",
            "Epoch 53: Train acc: 0.7337253254934901, Train loss: 1.5387144590678967 |Validation acc: 0.6979949874686717, Validation loss: 1.4861833132230318\n",
            "Epoch 54: Train acc: 0.7379252414951701, Train loss: 1.5325122632478412 |Validation acc: 0.6992481203007519, Validation loss: 1.4834832411545973\n",
            "Epoch 55: Train acc: 0.7391852162956741, Train loss: 1.5265688645212274 |Validation acc: 0.6992481203007519, Validation loss: 1.4808619572566106\n",
            "Epoch 56: Train acc: 0.744645107097858, Train loss: 1.5206479524311267 |Validation acc: 0.7005012531328321, Validation loss: 1.4777434422419622\n",
            "Epoch 57: Train acc: 0.749265014699706, Train loss: 1.5148619601601048 |Validation acc: 0.7030075187969925, Validation loss: 1.4753272716815655\n",
            "Epoch 58: Train acc: 0.751364972700546, Train loss: 1.51009107890882 |Validation acc: 0.7030075187969925, Validation loss: 1.4727948995736928\n",
            "Epoch 59: Train acc: 0.757244855102898, Train loss: 1.5036175376490544 |Validation acc: 0.706766917293233, Validation loss: 1.4700355529785156\n",
            "Epoch 60: Train acc: 0.7593448131037379, Train loss: 1.4992206975033409 |Validation acc: 0.7080200501253133, Validation loss: 1.46783080467811\n",
            "Epoch 61: Train acc: 0.7652246955060898, Train loss: 1.4935060802258944 |Validation acc: 0.7105263157894737, Validation loss: 1.465326455923227\n",
            "Epoch 62: Train acc: 0.7702645947081058, Train loss: 1.4885154523347552 |Validation acc: 0.7130325814536341, Validation loss: 1.4625038733849158\n",
            "Epoch 63: Train acc: 0.7719445611087778, Train loss: 1.484203439009817 |Validation acc: 0.7155388471177945, Validation loss: 1.4607882866492639\n",
            "Epoch 64: Train acc: 0.7782444351112978, Train loss: 1.479127984297903 |Validation acc: 0.7218045112781954, Validation loss: 1.4580802917480469\n",
            "Epoch 65: Train acc: 0.7820243595128098, Train loss: 1.4745420154772306 |Validation acc: 0.7255639097744361, Validation loss: 1.4559553586519682\n",
            "Epoch 66: Train acc: 0.7849643007139857, Train loss: 1.4701724805329974 |Validation acc: 0.7268170426065163, Validation loss: 1.4538116455078125\n",
            "Epoch 67: Train acc: 0.7870642587148257, Train loss: 1.4658220190750926 |Validation acc: 0.7305764411027569, Validation loss: 1.4518191997821515\n",
            "Epoch 68: Train acc: 0.7887442251154977, Train loss: 1.461410221300627 |Validation acc: 0.7330827067669173, Validation loss: 1.4497082050030048\n",
            "Epoch 69: Train acc: 0.7912641747165057, Train loss: 1.4574598011217619 |Validation acc: 0.7355889724310777, Validation loss: 1.448030765240009\n",
            "Epoch 70: Train acc: 0.7942041159176817, Train loss: 1.453089061536287 |Validation acc: 0.7368421052631579, Validation loss: 1.446154814500075\n",
            "Epoch 71: Train acc: 0.7967240655186896, Train loss: 1.4490501002261513 |Validation acc: 0.7380952380952381, Validation loss: 1.4443831810584435\n",
            "Epoch 72: Train acc: 0.7979840403191936, Train loss: 1.4452312871029502 |Validation acc: 0.7393483709273183, Validation loss: 1.442724081186148\n",
            "Epoch 73: Train acc: 0.7996640067198656, Train loss: 1.4412487431576377 |Validation acc: 0.7406015037593985, Validation loss: 1.441064247718224\n",
            "Epoch 74: Train acc: 0.8017639647207055, Train loss: 1.4375660544947575 |Validation acc: 0.7406015037593985, Validation loss: 1.4394683837890625\n",
            "Epoch 75: Train acc: 0.8055438891222175, Train loss: 1.4336617118433903 |Validation acc: 0.7443609022556391, Validation loss: 1.4379254854642427\n",
            "Epoch 76: Train acc: 0.8084838303233935, Train loss: 1.4300780045358759 |Validation acc: 0.7443609022556391, Validation loss: 1.436272694514348\n",
            "Epoch 77: Train acc: 0.8089038219235616, Train loss: 1.4262391140586452 |Validation acc: 0.7468671679197995, Validation loss: 1.434819294856145\n",
            "Epoch 78: Train acc: 0.8105837883242335, Train loss: 1.422869130184776 |Validation acc: 0.7493734335839599, Validation loss: 1.4331849905160756\n",
            "Epoch 79: Train acc: 0.8114237715245695, Train loss: 1.4191191823858964 |Validation acc: 0.7493734335839599, Validation loss: 1.4316910963792067\n",
            "Epoch 80: Train acc: 0.8139437211255774, Train loss: 1.4160274706388776 |Validation acc: 0.7481203007518797, Validation loss: 1.4301104912391076\n",
            "Epoch 81: Train acc: 0.8152036959260814, Train loss: 1.4122095609966077 |Validation acc: 0.7468671679197995, Validation loss: 1.4286471146803637\n",
            "Epoch 82: Train acc: 0.8173036539269215, Train loss: 1.408850017346834 |Validation acc: 0.7481203007518797, Validation loss: 1.4269711421086237\n",
            "Epoch 83: Train acc: 0.8181436371272575, Train loss: 1.4054787284449528 |Validation acc: 0.7493734335839599, Validation loss: 1.4255621983454778\n",
            "Epoch 84: Train acc: 0.8219235615287694, Train loss: 1.4022091313412315 |Validation acc: 0.7518796992481203, Validation loss: 1.423841036283053\n",
            "Epoch 85: Train acc: 0.8244435111297774, Train loss: 1.3985797480532998 |Validation acc: 0.7518796992481203, Validation loss: 1.422409937931941\n",
            "Epoch 86: Train acc: 0.8290634187316254, Train loss: 1.39546705547132 |Validation acc: 0.7568922305764411, Validation loss: 1.4207236950214093\n",
            "Epoch 87: Train acc: 0.8320033599328014, Train loss: 1.3916548678749485 |Validation acc: 0.7593984962406015, Validation loss: 1.4192901024451623\n",
            "Epoch 88: Train acc: 0.8349433011339773, Train loss: 1.3885624534205387 |Validation acc: 0.7606516290726817, Validation loss: 1.41773194533128\n",
            "Epoch 89: Train acc: 0.8374632507349853, Train loss: 1.385120291458933 |Validation acc: 0.7606516290726817, Validation loss: 1.416291750394381\n",
            "Epoch 90: Train acc: 0.8399832003359933, Train loss: 1.381884123149671 |Validation acc: 0.7631578947368421, Validation loss: 1.4147488520695612\n",
            "Epoch 91: Train acc: 0.8408231835363292, Train loss: 1.3785370274593955 |Validation acc: 0.7631578947368421, Validation loss: 1.4132951589731069\n",
            "Epoch 92: Train acc: 0.8429231415371693, Train loss: 1.375313307109632 |Validation acc: 0.7656641604010025, Validation loss: 1.4112513615534856\n",
            "Epoch 93: Train acc: 0.8446031079378412, Train loss: 1.3717493759958368 |Validation acc: 0.7694235588972431, Validation loss: 1.4095120063194861\n",
            "Epoch 94: Train acc: 0.8458630827383452, Train loss: 1.3685759494179173 |Validation acc: 0.7719298245614035, Validation loss: 1.4075902792123647\n",
            "Epoch 95: Train acc: 0.8492230155396892, Train loss: 1.3649688519929584 |Validation acc: 0.7731829573934837, Validation loss: 1.4055541111872747\n",
            "Epoch 96: Train acc: 0.8525829483410332, Train loss: 1.3617131082635177 |Validation acc: 0.7794486215538847, Validation loss: 1.4032378563514123\n",
            "Epoch 97: Train acc: 0.8542629147417051, Train loss: 1.3579329440468235 |Validation acc: 0.7857142857142857, Validation loss: 1.4009041419396033\n",
            "Epoch 98: Train acc: 0.8559428811423772, Train loss: 1.354698281539114 |Validation acc: 0.7844611528822055, Validation loss: 1.3983223254864032\n",
            "Epoch 99: Train acc: 0.8609827803443931, Train loss: 1.3511485049599095 |Validation acc: 0.7869674185463659, Validation loss: 1.39591671870305\n",
            "Epoch 100: Train acc: 0.863922721545569, Train loss: 1.3479076184724506 |Validation acc: 0.7869674185463659, Validation loss: 1.393013440645658\n",
            "Finished Training\n"
          ],
          "name": "stdout"
        }
      ]
    },
    {
      "cell_type": "code",
      "metadata": {
        "id": "nNRZY7l-mCnF",
        "colab_type": "code",
        "outputId": "a8981119-a8b3-4fe0-afd5-e38d8f556a62",
        "colab": {
          "base_uri": "https://localhost:8080/",
          "height": 607
        }
      },
      "source": [
        "model_path = get_model_name(\"vgg16_ann\", batch_size=64, learning_rate=0.001, epoch=99)\n",
        "plot_training_curve('/content/' + model_path)"
      ],
      "execution_count": 33,
      "outputs": [
        {
          "output_type": "display_data",
          "data": {
            "image/png": "[encoded data removed]",
            "text/plain": [
              "<Figure size 432x288 with 1 Axes>"
            ]
          },
          "metadata": {
            "tags": []
          }
        },
        {
          "output_type": "display_data",
          "data": {
            "image/png": "[encoded data removed]",
            "text/plain": [
              "<Figure size 432x288 with 1 Axes>"
            ]
          },
          "metadata": {
            "tags": []
          }
        },
        {
          "output_type": "stream",
          "text": [
            "Final Training Accuracy: 0.863922721545569\n",
            "Final Validation Accuracy: 0.7869674185463659\n"
          ],
          "name": "stdout"
        }
      ]
    },
    {
      "cell_type": "code",
      "metadata": {
        "id": "Oq-iG-cFC96C",
        "colab_type": "code",
        "outputId": "521e74db-03a5-442e-e8fa-c98c609397b1",
        "colab": {
          "base_uri": "https://localhost:8080/",
          "height": 1000
        }
      },
      "source": [
        "model = ANNClassifier_VGG16()\n",
        "train_net(model, batch_size=128, learning_rate=0.001, num_epochs=100,\n",
        "    data_dir='/content/drive/My Drive/Colab Notebooks/Faces/vgg16')"
      ],
      "execution_count": 34,
      "outputs": [
        {
          "output_type": "stream",
          "text": [
            "Drive already mounted at /content/drive; to attempt to forcibly remount, call drive.mount(\"/content/drive\", force_remount=True).\n"
          ],
          "name": "stdout"
        },
        {
          "output_type": "stream",
          "text": [
            "/usr/local/lib/python3.6/dist-packages/ipykernel_launcher.py:175: UserWarning: Implicit dimension choice for softmax has been deprecated. Change the call to include dim=X as an argument.\n",
            "/usr/local/lib/python3.6/dist-packages/ipykernel_launcher.py:55: UserWarning: Implicit dimension choice for softmax has been deprecated. Change the call to include dim=X as an argument.\n",
            "/usr/local/lib/python3.6/dist-packages/ipykernel_launcher.py:85: UserWarning: Implicit dimension choice for softmax has been deprecated. Change the call to include dim=X as an argument.\n"
          ],
          "name": "stderr"
        },
        {
          "output_type": "stream",
          "text": [
            "Epoch 1: Train acc: 0.15623687526249475, Train loss: 1.9933479710629112 |Validation acc: 0.15664160401002505, Validation loss: 1.9494202477591378\n",
            "Epoch 2: Train acc: 0.28223435531289376, Train loss: 1.957636180676912 |Validation acc: 0.2506265664160401, Validation loss: 1.9415721893310547\n",
            "Epoch 3: Train acc: 0.4145317093658127, Train loss: 1.9469797234786184 |Validation acc: 0.38471177944862156, Validation loss: 1.9366396495274134\n",
            "Epoch 4: Train acc: 0.44183116337673245, Train loss: 1.9423125417608964 |Validation acc: 0.41478696741854637, Validation loss: 1.9306270054408483\n",
            "Epoch 5: Train acc: 0.4325913481730365, Train loss: 1.9393063595420437 |Validation acc: 0.41604010025062654, Validation loss: 1.9196627480643136\n",
            "Epoch 6: Train acc: 0.4128517429651407, Train loss: 1.9343781722219366 |Validation acc: 0.38596491228070173, Validation loss: 1.9039418356759208\n",
            "Epoch 7: Train acc: 0.37253254934901303, Train loss: 1.9256465309544613 |Validation acc: 0.35213032581453635, Validation loss: 1.8833001000540597\n",
            "Epoch 8: Train acc: 0.3511129777404452, Train loss: 1.9158513922440379 |Validation acc: 0.33959899749373434, Validation loss: 1.856105123247419\n",
            "Epoch 9: Train acc: 0.3506929861402772, Train loss: 1.900703229402241 |Validation acc: 0.33709273182957394, Validation loss: 1.8248607090541296\n",
            "Epoch 10: Train acc: 0.3460730785384292, Train loss: 1.8857142799778988 |Validation acc: 0.33458646616541354, Validation loss: 1.7986835752214705\n",
            "Epoch 11: Train acc: 0.35699286014279713, Train loss: 1.8619218123586554 |Validation acc: 0.34962406015037595, Validation loss: 1.7721985408238001\n",
            "Epoch 12: Train acc: 0.3985720285594288, Train loss: 1.8407060723555715 |Validation acc: 0.37844611528822053, Validation loss: 1.7487602233886719\n",
            "Epoch 13: Train acc: 0.43091138177236454, Train loss: 1.813479975650185 |Validation acc: 0.41478696741854637, Validation loss: 1.7225593839372908\n",
            "Epoch 14: Train acc: 0.49391012179756405, Train loss: 1.7970675418251438 |Validation acc: 0.46115288220551376, Validation loss: 1.7006450380597795\n",
            "Epoch 15: Train acc: 0.5174296514069718, Train loss: 1.7764986941688938 |Validation acc: 0.5037593984962406, Validation loss: 1.6801949909755163\n",
            "Epoch 16: Train acc: 0.5405291894162116, Train loss: 1.7635534186112254 |Validation acc: 0.531328320802005, Validation loss: 1.6637347085135323\n",
            "Epoch 17: Train acc: 0.5585888282234356, Train loss: 1.7492581417686062 |Validation acc: 0.543859649122807, Validation loss: 1.647636958530971\n",
            "Epoch 18: Train acc: 0.5703485930281395, Train loss: 1.7359480606882196 |Validation acc: 0.5576441102756893, Validation loss: 1.632774489266532\n",
            "Epoch 19: Train acc: 0.5842083158336834, Train loss: 1.7233770270096629 |Validation acc: 0.5714285714285714, Validation loss: 1.6186776842389787\n",
            "Epoch 20: Train acc: 0.5909281814363713, Train loss: 1.7088627062345807 |Validation acc: 0.5827067669172933, Validation loss: 1.6052673884800501\n",
            "Epoch 21: Train acc: 0.6039479210415791, Train loss: 1.6976434808028371 |Validation acc: 0.5889724310776943, Validation loss: 1.5933119910103934\n",
            "Epoch 22: Train acc: 0.6098278034439312, Train loss: 1.682954888594778 |Validation acc: 0.5952380952380952, Validation loss: 1.581658090863909\n",
            "Epoch 23: Train acc: 0.6157076858462831, Train loss: 1.6722255506013568 |Validation acc: 0.5989974937343359, Validation loss: 1.5718705313546317\n",
            "Epoch 24: Train acc: 0.6220075598488031, Train loss: 1.6593749397679378 |Validation acc: 0.6027568922305765, Validation loss: 1.5622509547642298\n",
            "Epoch 25: Train acc: 0.626627467450651, Train loss: 1.6474832233629728 |Validation acc: 0.6077694235588973, Validation loss: 1.5540945870535714\n",
            "Epoch 26: Train acc: 0.628727425451491, Train loss: 1.636335473311575 |Validation acc: 0.6152882205513784, Validation loss: 1.5458920342581612\n",
            "Epoch 27: Train acc: 0.6325073498530029, Train loss: 1.6255767219945003 |Validation acc: 0.6177944862155389, Validation loss: 1.539320809500558\n",
            "Epoch 28: Train acc: 0.6371272574548509, Train loss: 1.6153322521008944 |Validation acc: 0.6203007518796992, Validation loss: 1.532285417829241\n",
            "Epoch 29: Train acc: 0.6400671986560269, Train loss: 1.6050668013723273 |Validation acc: 0.6228070175438597, Validation loss: 1.5266772678920202\n",
            "Epoch 30: Train acc: 0.6430071398572028, Train loss: 1.5961612902189557 |Validation acc: 0.6265664160401002, Validation loss: 1.5207455498831612\n",
            "Epoch 31: Train acc: 0.6459470810583788, Train loss: 1.5853526466771175 |Validation acc: 0.631578947368421, Validation loss: 1.515550204685756\n",
            "Epoch 32: Train acc: 0.6476270474590509, Train loss: 1.578527149401213 |Validation acc: 0.6340852130325815, Validation loss: 1.5104827880859375\n",
            "Epoch 33: Train acc: 0.6526669466610667, Train loss: 1.5686716782419305 |Validation acc: 0.6328320802005013, Validation loss: 1.5057071958269392\n",
            "Epoch 34: Train acc: 0.6556068878622427, Train loss: 1.5621402138157894 |Validation acc: 0.6390977443609023, Validation loss: 1.5011980874197823\n",
            "Epoch 35: Train acc: 0.6619067618647627, Train loss: 1.5542242150557668 |Validation acc: 0.6416040100250626, Validation loss: 1.49652099609375\n",
            "Epoch 36: Train acc: 0.6694666106677867, Train loss: 1.5478381106728 |Validation acc: 0.6491228070175439, Validation loss: 1.4922798701695033\n",
            "Epoch 37: Train acc: 0.6749265014699706, Train loss: 1.5417347958213405 |Validation acc: 0.6553884711779449, Validation loss: 1.4879875183105469\n",
            "Epoch 38: Train acc: 0.6799664006719865, Train loss: 1.5356782612047697 |Validation acc: 0.6604010025062657, Validation loss: 1.4839330400739397\n",
            "Epoch 39: Train acc: 0.6866862662746746, Train loss: 1.530278155678197 |Validation acc: 0.6666666666666666, Validation loss: 1.4797676631382533\n",
            "Epoch 40: Train acc: 0.6913061738765225, Train loss: 1.5245854227166427 |Validation acc: 0.6754385964912281, Validation loss: 1.4758475167410714\n",
            "Epoch 41: Train acc: 0.6976060478790425, Train loss: 1.5198921404386823 |Validation acc: 0.6829573934837093, Validation loss: 1.4720257350376673\n",
            "Epoch 42: Train acc: 0.7043259134817303, Train loss: 1.51415332994963 |Validation acc: 0.6842105263157895, Validation loss: 1.4680224827357702\n",
            "Epoch 43: Train acc: 0.7123057538849223, Train loss: 1.5100119741339433 |Validation acc: 0.6854636591478697, Validation loss: 1.4645911625453405\n",
            "Epoch 44: Train acc: 0.7236455270894582, Train loss: 1.504284005416067 |Validation acc: 0.6954887218045113, Validation loss: 1.460556983947754\n",
            "Epoch 45: Train acc: 0.7291054178916422, Train loss: 1.5001143405311985 |Validation acc: 0.7030075187969925, Validation loss: 1.4575072697230749\n",
            "Epoch 46: Train acc: 0.7370852582948341, Train loss: 1.494575400101511 |Validation acc: 0.7080200501253133, Validation loss: 1.453441892351423\n",
            "Epoch 47: Train acc: 0.7425451490970181, Train loss: 1.4906709570633738 |Validation acc: 0.7092731829573935, Validation loss: 1.4508442197527205\n",
            "Epoch 48: Train acc: 0.750944981100378, Train loss: 1.484658391852128 |Validation acc: 0.7155388471177945, Validation loss: 1.4466161727905273\n",
            "Epoch 49: Train acc: 0.7543049139017219, Train loss: 1.4811192562705593 |Validation acc: 0.7167919799498746, Validation loss: 1.4442893436976842\n",
            "Epoch 50: Train acc: 0.7610247795044099, Train loss: 1.4750659340306331 |Validation acc: 0.7255639097744361, Validation loss: 1.4403542109898158\n",
            "Epoch 51: Train acc: 0.7648047039059219, Train loss: 1.471211082056949 |Validation acc: 0.7230576441102757, Validation loss: 1.4377592631748743\n",
            "Epoch 52: Train acc: 0.7732045359092818, Train loss: 1.4656529677541632 |Validation acc: 0.7293233082706767, Validation loss: 1.4344088690621513\n",
            "Epoch 53: Train acc: 0.7778244435111298, Train loss: 1.461298892372533 |Validation acc: 0.7305764411027569, Validation loss: 1.4313655580793108\n",
            "Epoch 54: Train acc: 0.7849643007139857, Train loss: 1.4564089524118524 |Validation acc: 0.7330827067669173, Validation loss: 1.4284207480294364\n",
            "Epoch 55: Train acc: 0.7954640907181857, Train loss: 1.4513710423519737 |Validation acc: 0.7368421052631579, Validation loss: 1.4254251207624162\n",
            "Epoch 56: Train acc: 0.7984040319193616, Train loss: 1.446834965756065 |Validation acc: 0.7418546365914787, Validation loss: 1.422870091029576\n",
            "Epoch 57: Train acc: 0.8034439311213776, Train loss: 1.4417519820363898 |Validation acc: 0.7468671679197995, Validation loss: 1.4197750091552734\n",
            "Epoch 58: Train acc: 0.8080638387232255, Train loss: 1.4370880126953125 |Validation acc: 0.7493734335839599, Validation loss: 1.4172954559326172\n",
            "Epoch 59: Train acc: 0.8139437211255774, Train loss: 1.4322426444605778 |Validation acc: 0.7581453634085213, Validation loss: 1.4142370223999023\n",
            "Epoch 60: Train acc: 0.8185636287274255, Train loss: 1.4275677329615544 |Validation acc: 0.7631578947368421, Validation loss: 1.4117077418736048\n",
            "Epoch 61: Train acc: 0.8215035699286014, Train loss: 1.4228367052580182 |Validation acc: 0.7669172932330827, Validation loss: 1.40890257699149\n",
            "Epoch 62: Train acc: 0.8240235195296094, Train loss: 1.4180397234464948 |Validation acc: 0.768170426065163, Validation loss: 1.406562123979841\n",
            "Epoch 63: Train acc: 0.8303233935321294, Train loss: 1.4134430132414166 |Validation acc: 0.7706766917293233, Validation loss: 1.403799329485212\n",
            "Epoch 64: Train acc: 0.8336833263334733, Train loss: 1.4088628668534129 |Validation acc: 0.7756892230576441, Validation loss: 1.40144715990339\n",
            "Epoch 65: Train acc: 0.8353632927341453, Train loss: 1.404351886950041 |Validation acc: 0.7807017543859649, Validation loss: 1.3988533020019531\n",
            "Epoch 66: Train acc: 0.8366232675346493, Train loss: 1.3996263805188631 |Validation acc: 0.7807017543859649, Validation loss: 1.3962445940290178\n",
            "Epoch 67: Train acc: 0.8412431751364973, Train loss: 1.3952023355584395 |Validation acc: 0.7857142857142857, Validation loss: 1.3937158584594727\n",
            "Epoch 68: Train acc: 0.8446031079378412, Train loss: 1.3908097116570723 |Validation acc: 0.7844611528822055, Validation loss: 1.3912691388811385\n",
            "Epoch 69: Train acc: 0.8471230575388492, Train loss: 1.3862802605879934 |Validation acc: 0.7869674185463659, Validation loss: 1.388784953526088\n",
            "Epoch 70: Train acc: 0.8504829903401931, Train loss: 1.3817366549843235 |Validation acc: 0.7907268170426065, Validation loss: 1.3863885062081474\n",
            "Epoch 71: Train acc: 0.8525829483410332, Train loss: 1.3778677488628186 |Validation acc: 0.7969924812030075, Validation loss: 1.3839930125645228\n",
            "Epoch 72: Train acc: 0.8538429231415372, Train loss: 1.3732024744937295 |Validation acc: 0.8032581453634086, Validation loss: 1.3818374361310686\n",
            "Epoch 73: Train acc: 0.8572028559428811, Train loss: 1.3692440233732526 |Validation acc: 0.8057644110275689, Validation loss: 1.3796112877982003\n",
            "Epoch 74: Train acc: 0.862662746745065, Train loss: 1.3649850142629523 |Validation acc: 0.8095238095238095, Validation loss: 1.3772326878138952\n",
            "Epoch 75: Train acc: 0.8656026879462411, Train loss: 1.360720483880294 |Validation acc: 0.8120300751879699, Validation loss: 1.3750621250697546\n",
            "Epoch 76: Train acc: 0.870642587148257, Train loss: 1.3569387134752775 |Validation acc: 0.8120300751879699, Validation loss: 1.372847420828683\n",
            "Epoch 77: Train acc: 0.872742545149097, Train loss: 1.3526944612201892 |Validation acc: 0.8145363408521303, Validation loss: 1.370551518031529\n",
            "Epoch 78: Train acc: 0.8761024779504409, Train loss: 1.348818628411544 |Validation acc: 0.8145363408521303, Validation loss: 1.3685453959873743\n",
            "Epoch 79: Train acc: 0.8786224275514489, Train loss: 1.3448901929353412 |Validation acc: 0.8170426065162907, Validation loss: 1.366471835545131\n",
            "Epoch 80: Train acc: 0.8798824023519529, Train loss: 1.3410679666619552 |Validation acc: 0.818295739348371, Validation loss: 1.3644796098981584\n",
            "Epoch 81: Train acc: 0.8828223435531289, Train loss: 1.3373469302528782 |Validation acc: 0.8220551378446115, Validation loss: 1.3624267578125\n",
            "Epoch 82: Train acc: 0.8866022679546409, Train loss: 1.3334813368947882 |Validation acc: 0.8220551378446115, Validation loss: 1.3606390271868025\n",
            "Epoch 83: Train acc: 0.8903821923561529, Train loss: 1.329903753180253 |Validation acc: 0.8220551378446115, Validation loss: 1.358597755432129\n",
            "Epoch 84: Train acc: 0.8920621587568248, Train loss: 1.3260611483925266 |Validation acc: 0.8233082706766918, Validation loss: 1.3570239203316825\n",
            "Epoch 85: Train acc: 0.8950020999580008, Train loss: 1.3230089890329462 |Validation acc: 0.8270676691729323, Validation loss: 1.3550733838762556\n",
            "Epoch 86: Train acc: 0.8983620327593448, Train loss: 1.3191985080116673 |Validation acc: 0.8308270676691729, Validation loss: 1.3535202571323939\n",
            "Epoch 87: Train acc: 0.9013019739605208, Train loss: 1.3163822575619346 |Validation acc: 0.8308270676691729, Validation loss: 1.3519483293805803\n",
            "Epoch 88: Train acc: 0.9025619487610248, Train loss: 1.3127867046155428 |Validation acc: 0.8320802005012531, Validation loss: 1.3504141398838587\n",
            "Epoch 89: Train acc: 0.9042419151616967, Train loss: 1.3102093746787624 |Validation acc: 0.8333333333333334, Validation loss: 1.3490404401506697\n",
            "Epoch 90: Train acc: 0.9063418731625368, Train loss: 1.3070418709202816 |Validation acc: 0.8320802005012531, Validation loss: 1.347543580191476\n",
            "Epoch 91: Train acc: 0.9084418311633767, Train loss: 1.304329420390882 |Validation acc: 0.8308270676691729, Validation loss: 1.3461123875209264\n",
            "Epoch 92: Train acc: 0.9109617807643847, Train loss: 1.301614761352539 |Validation acc: 0.8308270676691729, Validation loss: 1.3447009495326452\n",
            "Epoch 93: Train acc: 0.9126417471650567, Train loss: 1.2989130522075452 |Validation acc: 0.8308270676691729, Validation loss: 1.3432325635637556\n",
            "Epoch 94: Train acc: 0.9143217135657287, Train loss: 1.2964489585474919 |Validation acc: 0.8283208020050126, Validation loss: 1.3419545037405831\n",
            "Epoch 95: Train acc: 0.9151616967660646, Train loss: 1.2939509341591282 |Validation acc: 0.8295739348370927, Validation loss: 1.340622901916504\n",
            "Epoch 96: Train acc: 0.9168416631667367, Train loss: 1.2914664619847347 |Validation acc: 0.8295739348370927, Validation loss: 1.3394599642072404\n",
            "Epoch 97: Train acc: 0.9189416211675766, Train loss: 1.289283652054636 |Validation acc: 0.8295739348370927, Validation loss: 1.338263920375279\n",
            "Epoch 98: Train acc: 0.9210415791684167, Train loss: 1.2867925543534129 |Validation acc: 0.8320802005012531, Validation loss: 1.3371550696236747\n",
            "Epoch 99: Train acc: 0.9223015539689207, Train loss: 1.2846593354877673 |Validation acc: 0.8383458646616542, Validation loss: 1.3359813690185547\n",
            "Epoch 100: Train acc: 0.9244015119697606, Train loss: 1.2823354821456106 |Validation acc: 0.8395989974937343, Validation loss: 1.334892409188407\n",
            "Finished Training\n"
          ],
          "name": "stdout"
        }
      ]
    },
    {
      "cell_type": "code",
      "metadata": {
        "id": "EXqGSalvmUoQ",
        "colab_type": "code",
        "outputId": "697a3cda-0573-4314-8825-981e4f21d2fb",
        "colab": {
          "base_uri": "https://localhost:8080/",
          "height": 607
        }
      },
      "source": [
        "model_path = get_model_name(\"vgg16_ann\", batch_size=128, learning_rate=0.001, epoch=99)\n",
        "plot_training_curve('/content/' + model_path)"
      ],
      "execution_count": 35,
      "outputs": [
        {
          "output_type": "display_data",
          "data": {
            "image/png": "[encoded data removed]",
            "text/plain": [
              "<Figure size 432x288 with 1 Axes>"
            ]
          },
          "metadata": {
            "tags": []
          }
        },
        {
          "output_type": "display_data",
          "data": {
            "image/png": "[encoded data removed]",
            "text/plain": [
              "<Figure size 432x288 with 1 Axes>"
            ]
          },
          "metadata": {
            "tags": []
          }
        },
        {
          "output_type": "stream",
          "text": [
            "Final Training Accuracy: 0.9244015119697606\n",
            "Final Validation Accuracy: 0.8395989974937343\n"
          ],
          "name": "stdout"
        }
      ]
    },
    {
      "cell_type": "code",
      "metadata": {
        "id": "t-mdpM_KC-iO",
        "colab_type": "code",
        "outputId": "dfd81154-7edc-40cc-d784-65fafe217188",
        "colab": {
          "base_uri": "https://localhost:8080/",
          "height": 1000
        }
      },
      "source": [
        "model = ANNClassifier_VGG16()\n",
        "train_net(model, batch_size=128, learning_rate=0.001, num_epochs=100,\n",
        "    data_dir='/content/drive/My Drive/Colab Notebooks/Faces/vgg16')"
      ],
      "execution_count": 36,
      "outputs": [
        {
          "output_type": "stream",
          "text": [
            "Drive already mounted at /content/drive; to attempt to forcibly remount, call drive.mount(\"/content/drive\", force_remount=True).\n"
          ],
          "name": "stdout"
        },
        {
          "output_type": "stream",
          "text": [
            "/usr/local/lib/python3.6/dist-packages/ipykernel_launcher.py:175: UserWarning: Implicit dimension choice for softmax has been deprecated. Change the call to include dim=X as an argument.\n",
            "/usr/local/lib/python3.6/dist-packages/ipykernel_launcher.py:55: UserWarning: Implicit dimension choice for softmax has been deprecated. Change the call to include dim=X as an argument.\n",
            "/usr/local/lib/python3.6/dist-packages/ipykernel_launcher.py:85: UserWarning: Implicit dimension choice for softmax has been deprecated. Change the call to include dim=X as an argument.\n"
          ],
          "name": "stderr"
        },
        {
          "output_type": "stream",
          "text": [
            "Epoch 1: Train acc: 0.19571608567828644, Train loss: 1.9762870387027138 |Validation acc: 0.19548872180451127, Validation loss: 1.949174199785505\n",
            "Epoch 2: Train acc: 0.32045359092818143, Train loss: 1.9553891232139187 |Validation acc: 0.3007518796992481, Validation loss: 1.9431844438825334\n",
            "Epoch 3: Train acc: 0.3607727845443091, Train loss: 1.9470646506861637 |Validation acc: 0.3483709273182957, Validation loss: 1.9371754782540458\n",
            "Epoch 4: Train acc: 0.4002519949601008, Train loss: 1.9421958923339844 |Validation acc: 0.38345864661654133, Validation loss: 1.9303481238228934\n",
            "Epoch 5: Train acc: 0.4359512809743805, Train loss: 1.9380055477744655 |Validation acc: 0.40476190476190477, Validation loss: 1.9212912150791712\n",
            "Epoch 6: Train acc: 0.40655186896262074, Train loss: 1.933271508467825 |Validation acc: 0.37719298245614036, Validation loss: 1.9092148372105189\n",
            "Epoch 7: Train acc: 0.37001259974800504, Train loss: 1.9270657991108142 |Validation acc: 0.35213032581453635, Validation loss: 1.8938698087419783\n",
            "Epoch 8: Train acc: 0.35657286854262915, Train loss: 1.9188633968955593 |Validation acc: 0.3433583959899749, Validation loss: 1.874809401375907\n",
            "Epoch 9: Train acc: 0.34187316253674926, Train loss: 1.9091778805381374 |Validation acc: 0.33458646616541354, Validation loss: 1.8533461434500558\n",
            "Epoch 10: Train acc: 0.33599328013439733, Train loss: 1.8972774304841693 |Validation acc: 0.32706766917293234, Validation loss: 1.831174441746303\n",
            "Epoch 11: Train acc: 0.3380932381352373, Train loss: 1.8827267696982937 |Validation acc: 0.32957393483709274, Validation loss: 1.810009275163923\n",
            "Epoch 12: Train acc: 0.34691306173876524, Train loss: 1.866212945235403 |Validation acc: 0.34210526315789475, Validation loss: 1.790144920349121\n",
            "Epoch 13: Train acc: 0.3628727425451491, Train loss: 1.847971665231805 |Validation acc: 0.3634085213032581, Validation loss: 1.7707222529820033\n",
            "Epoch 14: Train acc: 0.3973120537589248, Train loss: 1.8305676108912419 |Validation acc: 0.38471177944862156, Validation loss: 1.752314567565918\n",
            "Epoch 15: Train acc: 0.4351112977740445, Train loss: 1.814130281147204 |Validation acc: 0.4223057644110276, Validation loss: 1.7352288109915597\n",
            "Epoch 16: Train acc: 0.4775304493910122, Train loss: 1.7995932729620683 |Validation acc: 0.4548872180451128, Validation loss: 1.7192788805280412\n",
            "Epoch 17: Train acc: 0.5136497270054599, Train loss: 1.7864223279451068 |Validation acc: 0.48621553884711777, Validation loss: 1.7049901144845145\n",
            "Epoch 18: Train acc: 0.5325493490130198, Train loss: 1.7744271127801192 |Validation acc: 0.5263157894736842, Validation loss: 1.691549437386649\n",
            "Epoch 19: Train acc: 0.5480890382192356, Train loss: 1.763108303672389 |Validation acc: 0.5388471177944862, Validation loss: 1.6791631153651647\n",
            "Epoch 20: Train acc: 0.5598488030239395, Train loss: 1.752153898540296 |Validation acc: 0.543859649122807, Validation loss: 1.6673895972115653\n",
            "Epoch 21: Train acc: 0.5707685846283075, Train loss: 1.7416098745245683 |Validation acc: 0.5526315789473685, Validation loss: 1.656552859715053\n",
            "Epoch 22: Train acc: 0.5791684166316674, Train loss: 1.7310652481882196 |Validation acc: 0.5626566416040101, Validation loss: 1.6460886001586914\n",
            "Epoch 23: Train acc: 0.5863082738345233, Train loss: 1.7208253960860402 |Validation acc: 0.5714285714285714, Validation loss: 1.636549813406808\n",
            "Epoch 24: Train acc: 0.5888282234355313, Train loss: 1.7105196902626438 |Validation acc: 0.5764411027568922, Validation loss: 1.6271367754255022\n",
            "Epoch 25: Train acc: 0.5930281394372112, Train loss: 1.7005354228772616 |Validation acc: 0.5802005012531328, Validation loss: 1.6186471666608537\n",
            "Epoch 26: Train acc: 0.5997480050398992, Train loss: 1.6907192029451068 |Validation acc: 0.5852130325814536, Validation loss: 1.6101856231689453\n",
            "Epoch 27: Train acc: 0.6026879462410751, Train loss: 1.6809829912687604 |Validation acc: 0.5889724310776943, Validation loss: 1.6025509153093611\n",
            "Epoch 28: Train acc: 0.6060478790424192, Train loss: 1.6718796177914268 |Validation acc: 0.5939849624060151, Validation loss: 1.5950685228620256\n",
            "Epoch 29: Train acc: 0.6089878202435951, Train loss: 1.6625455555162931 |Validation acc: 0.5952380952380952, Validation loss: 1.5881778172084264\n",
            "Epoch 30: Train acc: 0.613607727845443, Train loss: 1.6539954135292454 |Validation acc: 0.5964912280701754, Validation loss: 1.5814643587384904\n",
            "Epoch 31: Train acc: 0.6157076858462831, Train loss: 1.645256243254009 |Validation acc: 0.600250626566416, Validation loss: 1.5753469467163086\n",
            "Epoch 32: Train acc: 0.618647627047459, Train loss: 1.6375035737690173 |Validation acc: 0.6027568922305765, Validation loss: 1.5693392072405135\n",
            "Epoch 33: Train acc: 0.621587568248635, Train loss: 1.629079818725586 |Validation acc: 0.606516290726817, Validation loss: 1.5639204297746931\n",
            "Epoch 34: Train acc: 0.625367492650147, Train loss: 1.622175417448345 |Validation acc: 0.6102756892230576, Validation loss: 1.5585223606654577\n",
            "Epoch 35: Train acc: 0.626627467450651, Train loss: 1.614202800549959 |Validation acc: 0.6152882205513784, Validation loss: 1.5537231990269251\n",
            "Epoch 36: Train acc: 0.629987400251995, Train loss: 1.60833740234375 |Validation acc: 0.6190476190476191, Validation loss: 1.5489768981933594\n",
            "Epoch 37: Train acc: 0.631247375052499, Train loss: 1.600585234792609 |Validation acc: 0.6203007518796992, Validation loss: 1.544679914202009\n",
            "Epoch 38: Train acc: 0.636707265854683, Train loss: 1.5958626395777653 |Validation acc: 0.6215538847117794, Validation loss: 1.5405409676688058\n",
            "Epoch 39: Train acc: 0.6383872322553549, Train loss: 1.5882235075298108 |Validation acc: 0.6215538847117794, Validation loss: 1.5367073331560408\n",
            "Epoch 40: Train acc: 0.6430071398572028, Train loss: 1.584941261693051 |Validation acc: 0.6228070175438597, Validation loss: 1.5332014901297433\n",
            "Epoch 41: Train acc: 0.6417471650566988, Train loss: 1.5769780811510588 |Validation acc: 0.6240601503759399, Validation loss: 1.5296013695853097\n",
            "Epoch 42: Train acc: 0.6459470810583788, Train loss: 1.5756580955103825 |Validation acc: 0.6278195488721805, Validation loss: 1.5269885744367326\n",
            "Epoch 43: Train acc: 0.6446871062578748, Train loss: 1.5667631249678762 |Validation acc: 0.6278195488721805, Validation loss: 1.5233895438058036\n",
            "Epoch 44: Train acc: 0.6493070138597228, Train loss: 1.5678556341873973 |Validation acc: 0.6328320802005013, Validation loss: 1.521913664681571\n",
            "Epoch 45: Train acc: 0.6505669886602268, Train loss: 1.5577349411813837 |Validation acc: 0.6303258145363408, Validation loss: 1.5181933811732702\n",
            "Epoch 46: Train acc: 0.6493070138597228, Train loss: 1.5616362722296464 |Validation acc: 0.6328320802005013, Validation loss: 1.5181886128016882\n",
            "Epoch 47: Train acc: 0.6568668626627467, Train loss: 1.5499981328060752 |Validation acc: 0.6290726817042607, Validation loss: 1.5143063408987862\n",
            "Epoch 48: Train acc: 0.6488870222595549, Train loss: 1.5573211469148334 |Validation acc: 0.6278195488721805, Validation loss: 1.5159338542393275\n",
            "Epoch 49: Train acc: 0.6593868122637547, Train loss: 1.5434928693269427 |Validation acc: 0.6303258145363408, Validation loss: 1.5117425918579102\n",
            "Epoch 50: Train acc: 0.6514069718605627, Train loss: 1.5549413781417043 |Validation acc: 0.6303258145363408, Validation loss: 1.5147359030587333\n",
            "Epoch 51: Train acc: 0.6568668626627467, Train loss: 1.5383004640278064 |Validation acc: 0.6215538847117794, Validation loss: 1.5101160321916853\n",
            "Epoch 52: Train acc: 0.6522469550608988, Train loss: 1.5540596811394942 |Validation acc: 0.6303258145363408, Validation loss: 1.5133345467703683\n",
            "Epoch 53: Train acc: 0.6551868962620747, Train loss: 1.5338775233218545 |Validation acc: 0.6203007518796992, Validation loss: 1.5082815715244837\n",
            "Epoch 54: Train acc: 0.6539269214615707, Train loss: 1.5533316762823808 |Validation acc: 0.6328320802005013, Validation loss: 1.5096173967633928\n",
            "Epoch 55: Train acc: 0.6602267954640907, Train loss: 1.5289407027395148 |Validation acc: 0.6265664160401002, Validation loss: 1.503969464983259\n",
            "Epoch 56: Train acc: 0.6627467450650987, Train loss: 1.5505196420769942 |Validation acc: 0.6378446115288221, Validation loss: 1.5026448113577706\n",
            "Epoch 57: Train acc: 0.6740865182696346, Train loss: 1.5222808436343545 |Validation acc: 0.6378446115288221, Validation loss: 1.4959068298339844\n",
            "Epoch 58: Train acc: 0.6753464930701386, Train loss: 1.5439213200619346 |Validation acc: 0.6478696741854637, Validation loss: 1.4936343601771764\n",
            "Epoch 59: Train acc: 0.6929861402771944, Train loss: 1.5138282775878906 |Validation acc: 0.6591478696741855, Validation loss: 1.4853407996041434\n",
            "Epoch 60: Train acc: 0.6854262914741706, Train loss: 1.5338483107717413 |Validation acc: 0.6604010025062657, Validation loss: 1.484222684587751\n",
            "Epoch 61: Train acc: 0.7110457790844184, Train loss: 1.5048066189414577 |Validation acc: 0.6754385964912281, Validation loss: 1.4748939786638533\n",
            "Epoch 62: Train acc: 0.7022259554808904, Train loss: 1.5222534380461041 |Validation acc: 0.6729323308270677, Validation loss: 1.475365366254534\n",
            "Epoch 63: Train acc: 0.7282654346913062, Train loss: 1.4968291834781045 |Validation acc: 0.6867167919799498, Validation loss: 1.4665803909301758\n",
            "Epoch 64: Train acc: 0.7177656446871062, Train loss: 1.5109255941290605 |Validation acc: 0.6829573934837093, Validation loss: 1.4677070890154158\n",
            "Epoch 65: Train acc: 0.7404451910961781, Train loss: 1.4906142385382402 |Validation acc: 0.6929824561403509, Validation loss: 1.4605372292654855\n",
            "Epoch 66: Train acc: 0.7328853422931542, Train loss: 1.5004087749280428 |Validation acc: 0.6904761904761905, Validation loss: 1.4610249655587333\n",
            "Epoch 67: Train acc: 0.747585048299034, Train loss: 1.4859914277729236 |Validation acc: 0.7030075187969925, Validation loss: 1.4557304382324219\n",
            "Epoch 68: Train acc: 0.748005039899202, Train loss: 1.4906647330836247 |Validation acc: 0.7092731829573935, Validation loss: 1.4549031938825334\n",
            "Epoch 69: Train acc: 0.759764804703906, Train loss: 1.4815459000436884 |Validation acc: 0.7092731829573935, Validation loss: 1.451230457850865\n",
            "Epoch 70: Train acc: 0.7622847543049139, Train loss: 1.4817554072329873 |Validation acc: 0.7218045112781954, Validation loss: 1.4493011747087752\n",
            "Epoch 71: Train acc: 0.7669046619067619, Train loss: 1.4764310937178762 |Validation acc: 0.7230576441102757, Validation loss: 1.4466653551374162\n",
            "Epoch 72: Train acc: 0.7702645947081058, Train loss: 1.4738154160348993 |Validation acc: 0.7293233082706767, Validation loss: 1.4441874367850167\n",
            "Epoch 73: Train acc: 0.7753044939101218, Train loss: 1.4702974620618319 |Validation acc: 0.7293233082706767, Validation loss: 1.4419547489711217\n",
            "Epoch 74: Train acc: 0.7799244015119697, Train loss: 1.4666438855622943 |Validation acc: 0.7380952380952381, Validation loss: 1.439413343157087\n",
            "Epoch 75: Train acc: 0.7828643427131458, Train loss: 1.4635076020893298 |Validation acc: 0.7431077694235589, Validation loss: 1.437208584376744\n",
            "Epoch 76: Train acc: 0.7870642587148257, Train loss: 1.4597810444078947 |Validation acc: 0.7481203007518797, Validation loss: 1.4348201751708984\n",
            "Epoch 77: Train acc: 0.7925241495170097, Train loss: 1.4565209840473377 |Validation acc: 0.7493734335839599, Validation loss: 1.4326042447771346\n",
            "Epoch 78: Train acc: 0.7967240655186896, Train loss: 1.4529403887296979 |Validation acc: 0.7543859649122807, Validation loss: 1.4303436279296875\n",
            "Epoch 79: Train acc: 0.8021839563208736, Train loss: 1.4495630766216077 |Validation acc: 0.7606516290726817, Validation loss: 1.4281282424926758\n",
            "Epoch 80: Train acc: 0.8051238975220496, Train loss: 1.4461592624061985 |Validation acc: 0.7656641604010025, Validation loss: 1.4259591783796037\n",
            "Epoch 81: Train acc: 0.8076438471230576, Train loss: 1.4427338650352077 |Validation acc: 0.7706766917293233, Validation loss: 1.4238063267299108\n",
            "Epoch 82: Train acc: 0.8089038219235616, Train loss: 1.4393936960320723 |Validation acc: 0.7731829573934837, Validation loss: 1.421668325151716\n",
            "Epoch 83: Train acc: 0.8122637547249055, Train loss: 1.4360810330039577 |Validation acc: 0.7744360902255639, Validation loss: 1.4196247373308455\n",
            "Epoch 84: Train acc: 0.8160436791264175, Train loss: 1.432757528204667 |Validation acc: 0.7756892230576441, Validation loss: 1.4175296510968889\n",
            "Epoch 85: Train acc: 0.8189836203275934, Train loss: 1.429567537809673 |Validation acc: 0.7781954887218046, Validation loss: 1.4155475071498327\n",
            "Epoch 86: Train acc: 0.8219235615287694, Train loss: 1.426306072034334 |Validation acc: 0.7807017543859649, Validation loss: 1.41351318359375\n",
            "Epoch 87: Train acc: 0.8244435111297774, Train loss: 1.4230494248239618 |Validation acc: 0.7819548872180451, Validation loss: 1.4115477970668249\n",
            "Epoch 88: Train acc: 0.8282234355312894, Train loss: 1.420012725026984 |Validation acc: 0.7844611528822055, Validation loss: 1.4095873151506697\n",
            "Epoch 89: Train acc: 0.8307433851322974, Train loss: 1.416752162732576 |Validation acc: 0.7882205513784462, Validation loss: 1.4076647077287947\n",
            "Epoch 90: Train acc: 0.8332633347333054, Train loss: 1.413817757054379 |Validation acc: 0.7869674185463659, Validation loss: 1.405775887625558\n",
            "Epoch 91: Train acc: 0.8362032759344813, Train loss: 1.4105890173661082 |Validation acc: 0.7882205513784462, Validation loss: 1.4038877487182617\n",
            "Epoch 92: Train acc: 0.8391432171356573, Train loss: 1.4077482725444592 |Validation acc: 0.7919799498746867, Validation loss: 1.4020745413643974\n",
            "Epoch 93: Train acc: 0.8416631667366653, Train loss: 1.4045878962466591 |Validation acc: 0.7957393483709273, Validation loss: 1.4002155576433455\n",
            "Epoch 94: Train acc: 0.8433431331373372, Train loss: 1.4018064800061678 |Validation acc: 0.7982456140350878, Validation loss: 1.3984733309064592\n",
            "Epoch 95: Train acc: 0.8450230995380092, Train loss: 1.3986318487870066 |Validation acc: 0.7994987468671679, Validation loss: 1.3966564450945174\n",
            "Epoch 96: Train acc: 0.8467030659386813, Train loss: 1.3960492987381785 |Validation acc: 0.8045112781954887, Validation loss: 1.3949805668422155\n",
            "Epoch 97: Train acc: 0.8488030239395212, Train loss: 1.392850072760331 |Validation acc: 0.8057644110275689, Validation loss: 1.3932041440691267\n",
            "Epoch 98: Train acc: 0.8525829483410332, Train loss: 1.390403245624743 |Validation acc: 0.8032581453634086, Validation loss: 1.391610826764788\n",
            "Epoch 99: Train acc: 0.8555228895422091, Train loss: 1.387089076795076 |Validation acc: 0.8032581453634086, Validation loss: 1.389829499380929\n",
            "Epoch 100: Train acc: 0.8563628727425452, Train loss: 1.3849274484734786 |Validation acc: 0.8057644110275689, Validation loss: 1.388333456856864\n",
            "Finished Training\n"
          ],
          "name": "stdout"
        }
      ]
    },
    {
      "cell_type": "code",
      "metadata": {
        "id": "4ygvlaNGmgXW",
        "colab_type": "code",
        "outputId": "51ae122a-e160-4547-ae48-6e92148836bf",
        "colab": {
          "base_uri": "https://localhost:8080/",
          "height": 607
        }
      },
      "source": [
        "model_path = get_model_name(\"vgg16_ann\", batch_size=128, learning_rate=0.001, epoch=99)\n",
        "plot_training_curve('/content/' + model_path)"
      ],
      "execution_count": 37,
      "outputs": [
        {
          "output_type": "display_data",
          "data": {
            "image/png": "[encoded data removed]",
            "text/plain": [
              "<Figure size 432x288 with 1 Axes>"
            ]
          },
          "metadata": {
            "tags": []
          }
        },
        {
          "output_type": "display_data",
          "data": {
            "image/png": "[encoded data removed]",
            "text/plain": [
              "<Figure size 432x288 with 1 Axes>"
            ]
          },
          "metadata": {
            "tags": []
          }
        },
        {
          "output_type": "stream",
          "text": [
            "Final Training Accuracy: 0.8563628727425452\n",
            "Final Validation Accuracy: 0.8057644110275689\n"
          ],
          "name": "stdout"
        }
      ]
    },
    {
      "cell_type": "code",
      "metadata": {
        "id": "UEGAxXgAczZc",
        "colab_type": "code",
        "colab": {
          "base_uri": "https://localhost:8080/",
          "height": 1000
        },
        "outputId": "9351cec7-e6ac-4332-8518-fd29b386a806"
      },
      "source": [
        "model = ANNClassifier_Alexnet()\n",
        "train_net(model, batch_size=128, learning_rate=0.001, num_epochs=100,\n",
        "    data_dir='/content/drive/My Drive/Colab Notebooks/Faces/alexnet')"
      ],
      "execution_count": 44,
      "outputs": [
        {
          "output_type": "stream",
          "text": [
            "Drive already mounted at /content/drive; to attempt to forcibly remount, call drive.mount(\"/content/drive\", force_remount=True).\n"
          ],
          "name": "stdout"
        },
        {
          "output_type": "stream",
          "text": [
            "/usr/local/lib/python3.6/dist-packages/ipykernel_launcher.py:175: UserWarning: Implicit dimension choice for softmax has been deprecated. Change the call to include dim=X as an argument.\n",
            "/usr/local/lib/python3.6/dist-packages/ipykernel_launcher.py:55: UserWarning: Implicit dimension choice for softmax has been deprecated. Change the call to include dim=X as an argument.\n",
            "/usr/local/lib/python3.6/dist-packages/ipykernel_launcher.py:85: UserWarning: Implicit dimension choice for softmax has been deprecated. Change the call to include dim=X as an argument.\n"
          ],
          "name": "stderr"
        },
        {
          "output_type": "stream",
          "text": [
            "Epoch 1: Train acc: 0.22431077694235588, Train loss: 1.9920312981856496 |Validation acc: 0.21679197994987467, Validation loss: 1.9496423176356725\n",
            "Epoch 2: Train acc: 0.24269005847953215, Train loss: 1.9617793434544613 |Validation acc: 0.23308270676691728, Validation loss: 1.943739754813058\n",
            "Epoch 3: Train acc: 0.35254803675856305, Train loss: 1.9532542981599506 |Validation acc: 0.31954887218045114, Validation loss: 1.9375049046107702\n",
            "Epoch 4: Train acc: 0.3617376775271512, Train loss: 1.9486973411158512 |Validation acc: 0.34962406015037595, Validation loss: 1.931262425013951\n",
            "Epoch 5: Train acc: 0.35714285714285715, Train loss: 1.944196801436575 |Validation acc: 0.3433583959899749, Validation loss: 1.9252910614013672\n",
            "Epoch 6: Train acc: 0.34210526315789475, Train loss: 1.9403800964355469 |Validation acc: 0.3358395989974937, Validation loss: 1.918555668422154\n",
            "Epoch 7: Train acc: 0.3717627401837928, Train loss: 1.9364371048776727 |Validation acc: 0.35964912280701755, Validation loss: 1.9113712310791016\n",
            "Epoch 8: Train acc: 0.366750208855472, Train loss: 1.9321132459138568 |Validation acc: 0.3558897243107769, Validation loss: 1.9034227643694197\n",
            "Epoch 9: Train acc: 0.3842940685045948, Train loss: 1.9271971050061678 |Validation acc: 0.37343358395989973, Validation loss: 1.8952012743268694\n",
            "Epoch 10: Train acc: 0.36716791979949875, Train loss: 1.9225028188605058 |Validation acc: 0.36716791979949875, Validation loss: 1.8851886476789201\n",
            "Epoch 11: Train acc: 0.38763575605680867, Train loss: 1.9165735746684827 |Validation acc: 0.38721804511278196, Validation loss: 1.874844687325614\n",
            "Epoch 12: Train acc: 0.3738512949039265, Train loss: 1.9110512984426398 |Validation acc: 0.37844611528822053, Validation loss: 1.8641628537859236\n",
            "Epoch 13: Train acc: 0.40309106098579783, Train loss: 1.9034522207159745 |Validation acc: 0.39348370927318294, Validation loss: 1.8513397489275252\n",
            "Epoch 14: Train acc: 0.41687552213868, Train loss: 1.8954560129266036 |Validation acc: 0.39849624060150374, Validation loss: 1.8382124219621931\n",
            "Epoch 15: Train acc: 0.4189640768588137, Train loss: 1.8872329310366982 |Validation acc: 0.40726817042606517, Validation loss: 1.8245647975376673\n",
            "Epoch 16: Train acc: 0.4423558897243108, Train loss: 1.8766322888826068 |Validation acc: 0.4348370927318296, Validation loss: 1.811053684779576\n",
            "Epoch 17: Train acc: 0.4465329991645781, Train loss: 1.8648426658228825 |Validation acc: 0.4423558897243108, Validation loss: 1.7940375464303153\n",
            "Epoch 18: Train acc: 0.46825396825396826, Train loss: 1.8546911540784334 |Validation acc: 0.462406015037594, Validation loss: 1.7809366498674666\n",
            "Epoch 19: Train acc: 0.4774436090225564, Train loss: 1.8379135131835938 |Validation acc: 0.4774436090225564, Validation loss: 1.7595724378313338\n",
            "Epoch 20: Train acc: 0.5041771094402674, Train loss: 1.8285632886384662 |Validation acc: 0.49624060150375937, Validation loss: 1.7452511106218611\n",
            "Epoch 21: Train acc: 0.49624060150375937, Train loss: 1.8118926600406045 |Validation acc: 0.4949874686716792, Validation loss: 1.7238269533429826\n",
            "Epoch 22: Train acc: 0.5179615705931495, Train loss: 1.8025056939376027 |Validation acc: 0.5112781954887218, Validation loss: 1.7087668010166712\n",
            "Epoch 23: Train acc: 0.5137844611528822, Train loss: 1.7875860113846629 |Validation acc: 0.506265664160401, Validation loss: 1.6922597885131836\n",
            "Epoch 24: Train acc: 0.529657477025898, Train loss: 1.7764976903011924 |Validation acc: 0.5225563909774437, Validation loss: 1.6787500381469727\n",
            "Epoch 25: Train acc: 0.5350877192982456, Train loss: 1.762630864193565 |Validation acc: 0.5263157894736842, Validation loss: 1.665292739868164\n",
            "Epoch 26: Train acc: 0.5459482038429407, Train loss: 1.7514020016318874 |Validation acc: 0.5300751879699248, Validation loss: 1.6542401994977678\n",
            "Epoch 27: Train acc: 0.5559732664995823, Train loss: 1.7399358247455798 |Validation acc: 0.5363408521303258, Validation loss: 1.643923078264509\n",
            "Epoch 28: Train acc: 0.5626566416040101, Train loss: 1.7292468422337581 |Validation acc: 0.5388471177944862, Validation loss: 1.6350879669189453\n",
            "Epoch 29: Train acc: 0.5735171261487051, Train loss: 1.719144720780222 |Validation acc: 0.5513784461152882, Validation loss: 1.626413345336914\n",
            "Epoch 30: Train acc: 0.5789473684210527, Train loss: 1.71027956510845 |Validation acc: 0.5551378446115288, Validation loss: 1.6191748210362025\n",
            "Epoch 31: Train acc: 0.5827067669172933, Train loss: 1.7010257118626644 |Validation acc: 0.5651629072681704, Validation loss: 1.6115578242710658\n",
            "Epoch 32: Train acc: 0.5889724310776943, Train loss: 1.6935984962864925 |Validation acc: 0.5651629072681704, Validation loss: 1.6053034918648856\n",
            "Epoch 33: Train acc: 0.5944026733500418, Train loss: 1.6853836461117393 |Validation acc: 0.5726817042606517, Validation loss: 1.5987024307250977\n",
            "Epoch 34: Train acc: 0.5994152046783626, Train loss: 1.6785906741493626 |Validation acc: 0.5764411027568922, Validation loss: 1.593010766165597\n",
            "Epoch 35: Train acc: 0.6027568922305765, Train loss: 1.6712237910220498 |Validation acc: 0.5789473684210527, Validation loss: 1.5872113364083427\n",
            "Epoch 36: Train acc: 0.6090225563909775, Train loss: 1.6654577757182873 |Validation acc: 0.5852130325814536, Validation loss: 1.5820892878941126\n",
            "Epoch 37: Train acc: 0.6173767752715121, Train loss: 1.6584484702662419 |Validation acc: 0.5927318295739349, Validation loss: 1.5766513007027763\n",
            "Epoch 38: Train acc: 0.6190476190476191, Train loss: 1.6531309830515009 |Validation acc: 0.5977443609022557, Validation loss: 1.5717296600341797\n",
            "Epoch 39: Train acc: 0.6232247284878863, Train loss: 1.6467657591167248 |Validation acc: 0.6027568922305765, Validation loss: 1.5667898995535714\n",
            "Epoch 40: Train acc: 0.6278195488721805, Train loss: 1.6417422043649774 |Validation acc: 0.6102756892230576, Validation loss: 1.5620010920933314\n",
            "Epoch 41: Train acc: 0.6299081035923141, Train loss: 1.6360036950362356 |Validation acc: 0.6140350877192983, Validation loss: 1.557385035923549\n",
            "Epoch 42: Train acc: 0.6378446115288221, Train loss: 1.631102913304379 |Validation acc: 0.6240601503759399, Validation loss: 1.5526677540370397\n",
            "Epoch 43: Train acc: 0.6428571428571429, Train loss: 1.6259619060315584 |Validation acc: 0.631578947368421, Validation loss: 1.5483801705496651\n",
            "Epoch 44: Train acc: 0.647451963241437, Train loss: 1.6211136265804893 |Validation acc: 0.6365914786967418, Validation loss: 1.543879781450544\n",
            "Epoch 45: Train acc: 0.6495405179615706, Train loss: 1.6164739508377879 |Validation acc: 0.6428571428571429, Validation loss: 1.5397723061697823\n",
            "Epoch 46: Train acc: 0.6532999164578112, Train loss: 1.6117503517552425 |Validation acc: 0.6441102756892231, Validation loss: 1.535367148263114\n",
            "Epoch 47: Train acc: 0.6562238930659984, Train loss: 1.6075931348298724 |Validation acc: 0.6453634085213033, Validation loss: 1.5314505440848214\n",
            "Epoch 48: Train acc: 0.664578111946533, Train loss: 1.6026983763042248 |Validation acc: 0.6516290726817042, Validation loss: 1.527181897844587\n",
            "Epoch 49: Train acc: 0.66624895572264, Train loss: 1.599128522370991 |Validation acc: 0.6541353383458647, Validation loss: 1.5233361380440849\n",
            "Epoch 50: Train acc: 0.6737677527151211, Train loss: 1.594029376381322 |Validation acc: 0.6629072681704261, Validation loss: 1.5191179003034319\n",
            "Epoch 51: Train acc: 0.6762740183792816, Train loss: 1.5908260345458984 |Validation acc: 0.6654135338345865, Validation loss: 1.5155883516584123\n",
            "Epoch 52: Train acc: 0.6842105263157895, Train loss: 1.5857588115491366 |Validation acc: 0.6741854636591479, Validation loss: 1.5113428660801478\n",
            "Epoch 53: Train acc: 0.6850459482038429, Train loss: 1.5831194425884045 |Validation acc: 0.6766917293233082, Validation loss: 1.5080078669956751\n",
            "Epoch 54: Train acc: 0.6925647451963242, Train loss: 1.5775335211502879 |Validation acc: 0.6842105263157895, Validation loss: 1.5037242344447546\n",
            "Epoch 55: Train acc: 0.6921470342522974, Train loss: 1.5755799946032072 |Validation acc: 0.6854636591478697, Validation loss: 1.5007051740373885\n",
            "Epoch 56: Train acc: 0.7030075187969925, Train loss: 1.5696171208431846 |Validation acc: 0.6917293233082706, Validation loss: 1.4963692256382533\n",
            "Epoch 57: Train acc: 0.7046783625730995, Train loss: 1.567818792242753 |Validation acc: 0.6929824561403509, Validation loss: 1.4933366775512695\n",
            "Epoch 58: Train acc: 0.7092731829573935, Train loss: 1.5621423219379627 |Validation acc: 0.7005012531328321, Validation loss: 1.4892336981637138\n",
            "Epoch 59: Train acc: 0.7096908939014203, Train loss: 1.5602075677168996 |Validation acc: 0.7030075187969925, Validation loss: 1.4864140919276647\n",
            "Epoch 60: Train acc: 0.7201336675020885, Train loss: 1.5549132698460628 |Validation acc: 0.7092731829573935, Validation loss: 1.4822968074253626\n",
            "Epoch 61: Train acc: 0.7180451127819549, Train loss: 1.5528023368433903 |Validation acc: 0.7117794486215538, Validation loss: 1.4796946389334542\n",
            "Epoch 62: Train acc: 0.727234753550543, Train loss: 1.5475225950542248 |Validation acc: 0.7130325814536341, Validation loss: 1.4757024220057897\n",
            "Epoch 63: Train acc: 0.7276524644945698, Train loss: 1.5457681354723478 |Validation acc: 0.7142857142857143, Validation loss: 1.4732200077601842\n",
            "Epoch 64: Train acc: 0.7326649958228906, Train loss: 1.5402013879073293 |Validation acc: 0.7230576441102757, Validation loss: 1.469230788094657\n",
            "Epoch 65: Train acc: 0.7309941520467836, Train loss: 1.538787239476254 |Validation acc: 0.7218045112781954, Validation loss: 1.4669738497052873\n",
            "Epoch 66: Train acc: 0.7393483709273183, Train loss: 1.5332002137836658 |Validation acc: 0.7268170426065163, Validation loss: 1.4632610593523299\n",
            "Epoch 67: Train acc: 0.7376775271512114, Train loss: 1.5317357715807463 |Validation acc: 0.7243107769423559, Validation loss: 1.460859979901995\n",
            "Epoch 68: Train acc: 0.7451963241436925, Train loss: 1.5264227013838918 |Validation acc: 0.7280701754385965, Validation loss: 1.4573835645403181\n",
            "Epoch 69: Train acc: 0.7435254803675856, Train loss: 1.524741022210372 |Validation acc: 0.7280701754385965, Validation loss: 1.4550651822771346\n",
            "Epoch 70: Train acc: 0.7535505430242272, Train loss: 1.5197966726202714 |Validation acc: 0.731829573934837, Validation loss: 1.4518108367919922\n",
            "Epoch 71: Train acc: 0.753968253968254, Train loss: 1.5177629370438426 |Validation acc: 0.7355889724310777, Validation loss: 1.4493849618094308\n",
            "Epoch 72: Train acc: 0.7602339181286549, Train loss: 1.5133247375488281 |Validation acc: 0.7393483709273183, Validation loss: 1.4464515958513533\n",
            "Epoch 73: Train acc: 0.7614870509607352, Train loss: 1.5109413548519737 |Validation acc: 0.7418546365914787, Validation loss: 1.444084984915597\n",
            "Epoch 74: Train acc: 0.7669172932330827, Train loss: 1.5068981772974919 |Validation acc: 0.7443609022556391, Validation loss: 1.4412028448922294\n",
            "Epoch 75: Train acc: 0.7685881370091896, Train loss: 1.50449622304816 |Validation acc: 0.7431077694235589, Validation loss: 1.4389771052769251\n",
            "Epoch 76: Train acc: 0.7715121136173768, Train loss: 1.5004821576570209 |Validation acc: 0.7468671679197995, Validation loss: 1.4363148553030831\n",
            "Epoch 77: Train acc: 0.7736006683375104, Train loss: 1.4979480944181744 |Validation acc: 0.7493734335839599, Validation loss: 1.4339760371616908\n",
            "Epoch 78: Train acc: 0.7748538011695907, Train loss: 1.4943909896047491 |Validation acc: 0.7518796992481203, Validation loss: 1.4315930775233678\n",
            "Epoch 79: Train acc: 0.7761069340016709, Train loss: 1.4914972405684621 |Validation acc: 0.7556390977443609, Validation loss: 1.4292583465576172\n",
            "Epoch 80: Train acc: 0.779030910609858, Train loss: 1.488298215364155 |Validation acc: 0.7568922305764411, Validation loss: 1.4269752502441406\n",
            "Epoch 81: Train acc: 0.7823725981620718, Train loss: 1.4853178325452303 |Validation acc: 0.7593984962406015, Validation loss: 1.4247613634381975\n",
            "Epoch 82: Train acc: 0.7844611528822055, Train loss: 1.4821670933773643 |Validation acc: 0.7631578947368421, Validation loss: 1.4225303104945592\n",
            "Epoch 83: Train acc: 0.7869674185463659, Train loss: 1.4791827954744037 |Validation acc: 0.7644110275689223, Validation loss: 1.420393807547433\n",
            "Epoch 84: Train acc: 0.7890559732664996, Train loss: 1.476170489662572 |Validation acc: 0.768170426065163, Validation loss: 1.418236596243722\n",
            "Epoch 85: Train acc: 0.7890559732664996, Train loss: 1.4731969331440173 |Validation acc: 0.7694235588972431, Validation loss: 1.4163322448730469\n",
            "Epoch 86: Train acc: 0.7911445279866333, Train loss: 1.4701192755448191 |Validation acc: 0.7694235588972431, Validation loss: 1.4141573224748885\n",
            "Epoch 87: Train acc: 0.7919799498746867, Train loss: 1.4672398818166632 |Validation acc: 0.7706766917293233, Validation loss: 1.4123085566929408\n",
            "Epoch 88: Train acc: 0.7949039264828739, Train loss: 1.46431481210809 |Validation acc: 0.7744360902255639, Validation loss: 1.4102112906319755\n",
            "Epoch 89: Train acc: 0.7986633249791144, Train loss: 1.4612239034552323 |Validation acc: 0.7731829573934837, Validation loss: 1.4084561211722237\n",
            "Epoch 90: Train acc: 0.7999164578111947, Train loss: 1.458485251978824 |Validation acc: 0.7731829573934837, Validation loss: 1.406468391418457\n",
            "Epoch 91: Train acc: 0.8011695906432749, Train loss: 1.4554397181460732 |Validation acc: 0.7744360902255639, Validation loss: 1.4046569551740373\n",
            "Epoch 92: Train acc: 0.804093567251462, Train loss: 1.4525486795525802 |Validation acc: 0.7756892230576441, Validation loss: 1.4027981076921736\n",
            "Epoch 93: Train acc: 0.8070175438596491, Train loss: 1.4497237958406146 |Validation acc: 0.7744360902255639, Validation loss: 1.4009428024291992\n",
            "Epoch 94: Train acc: 0.8091060985797828, Train loss: 1.4467855754651522 |Validation acc: 0.7781954887218046, Validation loss: 1.3992129734584264\n",
            "Epoch 95: Train acc: 0.810359231411863, Train loss: 1.444163573415656 |Validation acc: 0.7844611528822055, Validation loss: 1.39736693246024\n",
            "Epoch 96: Train acc: 0.8111946532999165, Train loss: 1.441019058227539 |Validation acc: 0.7857142857142857, Validation loss: 1.3956749779837472\n",
            "Epoch 97: Train acc: 0.8128654970760234, Train loss: 1.438656355205335 |Validation acc: 0.7894736842105263, Validation loss: 1.3938816615513392\n",
            "Epoch 98: Train acc: 0.8157894736842105, Train loss: 1.4354157698781866 |Validation acc: 0.7894736842105263, Validation loss: 1.3921872547694616\n",
            "Epoch 99: Train acc: 0.8178780284043442, Train loss: 1.4330917157624896 |Validation acc: 0.7919799498746867, Validation loss: 1.3904179164341517\n",
            "Epoch 100: Train acc: 0.8199665831244779, Train loss: 1.4299731003610712 |Validation acc: 0.793233082706767, Validation loss: 1.388833454677037\n",
            "Finished Training\n"
          ],
          "name": "stdout"
        }
      ]
    },
    {
      "cell_type": "code",
      "metadata": {
        "id": "CKjXp1V0c_Ry",
        "colab_type": "code",
        "colab": {
          "base_uri": "https://localhost:8080/",
          "height": 1000
        },
        "outputId": "6a6a3b4d-0839-4b8c-fc40-fbf54aaa8ab9"
      },
      "source": [
        "model = ANNClassifier_Alexnet()\n",
        "train_net(model, batch_size=128, learning_rate=0.001, num_epochs=150,\n",
        "    data_dir='/content/drive/My Drive/Colab Notebooks/Faces/alexnet')"
      ],
      "execution_count": 47,
      "outputs": [
        {
          "output_type": "stream",
          "text": [
            "Drive already mounted at /content/drive; to attempt to forcibly remount, call drive.mount(\"/content/drive\", force_remount=True).\n"
          ],
          "name": "stdout"
        },
        {
          "output_type": "stream",
          "text": [
            "/usr/local/lib/python3.6/dist-packages/ipykernel_launcher.py:175: UserWarning: Implicit dimension choice for softmax has been deprecated. Change the call to include dim=X as an argument.\n",
            "/usr/local/lib/python3.6/dist-packages/ipykernel_launcher.py:55: UserWarning: Implicit dimension choice for softmax has been deprecated. Change the call to include dim=X as an argument.\n",
            "/usr/local/lib/python3.6/dist-packages/ipykernel_launcher.py:85: UserWarning: Implicit dimension choice for softmax has been deprecated. Change the call to include dim=X as an argument.\n"
          ],
          "name": "stderr"
        },
        {
          "output_type": "stream",
          "text": [
            "Epoch 1: Train acc: 0.1620718462823726, Train loss: 1.9972502055921053 |Validation acc: 0.15664160401002505, Validation loss: 1.952554566519601\n",
            "Epoch 2: Train acc: 0.2677527151211362, Train loss: 1.9716933401007402 |Validation acc: 0.2631578947368421, Validation loss: 1.943528311593192\n",
            "Epoch 3: Train acc: 0.2844611528822055, Train loss: 1.9597262332313938 |Validation acc: 0.2706766917293233, Validation loss: 1.9353528703962053\n",
            "Epoch 4: Train acc: 0.27485380116959063, Train loss: 1.9523528249640214 |Validation acc: 0.2681704260651629, Validation loss: 1.9286830084664481\n",
            "Epoch 5: Train acc: 0.2623224728487886, Train loss: 1.947364606355366 |Validation acc: 0.2619047619047619, Validation loss: 1.9225164140973772\n",
            "Epoch 6: Train acc: 0.26357560568086885, Train loss: 1.942919881720292 |Validation acc: 0.2581453634085213, Validation loss: 1.9155426025390625\n",
            "Epoch 7: Train acc: 0.272765246449457, Train loss: 1.9384574890136719 |Validation acc: 0.2807017543859649, Validation loss: 1.9076989037649972\n",
            "Epoch 8: Train acc: 0.27903091060985796, Train loss: 1.9337393108167147 |Validation acc: 0.2819548872180451, Validation loss: 1.898409707205636\n",
            "Epoch 9: Train acc: 0.2982456140350877, Train loss: 1.9284503334446956 |Validation acc: 0.30200501253132833, Validation loss: 1.887857437133789\n",
            "Epoch 10: Train acc: 0.30743525480367584, Train loss: 1.9226967661004317 |Validation acc: 0.31453634085213034, Validation loss: 1.877448354448591\n",
            "Epoch 11: Train acc: 0.3408521303258145, Train loss: 1.9153731496710527 |Validation acc: 0.32957393483709274, Validation loss: 1.865359170096261\n",
            "Epoch 12: Train acc: 0.3579782790309106, Train loss: 1.907910196404708 |Validation acc: 0.3433583959899749, Validation loss: 1.8537123543875558\n",
            "Epoch 13: Train acc: 0.38721804511278196, Train loss: 1.8970591896458675 |Validation acc: 0.37844611528822053, Validation loss: 1.8389819008963448\n",
            "Epoch 14: Train acc: 0.3993316624895572, Train loss: 1.8888505634508634 |Validation acc: 0.38721804511278196, Validation loss: 1.8282139641898019\n",
            "Epoch 15: Train acc: 0.41729323308270677, Train loss: 1.8754031532689144 |Validation acc: 0.41353383458646614, Validation loss: 1.8086004257202148\n",
            "Epoch 16: Train acc: 0.4348370927318296, Train loss: 1.8655423616108142 |Validation acc: 0.42857142857142855, Validation loss: 1.7955296380179269\n",
            "Epoch 17: Train acc: 0.449874686716792, Train loss: 1.850275943153783 |Validation acc: 0.43859649122807015, Validation loss: 1.7747140611921037\n",
            "Epoch 18: Train acc: 0.4598997493734336, Train loss: 1.8401661923057155 |Validation acc: 0.449874686716792, Validation loss: 1.7591702597481864\n",
            "Epoch 19: Train acc: 0.45572263993316625, Train loss: 1.8259895726254112 |Validation acc: 0.45112781954887216, Validation loss: 1.7388975960867745\n",
            "Epoch 20: Train acc: 0.4778613199665831, Train loss: 1.8152190760562295 |Validation acc: 0.4774436090225564, Validation loss: 1.7239821297781808\n",
            "Epoch 21: Train acc: 0.474937343358396, Train loss: 1.8007736206054688 |Validation acc: 0.4774436090225564, Validation loss: 1.7054917471749442\n",
            "Epoch 22: Train acc: 0.49582289055973267, Train loss: 1.79123948749743 |Validation acc: 0.49874686716791977, Validation loss: 1.6925182342529297\n",
            "Epoch 23: Train acc: 0.49832915622389307, Train loss: 1.7768016614412006 |Validation acc: 0.5, Validation loss: 1.6774900981358118\n",
            "Epoch 24: Train acc: 0.5179615705931495, Train loss: 1.7666409141138981 |Validation acc: 0.5162907268170426, Validation loss: 1.666233743940081\n",
            "Epoch 25: Train acc: 0.5284043441938179, Train loss: 1.7543481525621916 |Validation acc: 0.525062656641604, Validation loss: 1.655001095363072\n",
            "Epoch 26: Train acc: 0.5409356725146199, Train loss: 1.7437169928299754 |Validation acc: 0.531328320802005, Validation loss: 1.6454409190586634\n",
            "Epoch 27: Train acc: 0.5513784461152882, Train loss: 1.7331639340049343 |Validation acc: 0.5401002506265664, Validation loss: 1.6363586698259627\n",
            "Epoch 28: Train acc: 0.5605680868838764, Train loss: 1.7231601915861432 |Validation acc: 0.543859649122807, Validation loss: 1.628303119114467\n",
            "Epoch 29: Train acc: 0.5676691729323309, Train loss: 1.7139035275107937 |Validation acc: 0.5513784461152882, Validation loss: 1.6205707277570451\n",
            "Epoch 30: Train acc: 0.5764411027568922, Train loss: 1.704926942524157 |Validation acc: 0.5538847117794486, Validation loss: 1.6134678976876395\n",
            "Epoch 31: Train acc: 0.5822890559732665, Train loss: 1.696685188695004 |Validation acc: 0.5601503759398496, Validation loss: 1.606692177908761\n",
            "Epoch 32: Train acc: 0.5881370091896407, Train loss: 1.6888943722373562 |Validation acc: 0.5626566416040101, Validation loss: 1.6003190449305944\n",
            "Epoch 33: Train acc: 0.5935672514619883, Train loss: 1.6813915654232627 |Validation acc: 0.5676691729323309, Validation loss: 1.5942418234688895\n",
            "Epoch 34: Train acc: 0.5981620718462823, Train loss: 1.6744755192806846 |Validation acc: 0.5739348370927319, Validation loss: 1.588529178074428\n",
            "Epoch 35: Train acc: 0.6027568922305765, Train loss: 1.6676165932103206 |Validation acc: 0.5764411027568922, Validation loss: 1.582887922014509\n",
            "Epoch 36: Train acc: 0.6102756892230576, Train loss: 1.6612605044716282 |Validation acc: 0.581453634085213, Validation loss: 1.5775841304234095\n",
            "Epoch 37: Train acc: 0.6148705096073517, Train loss: 1.6552073830052425 |Validation acc: 0.5852130325814536, Validation loss: 1.5723375592912947\n",
            "Epoch 38: Train acc: 0.620718462823726, Train loss: 1.6492714128996198 |Validation acc: 0.5952380952380952, Validation loss: 1.5673465728759766\n",
            "Epoch 39: Train acc: 0.6248955722639933, Train loss: 1.6436541707892167 |Validation acc: 0.5977443609022557, Validation loss: 1.5623720714024134\n",
            "Epoch 40: Train acc: 0.6299081035923141, Train loss: 1.6382336867483038 |Validation acc: 0.6040100250626567, Validation loss: 1.557614462716239\n",
            "Epoch 41: Train acc: 0.6349206349206349, Train loss: 1.632944107055664 |Validation acc: 0.6052631578947368, Validation loss: 1.5529437746320451\n",
            "Epoch 42: Train acc: 0.6386800334168755, Train loss: 1.62785510012978 |Validation acc: 0.6115288220551378, Validation loss: 1.5483815329415458\n",
            "Epoch 43: Train acc: 0.6428571428571429, Train loss: 1.6229493994461863 |Validation acc: 0.6190476190476191, Validation loss: 1.5439199720110213\n",
            "Epoch 44: Train acc: 0.6453634085213033, Train loss: 1.6180925871196545 |Validation acc: 0.6240601503759399, Validation loss: 1.5395716258457728\n",
            "Epoch 45: Train acc: 0.6491228070175439, Train loss: 1.613363265991211 |Validation acc: 0.6340852130325815, Validation loss: 1.5351794106619698\n",
            "Epoch 46: Train acc: 0.6549707602339181, Train loss: 1.6088435524388363 |Validation acc: 0.6428571428571429, Validation loss: 1.5309644426618303\n",
            "Epoch 47: Train acc: 0.6595655806182122, Train loss: 1.6042753520764803 |Validation acc: 0.650375939849624, Validation loss: 1.526714597429548\n",
            "Epoch 48: Train acc: 0.6666666666666666, Train loss: 1.6000085127981085 |Validation acc: 0.6541353383458647, Validation loss: 1.5226400920322962\n",
            "Epoch 49: Train acc: 0.6712614870509608, Train loss: 1.5956062517668073 |Validation acc: 0.6604010025062657, Validation loss: 1.518519674028669\n",
            "Epoch 50: Train acc: 0.6758563074352548, Train loss: 1.5915922867624384 |Validation acc: 0.6691729323308271, Validation loss: 1.5146119253976005\n",
            "Epoch 51: Train acc: 0.6812865497076024, Train loss: 1.5873261501914577 |Validation acc: 0.6741854636591479, Validation loss: 1.5106359209333147\n",
            "Epoch 52: Train acc: 0.6854636591478697, Train loss: 1.5834937848542865 |Validation acc: 0.6791979949874687, Validation loss: 1.5068253108433314\n",
            "Epoch 53: Train acc: 0.689640768588137, Train loss: 1.5793198033383018 |Validation acc: 0.6854636591478697, Validation loss: 1.5031287329537528\n",
            "Epoch 54: Train acc: 0.6929824561403509, Train loss: 1.5754105417351973 |Validation acc: 0.6917293233082706, Validation loss: 1.4993500028337752\n",
            "Epoch 55: Train acc: 0.6971595655806182, Train loss: 1.5717030575400905 |Validation acc: 0.6967418546365914, Validation loss: 1.4958596910749162\n",
            "Epoch 56: Train acc: 0.7000835421888053, Train loss: 1.567677246896844 |Validation acc: 0.6992481203007519, Validation loss: 1.4923103877476283\n",
            "Epoch 57: Train acc: 0.7063492063492064, Train loss: 1.5639497857344777 |Validation acc: 0.7080200501253133, Validation loss: 1.4888147626604353\n",
            "Epoch 58: Train acc: 0.7101086048454469, Train loss: 1.560197629426655 |Validation acc: 0.7105263157894737, Validation loss: 1.4854662758963448\n",
            "Epoch 59: Train acc: 0.7151211361737677, Train loss: 1.5565567016601562 |Validation acc: 0.7092731829573935, Validation loss: 1.482052939278739\n",
            "Epoch 60: Train acc: 0.7172096908939014, Train loss: 1.553003009996916 |Validation acc: 0.7142857142857143, Validation loss: 1.478886331830706\n",
            "Epoch 61: Train acc: 0.7218045112781954, Train loss: 1.5491110149182772 |Validation acc: 0.7167919799498746, Validation loss: 1.4754840305873327\n",
            "Epoch 62: Train acc: 0.7238930659983291, Train loss: 1.5460370716295744 |Validation acc: 0.7192982456140351, Validation loss: 1.472522599356515\n",
            "Epoch 63: Train acc: 0.7284878863826232, Train loss: 1.541887082551655 |Validation acc: 0.7205513784461153, Validation loss: 1.4692444120134627\n",
            "Epoch 64: Train acc: 0.7326649958228906, Train loss: 1.5389615109092312 |Validation acc: 0.7205513784461153, Validation loss: 1.466330119541713\n",
            "Epoch 65: Train acc: 0.7347535505430243, Train loss: 1.535033577366879 |Validation acc: 0.7243107769423559, Validation loss: 1.4632313592093331\n",
            "Epoch 66: Train acc: 0.7401837928153717, Train loss: 1.5319835261294716 |Validation acc: 0.7268170426065163, Validation loss: 1.4604078020368303\n",
            "Epoch 67: Train acc: 0.7439431913116124, Train loss: 1.528246327450401 |Validation acc: 0.7255639097744361, Validation loss: 1.4573931012834822\n",
            "Epoch 68: Train acc: 0.7468671679197995, Train loss: 1.5251704768130654 |Validation acc: 0.7268170426065163, Validation loss: 1.4546997887747628\n",
            "Epoch 69: Train acc: 0.7506265664160401, Train loss: 1.5214788537276418 |Validation acc: 0.7305764411027569, Validation loss: 1.4518029349190849\n",
            "Epoch 70: Train acc: 0.7543859649122807, Train loss: 1.5185632203754627 |Validation acc: 0.731829573934837, Validation loss: 1.4492457253592355\n",
            "Epoch 71: Train acc: 0.7593984962406015, Train loss: 1.5148594504908512 |Validation acc: 0.7330827067669173, Validation loss: 1.446432658604213\n",
            "Epoch 72: Train acc: 0.7623224728487886, Train loss: 1.5119475314491673 |Validation acc: 0.7380952380952381, Validation loss: 1.4439438411167689\n",
            "Epoch 73: Train acc: 0.7652464494569757, Train loss: 1.508359808670847 |Validation acc: 0.7418546365914787, Validation loss: 1.441316740853446\n",
            "Epoch 74: Train acc: 0.7673350041771094, Train loss: 1.5054948706375926 |Validation acc: 0.7431077694235589, Validation loss: 1.4388766969953264\n",
            "Epoch 75: Train acc: 0.7677527151211362, Train loss: 1.5021210720664577 |Validation acc: 0.7443609022556391, Validation loss: 1.4364254815237862\n",
            "Epoch 76: Train acc: 0.7698412698412699, Train loss: 1.4989717383133738 |Validation acc: 0.7506265664160401, Validation loss: 1.4339520590645927\n",
            "Epoch 77: Train acc: 0.7719298245614035, Train loss: 1.495975795545076 |Validation acc: 0.7543859649122807, Validation loss: 1.431684902736119\n",
            "Epoch 78: Train acc: 0.7744360902255639, Train loss: 1.4926883295962685 |Validation acc: 0.7568922305764411, Validation loss: 1.4293276923043388\n",
            "Epoch 79: Train acc: 0.7765246449456976, Train loss: 1.489886434454667 |Validation acc: 0.7581453634085213, Validation loss: 1.4271846498761858\n",
            "Epoch 80: Train acc: 0.7777777777777778, Train loss: 1.486561423853824 |Validation acc: 0.7581453634085213, Validation loss: 1.4248714447021484\n",
            "Epoch 81: Train acc: 0.7794486215538847, Train loss: 1.4839177382619757 |Validation acc: 0.7606516290726817, Validation loss: 1.4228164127894811\n",
            "Epoch 82: Train acc: 0.7823725981620718, Train loss: 1.4805843955592106 |Validation acc: 0.7631578947368421, Validation loss: 1.420647212437221\n",
            "Epoch 83: Train acc: 0.783625730994152, Train loss: 1.4779517525120784 |Validation acc: 0.7631578947368421, Validation loss: 1.4185829162597656\n",
            "Epoch 84: Train acc: 0.7861319966583125, Train loss: 1.4747579474198191 |Validation acc: 0.7669172932330827, Validation loss: 1.4165236609322684\n",
            "Epoch 85: Train acc: 0.7890559732664996, Train loss: 1.4720447941830284 |Validation acc: 0.768170426065163, Validation loss: 1.414546012878418\n",
            "Epoch 86: Train acc: 0.79156223893066, Train loss: 1.4690857937461452 |Validation acc: 0.7669172932330827, Validation loss: 1.4125855309622628\n",
            "Epoch 87: Train acc: 0.793233082706767, Train loss: 1.466252377158717 |Validation acc: 0.768170426065163, Validation loss: 1.410606520516532\n",
            "Epoch 88: Train acc: 0.7969924812030075, Train loss: 1.4634322116249485 |Validation acc: 0.7706766917293233, Validation loss: 1.4087306431361608\n",
            "Epoch 89: Train acc: 0.7999164578111947, Train loss: 1.4605586403294613 |Validation acc: 0.7731829573934837, Validation loss: 1.4068152563912528\n",
            "Epoch 90: Train acc: 0.8007518796992481, Train loss: 1.457786058124743 |Validation acc: 0.7731829573934837, Validation loss: 1.405010495867048\n",
            "Epoch 91: Train acc: 0.8032581453634086, Train loss: 1.4550589511269016 |Validation acc: 0.7756892230576441, Validation loss: 1.4031568254743303\n",
            "Epoch 92: Train acc: 0.8057644110275689, Train loss: 1.4522255345394737 |Validation acc: 0.7781954887218046, Validation loss: 1.4013987949916296\n",
            "Epoch 93: Train acc: 0.8061821219715957, Train loss: 1.4495458100971423 |Validation acc: 0.7807017543859649, Validation loss: 1.3996132441929408\n",
            "Epoch 94: Train acc: 0.8070175438596491, Train loss: 1.4467859770122327 |Validation acc: 0.7807017543859649, Validation loss: 1.3978800092424666\n",
            "Epoch 95: Train acc: 0.8116123642439432, Train loss: 1.4442334426076788 |Validation acc: 0.7844611528822055, Validation loss: 1.396186283656529\n",
            "Epoch 96: Train acc: 0.8137009189640768, Train loss: 1.4413849680047286 |Validation acc: 0.7857142857142857, Validation loss: 1.3944692611694336\n",
            "Epoch 97: Train acc: 0.8149540517961571, Train loss: 1.4388501016717208 |Validation acc: 0.7894736842105263, Validation loss: 1.3927439280918665\n",
            "Epoch 98: Train acc: 0.8187134502923976, Train loss: 1.436065071507504 |Validation acc: 0.7894736842105263, Validation loss: 1.3911511557442802\n",
            "Epoch 99: Train acc: 0.8191311612364244, Train loss: 1.4335690548545437 |Validation acc: 0.7919799498746867, Validation loss: 1.3895090648106165\n",
            "Epoch 100: Train acc: 0.8224728487886382, Train loss: 1.430761036119963 |Validation acc: 0.7957393483709273, Validation loss: 1.3878669738769531\n",
            "Epoch 101: Train acc: 0.8233082706766918, Train loss: 1.428247150621916 |Validation acc: 0.7969924812030075, Validation loss: 1.386265754699707\n",
            "Epoch 102: Train acc: 0.8258145363408521, Train loss: 1.4255132173237048 |Validation acc: 0.7957393483709273, Validation loss: 1.3847465515136719\n",
            "Epoch 103: Train acc: 0.827485380116959, Train loss: 1.4231784218236019 |Validation acc: 0.7969924812030075, Validation loss: 1.3831833430698939\n",
            "Epoch 104: Train acc: 0.8299916457811195, Train loss: 1.4204144728811163 |Validation acc: 0.7957393483709273, Validation loss: 1.381631306239537\n",
            "Epoch 105: Train acc: 0.8324979114452798, Train loss: 1.4180712448923212 |Validation acc: 0.8007518796992481, Validation loss: 1.3801618303571428\n",
            "Epoch 106: Train acc: 0.83375104427736, Train loss: 1.4155174054597552 |Validation acc: 0.8007518796992481, Validation loss: 1.3786290032523019\n",
            "Epoch 107: Train acc: 0.8350041771094403, Train loss: 1.4130627481560958 |Validation acc: 0.8045112781954887, Validation loss: 1.377228055681501\n",
            "Epoch 108: Train acc: 0.8362573099415205, Train loss: 1.4106581838507402 |Validation acc: 0.8070175438596491, Validation loss: 1.3757175718035017\n",
            "Epoch 109: Train acc: 0.8379281537176274, Train loss: 1.4082813262939453 |Validation acc: 0.8095238095238095, Validation loss: 1.374345098223005\n",
            "Epoch 110: Train acc: 0.8404344193817878, Train loss: 1.4059133027729236 |Validation acc: 0.8107769423558897, Validation loss: 1.3729201725551061\n",
            "Epoch 111: Train acc: 0.8412698412698413, Train loss: 1.4036941528320312 |Validation acc: 0.8107769423558897, Validation loss: 1.3715620040893555\n",
            "Epoch 112: Train acc: 0.8429406850459482, Train loss: 1.4012834649336965 |Validation acc: 0.8107769423558897, Validation loss: 1.3702032906668526\n",
            "Epoch 113: Train acc: 0.8437761069340016, Train loss: 1.3991730338648747 |Validation acc: 0.8132832080200502, Validation loss: 1.3689047949654716\n",
            "Epoch 114: Train acc: 0.8454469507101086, Train loss: 1.396972053929379 |Validation acc: 0.8132832080200502, Validation loss: 1.3675696509225028\n",
            "Epoch 115: Train acc: 0.8467000835421888, Train loss: 1.3946551272743626 |Validation acc: 0.8145363408521303, Validation loss: 1.3662618909563338\n",
            "Epoch 116: Train acc: 0.8483709273182958, Train loss: 1.3927523964329769 |Validation acc: 0.8132832080200502, Validation loss: 1.3650173459734236\n",
            "Epoch 117: Train acc: 0.8492063492063492, Train loss: 1.3903474305805408 |Validation acc: 0.8145363408521303, Validation loss: 1.3637358801705497\n",
            "Epoch 118: Train acc: 0.8508771929824561, Train loss: 1.3884658813476562 |Validation acc: 0.8157894736842105, Validation loss: 1.3625764846801758\n",
            "Epoch 119: Train acc: 0.8512949039264829, Train loss: 1.386218924271433 |Validation acc: 0.8157894736842105, Validation loss: 1.3613313947405135\n",
            "Epoch 120: Train acc: 0.8521303258145363, Train loss: 1.3842442161158512 |Validation acc: 0.8170426065162907, Validation loss: 1.3602000645228796\n",
            "Epoch 121: Train acc: 0.8550543024227235, Train loss: 1.382232666015625 |Validation acc: 0.8195488721804511, Validation loss: 1.3590399878365653\n",
            "Epoch 122: Train acc: 0.8571428571428571, Train loss: 1.3800968370939557 |Validation acc: 0.8195488721804511, Validation loss: 1.3579285485403878\n",
            "Epoch 123: Train acc: 0.8583959899749374, Train loss: 1.37815344961066 |Validation acc: 0.8208020050125313, Validation loss: 1.3568387712751115\n",
            "Epoch 124: Train acc: 0.8600668337510443, Train loss: 1.3761659923352694 |Validation acc: 0.8220551378446115, Validation loss: 1.3558244705200195\n",
            "Epoch 125: Train acc: 0.8634085213032582, Train loss: 1.3742306357935856 |Validation acc: 0.8258145363408521, Validation loss: 1.3547936848231725\n",
            "Epoch 126: Train acc: 0.8646616541353384, Train loss: 1.3722343444824219 |Validation acc: 0.8270676691729323, Validation loss: 1.3537569046020508\n",
            "Epoch 127: Train acc: 0.8663324979114453, Train loss: 1.3703616292853105 |Validation acc: 0.8308270676691729, Validation loss: 1.3528225762503487\n",
            "Epoch 128: Train acc: 0.8671679197994987, Train loss: 1.3684214541786595 |Validation acc: 0.8320802005012531, Validation loss: 1.3517871584211076\n",
            "Epoch 129: Train acc: 0.868421052631579, Train loss: 1.3666146930895353 |Validation acc: 0.8320802005012531, Validation loss: 1.3508976527622767\n",
            "Epoch 130: Train acc: 0.868421052631579, Train loss: 1.3646068572998047 |Validation acc: 0.8333333333333334, Validation loss: 1.3499033791678292\n",
            "Epoch 131: Train acc: 0.8696741854636592, Train loss: 1.3628976721512644 |Validation acc: 0.8358395989974937, Validation loss: 1.3490502493722099\n",
            "Epoch 132: Train acc: 0.8713450292397661, Train loss: 1.3609252728913959 |Validation acc: 0.8370927318295739, Validation loss: 1.3480277742658342\n",
            "Epoch 133: Train acc: 0.8713450292397661, Train loss: 1.359206149452611 |Validation acc: 0.8383458646616542, Validation loss: 1.3473245075770788\n",
            "Epoch 134: Train acc: 0.8717627401837929, Train loss: 1.3573604382966693 |Validation acc: 0.8383458646616542, Validation loss: 1.346301487513951\n",
            "Epoch 135: Train acc: 0.873015873015873, Train loss: 1.35557044179816 |Validation acc: 0.8395989974937343, Validation loss: 1.3455756051199776\n",
            "Epoch 136: Train acc: 0.8755221386800334, Train loss: 1.3538485075298108 |Validation acc: 0.8395989974937343, Validation loss: 1.34459045955113\n",
            "Epoch 137: Train acc: 0.8759398496240601, Train loss: 1.3521201485081722 |Validation acc: 0.8383458646616542, Validation loss: 1.3438588551112585\n",
            "Epoch 138: Train acc: 0.8776106934001671, Train loss: 1.3504383689478825 |Validation acc: 0.8370927318295739, Validation loss: 1.3429779325212752\n",
            "Epoch 139: Train acc: 0.8805346700083542, Train loss: 1.3487144269441302 |Validation acc: 0.8370927318295739, Validation loss: 1.342202867780413\n",
            "Epoch 140: Train acc: 0.8813700918964077, Train loss: 1.3471135591205798 |Validation acc: 0.8370927318295739, Validation loss: 1.3413426535470145\n",
            "Epoch 141: Train acc: 0.8817878028404345, Train loss: 1.345353176719264 |Validation acc: 0.8370927318295739, Validation loss: 1.3405590057373047\n",
            "Epoch 142: Train acc: 0.8822055137844611, Train loss: 1.3438414523476048 |Validation acc: 0.8370927318295739, Validation loss: 1.3397470201764787\n",
            "Epoch 143: Train acc: 0.8826232247284879, Train loss: 1.3421023519415605 |Validation acc: 0.8370927318295739, Validation loss: 1.3389545168195451\n",
            "Epoch 144: Train acc: 0.883876357560568, Train loss: 1.3405651293302838 |Validation acc: 0.8370927318295739, Validation loss: 1.3381479808262415\n",
            "Epoch 145: Train acc: 0.8842940685045948, Train loss: 1.3389136665745784 |Validation acc: 0.8370927318295739, Validation loss: 1.3373896735055106\n",
            "Epoch 146: Train acc: 0.8847117794486216, Train loss: 1.3373782509251644 |Validation acc: 0.8370927318295739, Validation loss: 1.3365726470947266\n",
            "Epoch 147: Train acc: 0.8863826232247285, Train loss: 1.3357763792339123 |Validation acc: 0.8370927318295739, Validation loss: 1.3358237402779716\n",
            "Epoch 148: Train acc: 0.8876357560568087, Train loss: 1.3342303225868626 |Validation acc: 0.8383458646616542, Validation loss: 1.3350061689104353\n",
            "Epoch 149: Train acc: 0.8876357560568087, Train loss: 1.3327158877724095 |Validation acc: 0.8383458646616542, Validation loss: 1.3343282427106584\n",
            "Epoch 150: Train acc: 0.8884711779448622, Train loss: 1.3311833833393298 |Validation acc: 0.8408521303258145, Validation loss: 1.3334899629865373\n",
            "Finished Training\n"
          ],
          "name": "stdout"
        }
      ]
    },
    {
      "cell_type": "code",
      "metadata": {
        "id": "whqbrHBgdBl9",
        "colab_type": "code",
        "colab": {
          "base_uri": "https://localhost:8080/",
          "height": 607
        },
        "outputId": "16562e40-2a7c-4e06-8330-3171e3a0f445"
      },
      "source": [
        "model_path = get_model_name(\"alexnet_ann\", batch_size=128, learning_rate=0.001, epoch=99)\n",
        "plot_training_curve('/content/' + model_path)"
      ],
      "execution_count": 46,
      "outputs": [
        {
          "output_type": "display_data",
          "data": {
            "image/png": "[encoded data removed]",
            "text/plain": [
              "<Figure size 432x288 with 1 Axes>"
            ]
          },
          "metadata": {
            "tags": []
          }
        },
        {
          "output_type": "display_data",
          "data": {
            "image/png": "[encoded data removed]",
            "text/plain": [
              "<Figure size 432x288 with 1 Axes>"
            ]
          },
          "metadata": {
            "tags": []
          }
        },
        {
          "output_type": "stream",
          "text": [
            "Final Training Accuracy: 0.8199665831244779\n",
            "Final Validation Accuracy: 0.793233082706767\n"
          ],
          "name": "stdout"
        }
      ]
    },
    {
      "cell_type": "code",
      "metadata": {
        "id": "30WPqbIRdG4g",
        "colab_type": "code",
        "colab": {
          "base_uri": "https://localhost:8080/",
          "height": 607
        },
        "outputId": "d4a1f11d-da6b-47dd-b358-f8ac46cd9cef"
      },
      "source": [
        "model_path = get_model_name(\"alexnet_ann\", batch_size=128, learning_rate=0.001, epoch=149)\n",
        "plot_training_curve('/content/' + model_path)"
      ],
      "execution_count": 48,
      "outputs": [
        {
          "output_type": "display_data",
          "data": {
            "image/png": "[encoded data removed]",
            "text/plain": [
              "<Figure size 432x288 with 1 Axes>"
            ]
          },
          "metadata": {
            "tags": []
          }
        },
        {
          "output_type": "display_data",
          "data": {
            "image/png": "[encoded data removed]",
            "text/plain": [
              "<Figure size 432x288 with 1 Axes>"
            ]
          },
          "metadata": {
            "tags": []
          }
        },
        {
          "output_type": "stream",
          "text": [
            "Final Training Accuracy: 0.8884711779448622\n",
            "Final Validation Accuracy: 0.8408521303258145\n"
          ],
          "name": "stdout"
        }
      ]
    }
  ]
}