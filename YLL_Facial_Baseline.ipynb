{
  "nbformat": 4,
  "nbformat_minor": 0,
  "metadata": {
    "colab": {
      "name": "YLL_Facial_Baseline.ipynb",
      "provenance": [],
      "collapsed_sections": [],
      "include_colab_link": true
    },
    "kernelspec": {
      "name": "python3",
      "display_name": "Python 3"
    },
    "accelerator": "GPU"
  },
  "cells": [
    {
      "cell_type": "markdown",
      "metadata": {
        "id": "view-in-github",
        "colab_type": "text"
      },
      "source": [
        "<a href=\"https://colab.research.google.com/github/yanli499/ChatTime/blob/master/YLL_Facial_Baseline.ipynb\" target=\"_parent\"><img src=\"https://colab.research.google.com/assets/colab-badge.svg\" alt=\"Open In Colab\"/></a>"
      ]
    },
    {
      "cell_type": "code",
      "metadata": {
        "id": "0ph67Rh_ZtMp",
        "colab_type": "code",
        "colab": {}
      },
      "source": [
        "import os\n",
        "import shutil\n",
        "import copy\n",
        "import time\n",
        "import random\n",
        "import numpy as np\n",
        "import torch\n",
        "import torch.nn as nn\n",
        "import torch.nn.functional as F\n",
        "import torch.optim as optim\n",
        "import torchvision\n",
        "import torchvision.models\n",
        "import torchvision.transforms as transforms\n",
        "import matplotlib.pyplot as plt\n",
        "\n",
        "from PIL import Image\n",
        "from torchvision import datasets, models, transforms\n",
        "from torch.optim import lr_scheduler\n",
        "from torch.autograd import Variable"
      ],
      "execution_count": 0,
      "outputs": []
    },
    {
      "cell_type": "code",
      "metadata": {
        "id": "txTe4uI1Vlcj",
        "colab_type": "code",
        "outputId": "fef09c39-6db8-4338-e8e1-f29055d2fad7",
        "colab": {
          "base_uri": "https://localhost:8080/",
          "height": 123
        }
      },
      "source": [
        "# Mount our Google Drive\n",
        "# re-run whenever needed\n",
        "from google.colab import drive\n",
        "drive.mount('/content/drive')"
      ],
      "execution_count": 0,
      "outputs": [
        {
          "output_type": "stream",
          "text": [
            "Go to this URL in a browser: https://accounts.google.com/o/oauth2/auth?client_id=947318989803-6bn6qk8qdgf4n4g3pfee6491hc0brc4i.apps.googleusercontent.com&redirect_uri=urn%3Aietf%3Awg%3Aoauth%3A2.0%3Aoob&scope=email%20https%3A%2F%2Fwww.googleapis.com%2Fauth%2Fdocs.test%20https%3A%2F%2Fwww.googleapis.com%2Fauth%2Fdrive%20https%3A%2F%2Fwww.googleapis.com%2Fauth%2Fdrive.photos.readonly%20https%3A%2F%2Fwww.googleapis.com%2Fauth%2Fpeopleapi.readonly&response_type=code\n",
            "\n",
            "Enter your authorization code:\n",
            "··········\n",
            "Mounted at /content/drive\n"
          ],
          "name": "stdout"
        }
      ]
    },
    {
      "cell_type": "code",
      "metadata": {
        "id": "yHHrxjjGWxBq",
        "colab_type": "code",
        "colab": {}
      },
      "source": [
        "# re-run when needed\n",
        "# classes are folders in each directory with these names\n",
        "classes = ['afraid','angry','disgusted','happy','neutral','sad','surprised']\n",
        "\n",
        "# emotion label for KDEF photos\n",
        "emotion_code = {\"AF\":\"afraid\", \"AN\":\"angry\", \"DI\":\"disgusted\", \"HA\":\"happy\", \n",
        "                \"NE\":\"neutral\", \"SA\":\"sad\", \"SU\":\"surprised\"}\n",
        "emotion_enum = {\"afraid\":1, \"angry\":2, \"disgusted\":3, \"happy\":4, \n",
        "                \"neutral\":5, \"sad\":6, \"surprised\":7}\n",
        "\n",
        "fileset = ['train', 'val', 'test']\n",
        "\n",
        "data_dir='/content/drive/My Drive/Colab Notebooks/Faces'"
      ],
      "execution_count": 0,
      "outputs": []
    },
    {
      "cell_type": "code",
      "metadata": {
        "id": "5MiQJGXGWxyT",
        "colab_type": "code",
        "outputId": "26042ead-c640-44fd-804e-ea85e04c76b0",
        "colab": {
          "base_uri": "https://localhost:8080/",
          "height": 378
        }
      },
      "source": [
        "data = []\n",
        "target = []\n",
        "\n",
        "for f in fileset:\n",
        "    file_dir = data_dir + '/' + f\n",
        "    for c in classes:\n",
        "        filepath = file_dir + '/' + c\n",
        "        print(filepath)\n",
        "        for file in os.listdir(filepath):\n",
        "            target.append(emotion_enum[c])\n",
        "            im = Image.open(filepath + \"/\" + file)\n",
        "            im = im.crop((16, 16, 240, 240))\n",
        "            np_im = np.array(im)\n",
        "            np_im = np.ravel(np_im)\n",
        "            data.append(np_im)"
      ],
      "execution_count": 0,
      "outputs": [
        {
          "output_type": "stream",
          "text": [
            "/content/drive/My Drive/Colab Notebooks/Faces/train/afraid\n",
            "/content/drive/My Drive/Colab Notebooks/Faces/train/angry\n",
            "/content/drive/My Drive/Colab Notebooks/Faces/train/disgusted\n",
            "/content/drive/My Drive/Colab Notebooks/Faces/train/happy\n",
            "/content/drive/My Drive/Colab Notebooks/Faces/train/neutral\n",
            "/content/drive/My Drive/Colab Notebooks/Faces/train/sad\n",
            "/content/drive/My Drive/Colab Notebooks/Faces/train/surprised\n",
            "/content/drive/My Drive/Colab Notebooks/Faces/val/afraid\n",
            "/content/drive/My Drive/Colab Notebooks/Faces/val/angry\n",
            "/content/drive/My Drive/Colab Notebooks/Faces/val/disgusted\n",
            "/content/drive/My Drive/Colab Notebooks/Faces/val/happy\n",
            "/content/drive/My Drive/Colab Notebooks/Faces/val/neutral\n",
            "/content/drive/My Drive/Colab Notebooks/Faces/val/sad\n",
            "/content/drive/My Drive/Colab Notebooks/Faces/val/surprised\n",
            "/content/drive/My Drive/Colab Notebooks/Faces/test/afraid\n",
            "/content/drive/My Drive/Colab Notebooks/Faces/test/angry\n",
            "/content/drive/My Drive/Colab Notebooks/Faces/test/disgusted\n",
            "/content/drive/My Drive/Colab Notebooks/Faces/test/happy\n",
            "/content/drive/My Drive/Colab Notebooks/Faces/test/neutral\n",
            "/content/drive/My Drive/Colab Notebooks/Faces/test/sad\n",
            "/content/drive/My Drive/Colab Notebooks/Faces/test/surprised\n"
          ],
          "name": "stdout"
        }
      ]
    },
    {
      "cell_type": "code",
      "metadata": {
        "id": "CUX8VFe0uIBb",
        "colab_type": "code",
        "outputId": "ef529b19-2218-4150-e148-2080b341cd51",
        "colab": {
          "base_uri": "https://localhost:8080/",
          "height": 189
        }
      },
      "source": [
        "# importing necessary libraries \n",
        "from sklearn import datasets \n",
        "from sklearn.metrics import confusion_matrix \n",
        "from sklearn.model_selection import train_test_split \n",
        "\n",
        "# # loading the dataset\n",
        "# faces = datasets.fetch_olivetti_faces()\n",
        "# X = faces.data\n",
        "# y = faces.target\n",
        "X = np.array(data)\n",
        "y = np.array(target)\n",
        "\n",
        "print(X.shape)\n",
        "print(y.shape)\n",
        "\n",
        "# thus, need to create data w shape (7 * 140, 224 * 224) for total # of samples\n",
        "# and each row = pixel of photo\n",
        "# target = labels of all samples\n",
        "\n",
        "# dividing X, y into train and test data \n",
        "X_train, X_test, y_train, y_test = train_test_split(X, y, random_state = 0) \n",
        "\n",
        "# training a Naive Bayes classifier \n",
        "from sklearn.naive_bayes import GaussianNB \n",
        "gnb = GaussianNB().fit(X_train, y_train) \n",
        "gnb_predictions = gnb.predict(X_test) \n",
        "\n",
        "# accuracy on X_test \n",
        "accuracy = gnb.score(X_test, y_test) \n",
        "print(accuracy)\n",
        "\n",
        "# creating a confusion matrix \n",
        "cm = confusion_matrix(y_test, gnb_predictions) \n",
        "print(cm)"
      ],
      "execution_count": 0,
      "outputs": [
        {
          "output_type": "stream",
          "text": [
            "(833, 50176)\n",
            "(833,)\n",
            "0.3157894736842105\n",
            "[[17  3  0  6  4  0  3]\n",
            " [ 8  8  0  2  3  0  1]\n",
            " [ 8  4  0  7  2  1  2]\n",
            " [ 3  2  0 25  1  0  1]\n",
            " [10  0  0  9  5  0  6]\n",
            " [12  3  0  7  6  0  3]\n",
            " [15  6  0  2  3  0 11]]\n"
          ],
          "name": "stdout"
        }
      ]
    }
  ]
}